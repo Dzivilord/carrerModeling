{
 "cells": [
  {
   "cell_type": "markdown",
   "metadata": {},
   "source": [
    "Thực hiện cào dữ liệu với các thông tin sau:\n",
    "\n",
    "- Link : Đường dẫn của job.\n",
    "- Location: Địa điểm.\n",
    "- Update Date: Ngày up CV.\n",
    "- Deadline: Hạn nộp CV.\n",
    "- Salary: Lương.\n",
    "- Experience: Kinh nghiệm.\n",
    "- Rank: Cấp bậc.\n",
    "- Job type: Loại ngành nghề.\n",
    "- Briefcase:\n",
    "- Welfare: Phúc lợi.\n",
    "- Job Description: Mô tả công việc.\n",
    "- Job Requirement: Yêu cầu công việc.\n",
    "- Job Location: Địa điểm làm việc.\n",
    "- Other Information: Thông tin khác.\n",
    "\n",
    "_executable_path_ mọi người tải về chromedriver.exe phù hợp với phiên bản của Chrome đang xài rồi dán đường dẫn chứa chromedriver.exe để cào dữ liệu. Còn trình duyệt khác thì không rõ."
   ]
  },
  {
   "cell_type": "code",
   "execution_count": null,
   "metadata": {},
   "outputs": [],
   "source": [
    "# Necessary Packages \n",
    "from bs4 import BeautifulSoup\n",
    "import pandas as pd\n",
    "import time\n",
    "import random\n",
    "from selenium import webdriver\n",
    "from selenium.webdriver.common.by import By\n",
    "from selenium.webdriver.chrome.options import Options"
   ]
  },
  {
   "cell_type": "code",
   "execution_count": null,
   "metadata": {},
   "outputs": [],
   "source": [
    "BASE_URL = \"https://careerviet.vn/viec-lam/\"\n",
    "\n",
    "# Set up the Chrome Options\n",
    "executable_path = \"D:/KHTN/datascienceintro/chromedriver-win64/chromedriver-win64/chromedriver.exe\""
   ]
  },
  {
   "cell_type": "code",
   "execution_count": null,
   "metadata": {},
   "outputs": [],
   "source": [
    "def crawlJobLinks(pageStart: int,pageEnd:int) -> list:\n",
    "    chrome_options=Options()\n",
    "    prefs = {\n",
    "    \"profile.default_content_setting_values.geolocation\": 2  # 2 means block\n",
    "    }\n",
    "    chrome_options.add_experimental_option(\"prefs\", prefs)\n",
    "\n",
    "    driver = webdriver.Chrome(executable_path=executable_path,options=chrome_options)\n",
    "    job_links_list=[]\n",
    "    for page in range(pageStart,pageEnd+1):\n",
    "        url= f\"{BASE_URL}tat-ca-viec-lam-trang-{page}-vi.html\"\n",
    "        driver.get(url)\n",
    "        time.sleep(random.randint(5, 10))\n",
    "        for job in driver.find_elements(By.CSS_SELECTOR,'h2 > .job_link'):\n",
    "            job_links_list.append(job.get_attribute('href'))\n",
    "        \n",
    "    driver.quit()\n",
    "    return job_links_list"
   ]
  },
  {
   "cell_type": "code",
   "execution_count": null,
   "metadata": {},
   "outputs": [],
   "source": [
    "def getInfoJob(job_url) -> list:\n",
    "    chrome_options=Options()\n",
    "    prefs = {\n",
    "    \"profile.default_content_setting_values.geolocation\": 2  # 2 means block\n",
    "    }\n",
    "    chrome_options.add_experimental_option(\"prefs\", prefs)\n",
    "\n",
    "    driver = webdriver.Chrome(executable_path=\"D:/KHTN/datascienceintro/chromedriver-win64/chromedriver-win64/chromedriver.exe\",options=chrome_options)\n",
    "    \n",
    "    driver.get(job_url)\n",
    "    time.sleep(random.randint(5, 10))\n",
    "    #Địa điểm\n",
    "    try:\n",
    "        location_element=driver.find_element(By.CSS_SELECTOR,\".map p a\")\n",
    "        location=location_element.text\n",
    "    except:\n",
    "        location=\"Not Found\"\n",
    "\n",
    "    #Ngày cập nhật\n",
    "    try:\n",
    "        update_date=driver.find_element(By.XPATH,\"//strong[contains(text(),'Ngày cập nhật')]/following-sibling::p\").text\n",
    "    except:\n",
    "        update_date=\"Not Found\"\n",
    "\n",
    "    #Loại ngành nghề\n",
    "    try:\n",
    "        li_briefcase_element = driver.find_element(By.CSS_SELECTOR,\"li:has(.mdi-briefcase)\")\n",
    "        a_briefcase_elements=li_briefcase_element.find_elements(By.CSS_SELECTOR,\"a\")\n",
    "        list_briefcase=\"\"\n",
    "        for link in a_briefcase_elements:\n",
    "            list_briefcase+=link.text+\", \"   \n",
    "        list_briefcase=list_briefcase.rstrip(\", \")\n",
    "    except:\n",
    "        list_briefcase=\"Not Found\"\n",
    "\n",
    "    #Hình thức\n",
    "    try:\n",
    "        job_type=driver.find_element(By.XPATH,\"//strong[contains(text(),'Hình thức')]/following-sibling::p\").text\n",
    "    except:\n",
    "        job_type=\"Not Found\"\n",
    "\n",
    "    #Lương\n",
    "    try:\n",
    "        salary=driver.find_element(By.XPATH,\"//strong[contains(text(),'Lương')]/following-sibling::p\").text\n",
    "    except:\n",
    "        salary=\"Not Found\"\n",
    "\n",
    "    #Kinh nghiệm\n",
    "    try:\n",
    "        experience=driver.find_element(By.XPATH,\"//strong[contains(text(),'Kinh nghiệm')]/following-sibling::p\").text\n",
    "    except:\n",
    "        experience=\"Not Found\"\n",
    "\n",
    "    #Cấp bậc\n",
    "    try:\n",
    "        rank=driver.find_element(By.XPATH,\"//strong[contains(text(),'Cấp bậc')]/following-sibling::p\").text\n",
    "    except:\n",
    "        rank=\"Not Found\"\n",
    "\n",
    "    #Deadline\n",
    "    try:\n",
    "        deadline=driver.find_element(By.XPATH,\"//strong[contains(text(),'Hết hạn nộp')]/following-sibling::p\").text\n",
    "    except:\n",
    "        deadline=\"Not Found\"\n",
    "\n",
    "    #Phúc lợi\n",
    "    try:\n",
    "        li_elements=driver.find_elements(By.CSS_SELECTOR,\".welfare-list > li\")\n",
    "        list_welfare=\"\"\n",
    "        for li in li_elements:\n",
    "            list_welfare+=li.text+\", \"\n",
    "        list_welfare=list_welfare.rstrip(\", \")\n",
    "    except:\n",
    "        job_description=\"Not Found\"\n",
    "\n",
    "    #Mô tả công việc\n",
    "    try:\n",
    "        h2_element=driver.find_element(By.CSS_SELECTOR,\".reset-bullet\")\n",
    "        job_description=h2_element.text\n",
    "    except:\n",
    "        job_description=\"Not Found\"\n",
    "\n",
    "\n",
    "    #Yêu cầu công việc\n",
    "    try:\n",
    "        h2_element=driver.find_element(By.CSS_SELECTOR,\".reset-bullet + .reset-bullet\")\n",
    "        job_requirement=h2_element.text\n",
    "    except:\n",
    "        job_requirement=\"Not Found\"\n",
    "\n",
    "    #Địa điểm làm việc\n",
    "    try:\n",
    "        place_element=driver.find_element(By.CSS_SELECTOR,\".place-name .place\")\n",
    "        job_location=place_element.text\n",
    "    except:\n",
    "        job_location=\"Not Found\"\n",
    "\n",
    "    #Thông tin khác\n",
    "    try:\n",
    "        other_info_element=driver.find_element(By.CSS_SELECTOR,\".content_fck\")\n",
    "        other_info=other_info_element.text\n",
    "    except:\n",
    "        other_info=\"Not Found\"\n",
    "\n",
    "    driver.quit()\n",
    "\n",
    "\n",
    "    job_information=[job_url,location,update_date,deadline,salary,experience,rank,job_type,list_briefcase,list_welfare,job_description,job_requirement,job_location,other_info]\n",
    "\n",
    "    return job_information "
   ]
  },
  {
   "cell_type": "code",
   "execution_count": null,
   "metadata": {},
   "outputs": [],
   "source": [
    "def crawlJobInformation(job_urls) -> pd.DataFrame:\n",
    "    job_information_list=[]\n",
    "    for job_url in job_urls:\n",
    "        job_information=getInfoJob(job_url)\n",
    "        job_information_list.append(job_information)\n",
    "    df=pd.DataFrame(job_information_list,columns=[\"Link\",\"Location\",\"Update Date\",\"Deadline\",\"Salary\",\"Experience\",\"Rank\",\"Job Type\",\"Briefcase\",\"Welfare\",\"Job Description\",\"Job Requirement\",\"Job Location\",\"Other Information\"])\n",
    "    return df"
   ]
  },
  {
   "cell_type": "code",
   "execution_count": 13,
   "metadata": {},
   "outputs": [
    {
     "name": "stderr",
     "output_type": "stream",
     "text": [
      "C:\\Users\\queol\\AppData\\Local\\Temp\\ipykernel_28620\\3593696083.py:8: DeprecationWarning: executable_path has been deprecated, please pass in a Service object\n",
      "  driver = webdriver.Chrome(executable_path=executable_path,options=chrome_options)\n"
     ]
    }
   ],
   "source": [
    "pageStart=1\n",
    "pageEnd=3\n",
    "job_urls=crawlJobLinks(pageStart=1,pageEnd=3)"
   ]
  },
  {
   "cell_type": "code",
   "execution_count": null,
   "metadata": {},
   "outputs": [],
   "source": [
    "\n",
    "df=crawlJobInformation(job_urls)\n"
   ]
  },
  {
   "cell_type": "code",
   "execution_count": null,
   "metadata": {},
   "outputs": [],
   "source": [
    "df.to_csv(\"job_information.csv\",index=False,encoding=\"utf-8-sig\")"
   ]
  }
 ],
 "metadata": {
  "kernelspec": {
   "display_name": "min_ds-env2",
   "language": "python",
   "name": "python3"
  },
  "language_info": {
   "codemirror_mode": {
    "name": "ipython",
    "version": 3
   },
   "file_extension": ".py",
   "mimetype": "text/x-python",
   "name": "python",
   "nbconvert_exporter": "python",
   "pygments_lexer": "ipython3",
   "version": "3.10.15"
  }
 },
 "nbformat": 4,
 "nbformat_minor": 2
}
