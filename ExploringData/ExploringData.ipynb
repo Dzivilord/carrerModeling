{
 "cells": [
  {
   "cell_type": "markdown",
   "metadata": {},
   "source": [
    "## Khám phá dữ liệu"
   ]
  },
  {
   "cell_type": "markdown",
   "metadata": {},
   "source": [
    "## Mục lục\n",
    "- [I. Tổng quan dữ liệu và tóm tắt vấn đề](#i)\n",
    "    - [1. Thêm thư viện cần thiết và đọc dữ liệu](#i1)\n",
    "    - [2. Thông tin cơ bản](#i2)\n",
    "    - [3. Tóm tắt vấn đề cần xử lí](#i3)\n",
    "- [II. Tiền xử lí cơ bản](#ii)\n",
    "    - [1. Loại bỏ các dòng có job name là not specified](#ii1)\n",
    "    - [2. Loại các bài tuyển dụng đăng lại nhiều lần](#ii2)\n",
    "    - [3. Kiểm tra và xử lý dữ liệu null](#ii3)\n",
    "    - [4. Chuyển các cột thành các kiểu dữ liệu phù hợp](#ii4)\n",
    "    - [5. Đưa các cột cần thiết về  kiểu category](#ii5)\n",
    "    - [6. Loại bỏ các cột không có giá trị trực quan](#ii6)\n",
    "- [III. Tiền xử lí chuyên sâu](#iii)\n",
    "    - [1. Xử lý cột Location](#iii1)\n",
    "    - [2. Xử lý cột Experience](#iii2)\n",
    "    - [3. Xử lý cột Salary](#iii3)\n",
    "    - [4. Xử lý cột Industry](#iii4)\n",
    "- [IV. Dịch các cột cần thiết sang tiếng Anh và tách ra thành danh sách](#iv)\n",
    "    - [1. Xử lý cột Job Requirements](#iv1)\n",
    "- [V. Tối ưu dữ liệu để trực quan](#v)\n",
    "    - [1. Kiểm tra dữ liệu mang giá trị Not specified hay lỗi chính tả](#v1)\n",
    "    - [2. Sự phân bố của các cột numerical](#v2)\n",
    "    - [3. Sự phân bố của các cột categorical](#v3)\n",
    "- [VI. Lưu dữ liệu](#vi)"
   ]
  },
  {
   "cell_type": "markdown",
   "metadata": {},
   "source": [
    "## I. Tổng quan dữ liệu và tóm tắt vấn dề <a id=\"i\"></a>"
   ]
  },
  {
   "cell_type": "markdown",
   "metadata": {},
   "source": [
    "### 1. Thêm thư viện cần thiết và đọc dữ liệu <a id=\"i1\"></a>"
   ]
  },
  {
   "cell_type": "code",
   "execution_count": 1,
   "metadata": {},
   "outputs": [],
   "source": [
    "import pandas as pd\n",
    "import matplotlib.pyplot as plt\n",
    "import seaborn as sns \n",
    "import re\n",
    "import numpy as np\n",
    "from matplotlib.gridspec import GridSpec\n",
    "from sklearn.linear_model import LinearRegression"
   ]
  },
  {
   "cell_type": "markdown",
   "metadata": {},
   "source": [
    "Xóa các dòng link bị trùng trong file job_links.txt"
   ]
  },
  {
   "cell_type": "code",
   "execution_count": 2,
   "metadata": {},
   "outputs": [
    {
     "data": {
      "text/plain": [
       "\"\\n# Đọc link từ file job_links2.txt, nếu khác các link trong job_links.txt thì thêm vào job_links3.txt\\nwith open('../CollectingData/job_links2.txt', 'r') as f:\\n    job_links2 = f.read().splitlines()\\nwith open('../CollectingData/job_links.txt', 'r') as f:\\n    job_links = f.read().splitlines()\\nwith open('../CollectingData/job_links3.txt', 'r') as f:\\n    job_links3 = f.read().splitlines()\\nfor link in job_links2:\\n    if link not in job_links:\\n        job_links3.append(link)\\nwith open('../CollectingData/job_links3.txt', 'w') as f:\\n    for link in job_links3:\\n        f.write(link + '\\n')\\n\""
      ]
     },
     "execution_count": 2,
     "metadata": {},
     "output_type": "execute_result"
    }
   ],
   "source": [
    "'''\n",
    "# Đọc link từ file job_links2.txt, nếu khác các link trong job_links.txt thì thêm vào job_links3.txt\n",
    "with open('../CollectingData/job_links2.txt', 'r') as f:\n",
    "    job_links2 = f.read().splitlines()\n",
    "with open('../CollectingData/job_links.txt', 'r') as f:\n",
    "    job_links = f.read().splitlines()\n",
    "with open('../CollectingData/job_links3.txt', 'r') as f:\n",
    "    job_links3 = f.read().splitlines()\n",
    "for link in job_links2:\n",
    "    if link not in job_links:\n",
    "        job_links3.append(link)\n",
    "with open('../CollectingData/job_links3.txt', 'w') as f:\n",
    "    for link in job_links3:\n",
    "        f.write(link + '\\n')\n",
    "'''"
   ]
  },
  {
   "cell_type": "markdown",
   "metadata": {},
   "source": [
    "Lấy thêm các link mới cập nhật trên trang careerviet"
   ]
  },
  {
   "cell_type": "code",
   "execution_count": 3,
   "metadata": {},
   "outputs": [
    {
     "data": {
      "text/plain": [
       "\"\\n# Đếm số dòng trong file job_links.txt\\nwith open('../dataset/job_links.txt', 'r') as f:\\n    job_links = f.readlines()\\nprint(len(job_links))\\n\\n# Đọc file job_links.txt và xóa các dòng link bị trùng lặp\\nwith open('../dataset/job_links.txt', 'r') as f:\\n    job_links = f.readlines()\\njob_links = list(set(job_links))\\n\\n# Ghi lại vào file job_links.txt\\nwith open('../dataset/job_links.txt', 'w') as f:\\n    for job_link in job_links:\\n        f.write(job_link)\\n\\nprint(len(job_links))\\n\""
      ]
     },
     "execution_count": 3,
     "metadata": {},
     "output_type": "execute_result"
    }
   ],
   "source": [
    "'''\n",
    "# Đếm số dòng trong file job_links.txt\n",
    "with open('../dataset/job_links.txt', 'r') as f:\n",
    "    job_links = f.readlines()\n",
    "print(len(job_links))\n",
    "\n",
    "# Đọc file job_links.txt và xóa các dòng link bị trùng lặp\n",
    "with open('../dataset/job_links.txt', 'r') as f:\n",
    "    job_links = f.readlines()\n",
    "job_links = list(set(job_links))\n",
    "\n",
    "# Ghi lại vào file job_links.txt\n",
    "with open('../dataset/job_links.txt', 'w') as f:\n",
    "    for job_link in job_links:\n",
    "        f.write(job_link)\n",
    "\n",
    "print(len(job_links))\n",
    "'''"
   ]
  },
  {
   "cell_type": "code",
   "execution_count": 4,
   "metadata": {},
   "outputs": [
    {
     "name": "stderr",
     "output_type": "stream",
     "text": [
      "\n",
      "KeyboardInterrupt\n",
      "\n"
     ]
    }
   ],
   "source": [
    "# Đọc file csv\n",
    "data = pd.read_csv('../dataset/job_data_new.csv')\n",
    "data.head()"
   ]
  },
  {
   "cell_type": "markdown",
   "metadata": {},
   "source": [
    "### 2. Thông tin cơ bản <a id=\"i2\"></a>"
   ]
  },
  {
   "cell_type": "markdown",
   "metadata": {},
   "source": [
    "#### 2.1 Bộ dữ liệu có bao nhiêu dòng và cột?"
   ]
  },
  {
   "cell_type": "code",
   "execution_count": null,
   "metadata": {},
   "outputs": [],
   "source": [
    "data.shape"
   ]
  },
  {
   "cell_type": "markdown",
   "metadata": {},
   "source": [
    "Bộ dữ liệu có 26361 dòng và 23 cột"
   ]
  },
  {
   "cell_type": "markdown",
   "metadata": {},
   "source": [
    "#### 2.2 Ý nghĩa của mỗi dòng là gì?"
   ]
  },
  {
   "cell_type": "markdown",
   "metadata": {},
   "source": [
    "Mỗi dòng trong bộ dữ liệu là một vị trí tuyển dụng mà các nhà tuyển dụng đang tìm kiếm. Với các thông tin như: `Tên công việc`, `Địa điểm làm việc`, `Ngày đăng bài`,..."
   ]
  },
  {
   "cell_type": "markdown",
   "metadata": {},
   "source": [
    "#### 2.3 Dữ liệu có bị trùng lặp không?"
   ]
  },
  {
   "cell_type": "code",
   "execution_count": null,
   "metadata": {},
   "outputs": [],
   "source": [
    "data.duplicated().sum()"
   ]
  },
  {
   "cell_type": "markdown",
   "metadata": {},
   "source": [
    "Tiến hành loại bỏ 28 dòng dữ liệu bị trùng lặp"
   ]
  },
  {
   "cell_type": "code",
   "execution_count": null,
   "metadata": {},
   "outputs": [],
   "source": [
    "data.drop_duplicates(inplace=True)\n",
    "data.info()"
   ]
  },
  {
   "cell_type": "markdown",
   "metadata": {},
   "source": [
    "Bộ dữ liệu còn 26333 dòng"
   ]
  },
  {
   "cell_type": "markdown",
   "metadata": {},
   "source": [
    "#### 2.4 Ý nghĩa của mỗi cột là gì?"
   ]
  },
  {
   "cell_type": "markdown",
   "metadata": {},
   "source": [
    "| Cột               | Mô tả                                                         |\n",
    "|-------------------|---------------------------------------------------------------|\n",
    "| Job Name          | Tên công việc                                                 |\n",
    "| Job Link          | Đường dẫn của job                                             |\n",
    "| Location          | Địa điểm                                                      |\n",
    "| Update Date       | Ngày up CV                                                    |\n",
    "| Deadline          | Hạn nộp CV                                                    |\n",
    "| Experience        | Kinh nghiệm                                                   |\n",
    "| Job Level         | Cấp bậc                                                       |\n",
    "| Industry          | Loại ngành nghề                                               |\n",
    "| Employment Type   | Hình thức làm việc                                            |\n",
    "| Welfare           | Phúc lợi                                                      |\n",
    "| Job Description   | Mô tả công việc                                               |\n",
    "| Job Requirement   | Yêu cầu công việc                                             |\n",
    "| Other Information | Thông tin khác                                                |\n",
    "| Job Tags          | Job Tags                                                      |\n",
    "| Company URL       | Đường dẫn đến trang công ty                                   |\n",
    "| Company Name      | Tên công ty                                                   |\n",
    "| Company Address   | Địa điểm của công ty                                          |\n",
    "| Company Scale     | Quy mô của công ty                                            |\n",
    "| Company Type      | Loại hình hoạt động                                           |\n",
    "| Company Website   | Website của công ty                                           |\n",
    "| Followers         | Số lượng người theo dõi                                       |\n",
    "| Company Intro     | Phần giới thiệu của công ty                                   |\n",
    "| Salary            | Lương                                                         |"
   ]
  },
  {
   "cell_type": "markdown",
   "metadata": {},
   "source": [
    "#### 2.5 Loại dữ liệu của từng cột là gì? Có phù hợp hay không?"
   ]
  },
  {
   "cell_type": "code",
   "execution_count": null,
   "metadata": {},
   "outputs": [],
   "source": [
    "data.info()"
   ]
  },
  {
   "cell_type": "code",
   "execution_count": null,
   "metadata": {},
   "outputs": [],
   "source": [
    "data.isnull().sum()"
   ]
  },
  {
   "cell_type": "markdown",
   "metadata": {},
   "source": [
    "Bộ dữ liệu chứa khá nhiều các dòng bị thiếu thông tin liên quan đến công ty của các vị trí tuyển dụng tương ứng. Tuy nhiên tùy vào mục đích sử dụng mà xem xét có bỏ hết những mẫu dữ liệu bị thiếu hay không."
   ]
  },
  {
   "cell_type": "markdown",
   "metadata": {},
   "source": [
    "### 3. Tóm tắt vấn đề cần xử lí <a id=\"i3\"></a>\n",
    "\n",
    "| Cột               | Mô tả                                                         | Vấn đề                              |\n",
    "|-------------------|---------------------------------------------------------------|-------------------------------------|\n",
    "| Job Name          | Tên công việc                                                 |Xóa các dòng mang g/trị Not Specified|\n",
    "| Job Link          | Đường dẫn của job                                             |Xóa lặp dựa trên Link của job        |\n",
    "| Location          | Địa điểm                                                      |                                     |\n",
    "| Update Date       | Ngày up CV                                                    |Chuyển về Datetime                   |\n",
    "| Deadline          | Hạn nộp CV                                                    |Chuyển về Datetime                   |\n",
    "| Experience        | Kinh nghiệm                                                   |Chỉ lấy phần số bên trái (min)       |\n",
    "| Job Level         | Cấp bậc                                                       |Loại bỏ dữ liệu trống (Not specific) |\n",
    "| Industry          | Loại ngành nghề                                               |Xóa khoảng trống và tách thành dsach |\n",
    "| Employment Type   | Hình thức làm việc                                            |Tiến hành dịch                       |\n",
    "| Welfare           | Phúc lợi                                                      |Dịch và tách thành dsach             |\n",
    "| Job Description   | Mô tả công việc                                               |Gộp với 2 cột bên dưới để trích xuất thêm thông tin|\n",
    "| Job Requirement   | Yêu cầu công việc                                             |Gộp                                  |\n",
    "| Other Information | Thông tin khác                                                |Gộp                                  |\n",
    "| Job Tags          | Job Tags                                                      |                                     |\n",
    "| Company URL       | Đường dẫn đến trang công ty                                   |                                     |\n",
    "| Company Name      | Tên công ty                                                   |                                     |\n",
    "| Company Address   | Địa điểm của công ty                                          |                                     |\n",
    "| Company Scale     | Quy mô của công ty                                            |                                     |\n",
    "| Company Type      | Loại hình hoạt động                                           |Xóa các dòng bị lỗi dấu              |\n",
    "| Company Website   | Website của công ty                                           |                                     |\n",
    "| Followers         | Số lượng người theo dõi                                       |Chuyển về dạng số nguyên             |\n",
    "| Company Intro     | Phần giới thiệu của công ty                                   |                                     |\n",
    "| Salary            | Lương                                                         |Định dạng và ép kiểu về kiểu dữ liệu phù hợp              |"
   ]
  },
  {
   "cell_type": "markdown",
   "metadata": {},
   "source": [
    "## II. Tiền xử lí cơ bản <a id=\"ii\"></a>"
   ]
  },
  {
   "cell_type": "markdown",
   "metadata": {},
   "source": [
    "### 1. Loại bỏ các dòng có job name là not specified <a id=\"ii1\"></a>"
   ]
  },
  {
   "cell_type": "code",
   "execution_count": null,
   "metadata": {},
   "outputs": [],
   "source": [
    "print(data.shape[0])\n",
    "\n",
    "# Bỏ các dòng có Job Name là Not specified\n",
    "data = data[data['Job Name'] != 'Not specified']\n",
    "\n",
    "print(data.shape[0])"
   ]
  },
  {
   "cell_type": "markdown",
   "metadata": {},
   "source": [
    "### 2. Loại các bài tuyển dụng đăng lại nhiều lần <a id=\"ii2\"></a>"
   ]
  },
  {
   "cell_type": "markdown",
   "metadata": {},
   "source": [
    "Nhóm nhận thấy một số công ty tạo ra bài đăng tuyển dụng giống như trước nhưng thay đổi một chút sau vài ngày -> tiến hành xóa dựa trên phần mô tả công việc, cấp bậc, địa điểm công việc, tên công ty"
   ]
  },
  {
   "cell_type": "code",
   "execution_count": null,
   "metadata": {},
   "outputs": [],
   "source": [
    "data = data.drop_duplicates()\n",
    "data = data.drop_duplicates(subset=['Job Description','Job Level','Company Name','Location'], keep='first')\n",
    "data.shape"
   ]
  },
  {
   "cell_type": "markdown",
   "metadata": {},
   "source": [
    "### 3. Kiểm tra và xử lý dữ liệu null <a id=\"ii3\"></a>"
   ]
  },
  {
   "cell_type": "code",
   "execution_count": null,
   "metadata": {},
   "outputs": [],
   "source": [
    "plt.subplots(figsize=(10,8))\n",
    "sns.heatmap(data.isnull())"
   ]
  },
  {
   "cell_type": "markdown",
   "metadata": {},
   "source": [
    "Với mục đích trực quan dữ liệu được chính xác hơn, như đã nói ở trên, nhóm sẽ tiến hành xóa các dòng dữ liệu null này"
   ]
  },
  {
   "cell_type": "code",
   "execution_count": 13,
   "metadata": {},
   "outputs": [],
   "source": [
    "# Xóa dòng có giá trị null\n",
    "data = data.dropna()"
   ]
  },
  {
   "cell_type": "code",
   "execution_count": null,
   "metadata": {},
   "outputs": [],
   "source": [
    "plt.subplots(figsize=(10,8))\n",
    "sns.heatmap(data.isnull())\n",
    "print(data.shape[0])"
   ]
  },
  {
   "cell_type": "markdown",
   "metadata": {},
   "source": [
    "### 4. Chuyển các cột thành các kiểu dữ liệu phù hợp <a id=\"ii4\"></a>"
   ]
  },
  {
   "cell_type": "markdown",
   "metadata": {},
   "source": [
    "\n",
    "| Cột               | Kiểu dữ liệu      |\n",
    "|-------------------|-------------------|\n",
    "| Location          | object            |\n",
    "| Experience        | int64             |\n",
    "| Job Level         | object            |\n",
    "| Industry          | object            |\n",
    "| Employment Type   | object            |\n",
    "| Welfare           | object            |\n",
    "| Job Requirements  | object            |\n",
    "| Salary            | object            |\n",
    "| Company Name      | object            |\n",
    "| Company Type      | object            |\n",
    "| Update Date       | datetime64[ns]    |\n",
    "| Deadline          | datetime64[ns]    |\n",
    "| Update Date_day   | int32             |\n",
    "| Update Date_month | int32             |\n",
    "| Update Date_year  | int32             |\n",
    "| Deadline_day      | int32             |\n",
    "| Deadline_month    | int32             |\n",
    "| Deadline_year     | int32             |"
   ]
  },
  {
   "cell_type": "code",
   "execution_count": null,
   "metadata": {},
   "outputs": [],
   "source": [
    "print(data.info())"
   ]
  },
  {
   "cell_type": "markdown",
   "metadata": {},
   "source": [
    "Chuyển 2 cột Update Date và Deadline về dạng Datetime và tách thành các cột ngày, tháng, năm"
   ]
  },
  {
   "cell_type": "code",
   "execution_count": 16,
   "metadata": {},
   "outputs": [],
   "source": [
    "# Bỏ các dòng mà cột Update Date hoặc Deadline có giá trị là Not specified\n",
    "data = data[(data['Update Date'] != 'Not specified') & (data['Deadline'] != 'Not specified')]\n",
    "data.shape\n",
    "\n",
    "# Chuyển 2 cột Update Date và Deadline về dạng Datetime và tách thành các cột ngày, tháng, năm\n",
    "data['Update Date'] = pd.to_datetime(data['Update Date'], dayfirst=True, errors='coerce')\n",
    "data['Deadline'] = pd.to_datetime(data['Deadline'], dayfirst=True, errors='coerce')\n",
    "\n",
    "data['Update Date_day'] = data['Update Date'].dt.day\n",
    "data['Update Date_month'] = data['Update Date'].dt.month\n",
    "data['Update Date_year'] = data['Update Date'].dt.year\n",
    "\n",
    "data['Deadline_day'] = data['Deadline'].dt.day\n",
    "data['Deadline_month'] = data['Deadline'].dt.month\n",
    "data['Deadline_year'] = data['Deadline'].dt.year"
   ]
  },
  {
   "cell_type": "markdown",
   "metadata": {},
   "source": [
    "### 5. Đưa các cột cần thiết về  kiểu category <a id=\"ii5\"></a>"
   ]
  },
  {
   "cell_type": "markdown",
   "metadata": {},
   "source": [
    "### 6. Loại bỏ các cột không có giá trị trực quan <a id=\"ii6\"></a>"
   ]
  },
  {
   "cell_type": "markdown",
   "metadata": {},
   "source": [
    "## III. Tiền xử lí chuyên sâu <a id=\"iii\"></a>"
   ]
  },
  {
   "cell_type": "code",
   "execution_count": 17,
   "metadata": {},
   "outputs": [],
   "source": [
    "# Thư viện cần thiết\n",
    "# from Trans_Tokenize import *\n",
    "import numpy as np\n",
    "import matplotlib.pyplot as plt\n",
    "import seaborn as sns\n",
    "import os\n",
    "import sys\n",
    "# from sklearn.model_selection import train_test_split\n",
    "# import math\n",
    "import unicodedata\n",
    "# import swifter\n",
    "# import nltk\n",
    "# from concurrent.futures import ThreadPoolExecutor\n",
    "# nltk.download('stopwords')"
   ]
  },
  {
   "cell_type": "markdown",
   "metadata": {},
   "source": [
    "### 1. Xử lý cột Location <a id=\"iii1\"></a>\n",
    "\n",
    "Chỉ lấy địa điểm ở đầu một chuỗi ở mỗi dòng của cột Location, vì đây là nơi đầu não công ty tọa lạc"
   ]
  },
  {
   "cell_type": "code",
   "execution_count": 18,
   "metadata": {},
   "outputs": [],
   "source": [
    "data['Location'] = data['Location'].apply(lambda x: x.split(',')[0].strip() if ',' in x else x.strip())\n",
    "\n",
    "data = data[~data['Location'].isin(['Not Specified', 'Not Found'])]"
   ]
  },
  {
   "cell_type": "markdown",
   "metadata": {},
   "source": [
    "### 2. Xử lý cột Experience <a id=\"iii2\"></a>\n",
    "\n",
    "Lấy giá trị bên trái của mẫu dữ liệu vì chủ yếu quan tâm đến năm kinh nghiệm tối thiểu cho vị trí tuyển dụng \n",
    "\n",
    "VD: 3-5 năm thì lấy 3"
   ]
  },
  {
   "cell_type": "code",
   "execution_count": 19,
   "metadata": {},
   "outputs": [],
   "source": [
    "def extract_number(value):\n",
    "    if 'Chưa có kinh nghiệm' in value:\n",
    "        return 0  # Nếu \"Chưa có kinh nghiệm\" trả về 0\n",
    "    elif match := re.match(r'(\\d+)\\s*-\\s*\\d+', value):  # Nếu định dạng là number - number\n",
    "        return int(match.group(1))  # Lấy số đầu tiên\n",
    "    elif match := re.search(r'\\d+', value):  # Nếu chỉ có một số duy nhất\n",
    "        return int(match.group(0))  # Lấy số đó\n",
    "    return 0"
   ]
  },
  {
   "cell_type": "code",
   "execution_count": 20,
   "metadata": {},
   "outputs": [],
   "source": [
    "data[\"Experience\"]=data[\"Experience\"].str.replace(\"\\n\",\"\",regex=True)\n",
    "data[\"Experience\"]=data[\"Experience\"].str.replace(\"Năm\",\"\",regex=True)\n",
    "data[\"Experience\"]=data[\"Experience\"].str.replace(r\"\\s+\",' ',regex=True).str.strip()\n",
    "data[\"Experience\"]=data[\"Experience\"].apply(extract_number)"
   ]
  },
  {
   "cell_type": "markdown",
   "metadata": {},
   "source": [
    "### 3. Xử lý cột Salary <a id=\"iii3\"></a>"
   ]
  },
  {
   "cell_type": "code",
   "execution_count": 21,
   "metadata": {},
   "outputs": [],
   "source": [
    "import re\n",
    "import math\n",
    "\n",
    "def extract_salary(value):\n",
    "    # Loại bỏ dấu phẩy trong số (để xử lý 700,000 => 700000)\n",
    "    value = value.replace(',', '')\n",
    "    value = value.replace('.', '')\n",
    "    \n",
    "    # Tách các con số trong chuỗi\n",
    "    numbers = re.findall(r'\\d+', value)\n",
    "    numbers = [int(num) for num in numbers]  # Chuyển các chuỗi số thành integer\n",
    "    \n",
    "    # Nếu có khoảng lương\n",
    "    if len(numbers) > 1:\n",
    "        # Nếu khoảng chênh lệch giữa hai giá trị quá lớn (ví dụ: 700 - 1,000 USD)\n",
    "        if (numbers[1] - numbers[0]) / numbers[0] > 0.5:\n",
    "            salary = numbers[0] + (numbers[1] - numbers[0]) / 4  # Đoán mức lương trung bình trong khoảng\n",
    "        else:\n",
    "            salary = sum(numbers) / len(numbers)  \n",
    "    elif numbers:\n",
    "        # Trường hợp chỉ có một số\n",
    "        salary = sum(numbers) / len(numbers)\n",
    "    else:\n",
    "        return 'Cạnh tranh'\n",
    "    \n",
    "    # Kiểm tra các đơn vị tiền tệ và chuyển đổi\n",
    "    if any(unit in value.lower() for unit in ['triệu', 'tr']):\n",
    "        salary *= 1_000_000  \n",
    "    elif any(unit in value.lower() for unit in ['usd', 'đô la', '$', 'đô']):\n",
    "        salary *= 23_000  \n",
    "\n",
    "    \n",
    "    if any(unit in value.lower() for unit in ['năm', 'year']):\n",
    "        salary /= 12  \n",
    "\n",
    "    # Làm tròn kết quả về bội số gần nhất của 100,000\n",
    "    return math.ceil(round(salary, -5))"
   ]
  },
  {
   "cell_type": "code",
   "execution_count": null,
   "metadata": {},
   "outputs": [],
   "source": [
    "data = data.copy()\n",
    "\n",
    "data['Salary'] = data['Salary'].replace(\n",
    "    ['0','Thỏa thuận', 'Negotiable', 'Not Specified', 'Not Found', 'not found', 'Not specifield'], \n",
    "    np.nan)\n",
    "data['Salary'] = data['Salary'].apply(extract_salary)\n",
    "data['Salary'].value_counts()"
   ]
  },
  {
   "cell_type": "markdown",
   "metadata": {},
   "source": [
    "### 4. Xử lý cột Industry <a id=\"iii4\"></a>"
   ]
  },
  {
   "cell_type": "code",
   "execution_count": null,
   "metadata": {},
   "outputs": [],
   "source": [
    "data['Industry'] = data['Industry'].astype(str)\n",
    "data['Industry'] = data['Industry'].str.replace(r'\\s+', ' ', regex=True) # Phục vụ cho việc định dạng khi xuất file csv\n",
    "print(data['Industry'])"
   ]
  },
  {
   "cell_type": "code",
   "execution_count": null,
   "metadata": {},
   "outputs": [],
   "source": [
    "# Hàm tách các ngành trong chuỗi và trả về một danh sách\n",
    "def extract_industries(text):\n",
    "    industries = [industry.strip() for industry in text.split(',')]\n",
    "    return industries\n",
    "\n",
    "all_industries = data['Industry'].apply(extract_industries).explode()\n",
    "\n",
    "# Đếm số lần xuất hiện của từng ngành\n",
    "industry_counts = all_industries.value_counts()\n",
    "\n",
    "# Lấy danh sách tên các ngành từ industry_counts\n",
    "industry_names = industry_counts.index.tolist()\n",
    "\n",
    "# In danh sách các ngành\n",
    "print(industry_counts)\n",
    "print(industry_names)"
   ]
  },
  {
   "cell_type": "markdown",
   "metadata": {},
   "source": [
    "## IV. Dịch các cột cần thiết sang tiếng Anh và tách ra thành danh sách <a id=\"iv\"></a>"
   ]
  },
  {
   "cell_type": "markdown",
   "metadata": {},
   "source": [
    "### 1. Xử lý 3 cột Job Description, Job Requirements, Other Information <a id=\"iv1\"></a>"
   ]
  },
  {
   "cell_type": "markdown",
   "metadata": {},
   "source": [
    "Nhận thấy các thông tin ở 3 cột này không thống nhất về cấu trúc, chẳng hạn yêu cầu ngoại ngữ có thể ghi bằng tiếng Anh, tiếng Việt,..., có thể nằm ở phần mô tả công việc của vị trí tuyển dụng này nhưng ở các vị trí tuyển dụng khác sẽ nằm ở phần thông tin bổ sung -> Tiến hành xử lí cùng lúc 3 cột để có được thông tin đầy đủ về các thông tin cần thiết"
   ]
  },
  {
   "cell_type": "markdown",
   "metadata": {},
   "source": [
    "Chuyển dữ liệu 3 cột trên về dạng chữ thường "
   ]
  },
  {
   "cell_type": "code",
   "execution_count": 25,
   "metadata": {},
   "outputs": [],
   "source": [
    "data['Job Description'] = data['Job Description'].astype(str).str.lower()\n",
    "data['Job Requirements'] = data['Job Requirements'].astype(str).str.lower()\n",
    "data['Other Information'] = data['Other Information'].astype(str).str.lower()"
   ]
  },
  {
   "cell_type": "markdown",
   "metadata": {},
   "source": [
    "Tạo cột mới Language requirement, xác định xem ngoại ngữ có được yêu cầu cho công việc hay không"
   ]
  },
  {
   "cell_type": "code",
   "execution_count": 26,
   "metadata": {},
   "outputs": [],
   "source": [
    "language_keywords = [\n",
    "    # Tiếng Việt\n",
    "    'tiếng anh', 'tiếng trung', 'tiếng nhật', 'tiếng hàn', 'tiếng pháp', 'tiếng đức', 'tiếng nga', 'tiếng tây ban nha',\n",
    "    'tiếng ý', 'tiếng bồ đào nha', 'tiếng ả rập', 'tiếng thái', 'tiếng việt', 'tiếng ấn độ', 'tiếng ba lan', 'tiếng thụy điển',\n",
    "    'tiếng hà lan', 'tiếng na uy', 'tiếng phạn', 'tiếng la tinh', 'tiếng hy lạp', 'tiếng do thái', 'tiếng séc', 'tiếng hungary', 'nước ngoài',\n",
    "    \n",
    "    'kỹ năng ngoại ngữ', 'trình độ ngoại ngữ', 'chứng chỉ ngoại ngữ', 'giao tiếp quốc tế', 'giao tiếp đa văn hóa',\n",
    "    'phiên dịch viên', 'biên dịch viên', 'giảng viên ngôn ngữ', 'giáo viên ngoại ngữ',\n",
    "    'chuyên gia ngôn ngữ', 'nhà ngôn ngữ học', 'thông dịch viên', 'giảng dạy ngoại ngữ',\n",
    "    'toeic', 'ielts', 'toefl', 'hsk', 'jlpt', 'topik', 'delf', 'dalf', 'testdaf', 'torfl',\n",
    "\n",
    "    # English keywords\n",
    "    'english', 'chinese', 'japanese', 'korean', 'french', 'german', 'russian', 'spanish', 'language', 'communication',\n",
    "    'foreign language', 'multilingual',\n",
    "    'language certification', 'language skills', 'bilingual', 'trilingual', 'native english speaker'\n",
    "]\n",
    "\n",
    "\n",
    "# Define a function to check for language keywords in the text\n",
    "def has_language_requirements(text):\n",
    "    text = text.lower()  # Convert text to lowercase\n",
    "    # Check if any keyword is in the text\n",
    "    return \"Có\" if any(keyword in text for keyword in language_keywords) else \"Không\"\n",
    "\n",
    "# Apply the function directly to create the new column\n",
    "data['Language requirement'] = data['Job Requirements'].astype(str).apply(has_language_requirements)"
   ]
  },
  {
   "cell_type": "markdown",
   "metadata": {},
   "source": [
    "Tạo cột bằng cấp (Education Levels) xác định bằng cấp được yêu cầu"
   ]
  },
  {
   "cell_type": "code",
   "execution_count": 27,
   "metadata": {},
   "outputs": [],
   "source": [
    "# Định nghĩa từ điển trình độ học vấn\n",
    "education_levels_dict = {\n",
    "    # Tiếng Việt\n",
    "    'trung học': 'Trung học',\n",
    "    'trung cấp': 'Trung cấp',\n",
    "    'cao đẳng': 'Cao đẳng',\n",
    "    'đại học': 'Đại học',\n",
    "    'sau đại học': 'Sau đại học',\n",
    "    \n",
    "    # Tiếng Anh\n",
    "    'college': 'Cao đẳng',\n",
    "    'university': 'Đại học',\n",
    "    'bachelor’s degree': 'Đại học',\n",
    "    'master': 'Sau đại học',\n",
    "    'phd': 'Sau đại học',\n",
    "}\n",
    "\n",
    "# Hàm tìm kiếm trình độ học vấn từ các cột\n",
    "def get_education_level(row):\n",
    "    # Kiểm tra trong cột 'Other Information' theo thứ tự từ điển\n",
    "    for keyword, level in education_levels_dict.items():\n",
    "        if keyword.lower() in row['Other Information'].lower():\n",
    "            return level\n",
    "    \n",
    "    # Nếu không tìm thấy trong 'Other Information', kiểm tra trong 'Job Requirements'\n",
    "    for keyword, level in education_levels_dict.items():\n",
    "        if keyword.lower() in row['Job Requirements'].lower():\n",
    "            return level\n",
    "    \n",
    "    # Nếu không tìm thấy trình độ học vấn, trả về NaN hoặc 0\n",
    "    return \"Không xác định\"  # hoặc có thể là NaN nếu bạn muốn\n",
    "\n",
    "# Áp dụng hàm trên để tạo cột 'Education Levels'\n",
    "data['Education Levels'] = data.apply(get_education_level, axis=1)"
   ]
  },
  {
   "cell_type": "markdown",
   "metadata": {},
   "source": [
    "Dịch cột Job Requirements sang tiếng anh"
   ]
  },
  {
   "cell_type": "code",
   "execution_count": 2,
   "metadata": {},
   "outputs": [
    {
     "name": "stderr",
     "output_type": "stream",
     "text": [
      "[nltk_data] Downloading package stopwords to\n",
      "[nltk_data]     C:\\Users\\vietl\\AppData\\Roaming\\nltk_data...\n",
      "[nltk_data]   Package stopwords is already up-to-date!\n"
     ]
    },
    {
     "data": {
      "text/plain": [
       "True"
      ]
     },
     "execution_count": 2,
     "metadata": {},
     "output_type": "execute_result"
    }
   ],
   "source": [
    "# Thư viện cho phần dịch\n",
    "import os\n",
    "import sys\n",
    "sys.path.append(os.path.abspath('../Utils'))\n",
    "\n",
    "from Trans_Tokenize import * \n",
    "\n",
    "import numpy as np\n",
    "import matplotlib.pyplot as plt\n",
    "import seaborn as sns\n",
    "\n",
    "from sklearn.model_selection import train_test_split\n",
    "import math\n",
    "import unicodedata\n",
    "import swifter\n",
    "import nltk\n",
    "from concurrent.futures import ThreadPoolExecutor\n",
    "nltk.download('stopwords')"
   ]
  },
  {
   "cell_type": "code",
   "execution_count": null,
   "metadata": {},
   "outputs": [],
   "source": [
    "data = translate_dataframe_column_deep(data, column_name='Job Requirements', num_workers=20)"
   ]
  },
  {
   "cell_type": "markdown",
   "metadata": {},
   "source": [
    "Tạo cột mới Gender Requirement "
   ]
  },
  {
   "cell_type": "code",
   "execution_count": 30,
   "metadata": {},
   "outputs": [],
   "source": [
    "# Tạo một hàm để kiểm tra nội dung trong cột 'Job Requirements'\n",
    "def detect_gender(job_requirements):\n",
    "    job_requirements_lower = str(job_requirements).lower()\n",
    "    if 'male' in job_requirements_lower and 'female' in job_requirements_lower and job_requirements_lower.count('male') > 1:\n",
    "        return 'both'\n",
    "    elif 'female' in job_requirements_lower:\n",
    "        return 'female'\n",
    "    elif 'male' in job_requirements_lower:\n",
    "        return 'male'\n",
    "    else:\n",
    "        return 'both'\n",
    "\n",
    "# Áp dụng hàm để tạo cột 'Gender'\n",
    "data['Gender Requirement'] = data['Job Requirements'].apply(detect_gender)"
   ]
  },
  {
   "cell_type": "markdown",
   "metadata": {},
   "source": [
    "Sắp xếp, Loại bỏ các cột đã xử lí"
   ]
  },
  {
   "cell_type": "code",
   "execution_count": 31,
   "metadata": {},
   "outputs": [],
   "source": [
    "# Danh sách các cột cần loại bỏ\n",
    "columns_to_drop = ['Job Requirements', 'Other Information', 'Job Description']\n",
    "\n",
    "# Loại bỏ các cột\n",
    "data = data.drop(columns=columns_to_drop)\n",
    "\n",
    "columns = data.columns.tolist()\n",
    "columns.remove('Education Levels')\n",
    "columns.insert(3, 'Education Levels')\n",
    "# Di chuyển 'Salary' vào vị trí cuối cùng\n",
    "columns.remove('Salary')\n",
    "columns.append('Salary')\n",
    "\n",
    "# Sắp xếp lại DataFrame với thứ tự cột mới\n",
    "raw_data = data[columns]"
   ]
  },
  {
   "cell_type": "markdown",
   "metadata": {},
   "source": [
    "## V. Tối ưu dữ liệu để trực quan <a id=\"v\"></a>"
   ]
  },
  {
   "cell_type": "markdown",
   "metadata": {},
   "source": [
    "### 1. Kiểm tra dữ liệu mang giá trị Not specified hoặc lỗi chính tả <a id=\"v1\"></a>"
   ]
  },
  {
   "cell_type": "code",
   "execution_count": null,
   "metadata": {},
   "outputs": [],
   "source": [
    "# Biểu đồ heatmap cho các giá trị 'Not specified'\n",
    "plt.subplots(figsize=(10,8))\n",
    "sns.heatmap(data.isin(['Not specified']))"
   ]
  },
  {
   "cell_type": "markdown",
   "metadata": {},
   "source": [
    "Nhận thấy có quá nhiều giá trị Not specified ở các cột Job Tags, Company Address, Company Scale, Company Website, Company Introduction, Followers"
   ]
  },
  {
   "cell_type": "code",
   "execution_count": 33,
   "metadata": {},
   "outputs": [],
   "source": [
    "# Tiến hành loại bỏ \n",
    "data.drop(\"Job Tags\", axis=1, inplace=True)\n",
    "data.drop(\"Company Address\", axis=1, inplace=True)\n",
    "data.drop(\"Company Scale\", axis=1, inplace=True)\n",
    "data.drop(\"Company Website\", axis=1, inplace=True)\n",
    "data.drop(\"Company Introduction\", axis=1, inplace=True)\n",
    "data.drop(\"Follower\", axis=1, inplace=True)"
   ]
  },
  {
   "cell_type": "code",
   "execution_count": null,
   "metadata": {},
   "outputs": [],
   "source": [
    "# In ra số lượng dòng mà cột Company Name có giá trị là Not specified trong khi cột Company Type không có giá trị là Not specified\n",
    "print(data[(data['Company Name'] == 'Not specified') & (data['Company Type'] != 'Not specified')].shape[0])\n",
    "\n",
    "# Tiến hành xóa các dòng đó\n",
    "data = data[~((data['Company Name'] == 'Not specified') & (data['Company Type'] != 'Not specified'))]\n",
    "\n",
    "# Ngược lại\n",
    "print(data[(data['Company Name'] != 'Not specified') & (data['Company Type'] == 'Not specified')].shape[0])\n",
    "data = data[~((data['Company Name'] != 'Not specified') & (data['Company Type'] == 'Not specified'))]"
   ]
  },
  {
   "cell_type": "code",
   "execution_count": 35,
   "metadata": {},
   "outputs": [],
   "source": [
    "# Xóa các dòng có giá trị là Not specified trong cột Welfare\n",
    "data = data[data['Welfare'] != 'Not specified']"
   ]
  },
  {
   "cell_type": "code",
   "execution_count": null,
   "metadata": {},
   "outputs": [],
   "source": [
    "plt.subplots(figsize=(10,8))\n",
    "sns.heatmap(data.isin(['Not specified']))"
   ]
  },
  {
   "cell_type": "markdown",
   "metadata": {},
   "source": [
    "Giữ lại cột Company Name cho mục đích phân loại các công việc tuyển dụng thuộc và không thuộc bất kì một công ty nào\n",
    "\n",
    "Thay các giá trị Not specified bằng giá trị 'Freelance recruiter', tạm gọi là Freelance recruiter vì đây là mẫu dữ liệu lấy từ các bài đăng tuyển dụng không thuộc về một công ty nào hết. Freelance recruiter là những người chuyên tìm kiếm và tuyển dụng các ứng viên mà bản thân họ không thuộc về bất kì một công ty nào."
   ]
  },
  {
   "cell_type": "code",
   "execution_count": 37,
   "metadata": {},
   "outputs": [],
   "source": [
    "# Thay các giá trị Not specified bằng giá trị 'Headhunters' trong cột Company Name\n",
    "data['Company Name'] = data['Company Name'].replace('Not specified', 'Freelance recruiter')"
   ]
  },
  {
   "cell_type": "code",
   "execution_count": null,
   "metadata": {},
   "outputs": [],
   "source": [
    "data.info()"
   ]
  },
  {
   "cell_type": "code",
   "execution_count": null,
   "metadata": {},
   "outputs": [],
   "source": [
    "# In ra các giá trị của cột 'Company Type'\n",
    "print(data['Company Type'].value_counts())"
   ]
  },
  {
   "cell_type": "markdown",
   "metadata": {},
   "source": [
    "Nhận thấy rằng có tổng 5 dòng dữ liệu bị lỗi chính tả ở cột loại hình công ty, vì số lượng rất ít nên tiến hành xóa để tránh ảnh hưởng đến phần trực quan phân bố"
   ]
  },
  {
   "cell_type": "code",
   "execution_count": 40,
   "metadata": {},
   "outputs": [],
   "source": [
    "value_counts = data['Company Type'].value_counts()\n",
    "values_to_remove = value_counts[(value_counts < 10)].index\n",
    "data = data[~data['Company Type'].isin(values_to_remove)]"
   ]
  },
  {
   "cell_type": "markdown",
   "metadata": {},
   "source": [
    "### 2. Với các cột thuộc kiểu numerical, các giá trị phân bố như thế nào? <a id=\"v2\"></a>"
   ]
  },
  {
   "cell_type": "code",
   "execution_count": null,
   "metadata": {},
   "outputs": [],
   "source": [
    "# Copy sang một dataframe mới để xem phân bố giá trị\n",
    "data_copy = data.copy()\n",
    "\n",
    "# Chỉ lấy các dòng dữ liệu có Salary khác 'Cạnh tranh'\n",
    "data_copy = data_copy[data_copy['Salary'] != 'Cạnh tranh']\n",
    "\n",
    "# Làm sạch dữ liệu Salary trước khi chuyển đổi\n",
    "data_copy['Salary'] = data_copy['Salary'].astype(str)\n",
    "data_copy['Salary'] = data_copy['Salary'].str.replace(r'[^\\d.]', '', regex=True)\n",
    "\n",
    "# Chuyển cột Salary về dạng int\n",
    "data_copy['Salary'] = pd.to_numeric(data_copy['Salary'], errors='coerce')\n",
    "data_copy.info()"
   ]
  },
  {
   "cell_type": "code",
   "execution_count": null,
   "metadata": {},
   "outputs": [],
   "source": [
    "cols = ['Salary', 'Experience']\n",
    "numeric_df = pd.DataFrame()\n",
    "\n",
    "for col in cols:\n",
    "    numeric_df[col] = data_copy[col].describe()\n",
    "numeric_df"
   ]
  },
  {
   "cell_type": "markdown",
   "metadata": {},
   "source": [
    "Nhận thấy có nhiều mốc lương cao đột biến -> chiêu trò của nhà tuyển dụng trong việc câu kéo lượt quan tâm theo dõi từ những người đang muốn kiếm công việc lương cao -> Tiến hành xem các điểm dữ liệu này như giá trị ngoại lai và xóa"
   ]
  },
  {
   "cell_type": "code",
   "execution_count": null,
   "metadata": {},
   "outputs": [],
   "source": [
    "# Xóa các giá trị ngoại lai của cột Salary bằng tứ phân vị\n",
    "Q1 = data_copy['Salary'].quantile(0.25)\n",
    "Q3 = data_copy['Salary'].quantile(0.75)\n",
    "IQR = Q3 - Q1\n",
    "\n",
    "# Xác định các giá trị ngoại lai\n",
    "lower_bound = Q1 - 1.5 * IQR\n",
    "upper_bound = Q3 + 1.5 * IQR\n",
    "\n",
    "# Đếm số lượng giá trị ngoại lai\n",
    "outliers = data_copy[(data_copy['Salary'] < lower_bound) | (data_copy['Salary'] > upper_bound)]\n",
    "print(outliers.shape)\n",
    "\n",
    "# Lọc bỏ các giá trị ngoại lai\n",
    "data_copy = data_copy[(data_copy['Salary'] >= lower_bound) & (data_copy['Salary'] <= upper_bound)]"
   ]
  },
  {
   "cell_type": "code",
   "execution_count": null,
   "metadata": {},
   "outputs": [],
   "source": [
    "plt.figure(figsize=(10, 5))\n",
    "\n",
    "for i, col in enumerate(cols, 1):\n",
    "    plt.subplot(1, len(cols), i) \n",
    "    sns.boxplot(y=data_copy[col])\n",
    "    plt.title(f'Boxplot of {col}')\n",
    "    plt.ylabel(col)\n",
    "\n",
    "# Điều chỉnh bố cục\n",
    "plt.tight_layout()\n",
    "plt.show()"
   ]
  },
  {
   "cell_type": "markdown",
   "metadata": {},
   "source": [
    "Có thể thấy các giá trị phân bố hợp lí, có rất nhiều công việc có mức lương rất cao, cũng như số năm kinh nghiệm tối thiểu lên đến 30 năm"
   ]
  },
  {
   "cell_type": "code",
   "execution_count": null,
   "metadata": {},
   "outputs": [],
   "source": [
    "cols = ['Salary', 'Experience']\n",
    "plt.figure(figsize=(16, 12))\n",
    "\n",
    "for i, column in enumerate(cols, 1):\n",
    "    plt.subplot(3, 3, i)\n",
    "    sns.histplot(data_copy[column], kde=True, bins=20, color='blue', edgecolor='black')\n",
    "    plt.title(f'Distribution of {column}')\n",
    "    plt.xlabel(column)\n",
    "    plt.ylabel('Frequency')\n",
    "\n",
    "# Điều chỉnh bố cục\n",
    "plt.tight_layout()\n",
    "plt.show()"
   ]
  },
  {
   "cell_type": "markdown",
   "metadata": {},
   "source": [
    "- Cột `Salary` có phân phối không đều. Có thể hiểu ngày nay, các công việc ngày càng đa dạng với các mức lương khác nhau. Và tùy thuộc vào các yếu tố khác mà mức lương sẽ bị ảnh hưởng\n",
    "- Cột `Experience` có phân phối lệch phải chứng tỏ số năm kinh nghiệm tối thiểu cho một vị trí tuyển dụng tập trung ở mức vừa phải (chủ yếu ở mức 1-5 năm), và có 1 số ít công việc yêu trên 5 năm kinh nghiệm."
   ]
  },
  {
   "cell_type": "markdown",
   "metadata": {},
   "source": [
    "### 3. Với các cột thuộc kiểu categorical, các giá trị phân bố như thế nào? <a id=\"v3\"></a>"
   ]
  },
  {
   "cell_type": "code",
   "execution_count": null,
   "metadata": {},
   "outputs": [],
   "source": [
    "cols = ['Education Levels','Language requirement', 'Job Level'] \n",
    "\n",
    "data[cols] = data[cols].astype('category')\n",
    "print(data[cols].describe())\n",
    "\n",
    "plt.figure(figsize=(18, 12))\n",
    "gs = GridSpec(2, 2, height_ratios=[1, 1])\n",
    "\n",
    "ax0 = plt.subplot(gs[0, :])\n",
    "sns.barplot(\n",
    "    x=data['Job Level'].value_counts().index,  \n",
    "    y=data['Job Level'].value_counts().values, \n",
    ")\n",
    "plt.title(f'Bar Plot of Job Level')\n",
    "plt.xlabel('Job Level')\n",
    "plt.ylabel('Frequency')\n",
    "\n",
    "ax1 = plt.subplot(gs[1, 0])\n",
    "sns.barplot(\n",
    "    x=data['Education Levels'].value_counts().index,  \n",
    "    y=data['Education Levels'].value_counts().values, \n",
    ")\n",
    "plt.title(f'Bar Plot of Education Levels')\n",
    "plt.xlabel('Education Levels')\n",
    "plt.ylabel('Frequency')\n",
    "\n",
    "ax2 = plt.subplot(gs[1, 1])\n",
    "sns.barplot(\n",
    "    x=data['Language requirement'].value_counts().index,  \n",
    "    y=data['Language requirement'].value_counts().values, \n",
    ")\n",
    "plt.title(f'Bar Plot of Language requirement')\n",
    "plt.xlabel('Language requirement')\n",
    "plt.ylabel('Frequency')\n",
    "\n",
    "plt.tight_layout()\n",
    "plt.show()"
   ]
  },
  {
   "cell_type": "markdown",
   "metadata": {},
   "source": [
    "Các dữ liệu dạng chuỗi bao gồm các cột `Location`, `Industry`, `Employment Type`, `Welfare`, `Gender Requirement`, `Company Type`. Tuy nhiên chỉ trực quan được cho các cột `Employment Type`, `Gender Requirement`, `Company Type` vì lí do quá tải nội dung hiển thị cho các cột còn lại (ví dụ như cột Location có đến hơn 50 tỉnh nên khi trực quan để xem phân bố dữ liệu sẽ làm chữ đè lên nhau, ... -> làm giảm hiệu quả trực quan)"
   ]
  },
  {
   "cell_type": "code",
   "execution_count": 47,
   "metadata": {},
   "outputs": [],
   "source": [
    "# Hàm tách các loại hình công việc trong chuỗi và trả về một danh sách\n",
    "def extract_employtype(text):\n",
    "    employtypes = [types.strip() for types in text.split(',')]\n",
    "    return employtypes\n",
    "\n",
    "all_emtype = data['Employment Type'].apply(extract_employtype).explode()\n",
    "\n",
    "# Đếm số lần xuất hiện của từng loại hình công việc\n",
    "type_counts = all_emtype.value_counts()\n",
    "\n",
    "# Lấy danh sách tên các loại hình công việc từ type_counts\n",
    "type_names = type_counts.index.tolist()"
   ]
  },
  {
   "cell_type": "code",
   "execution_count": null,
   "metadata": {},
   "outputs": [],
   "source": [
    "cols = ['Company Type', 'Gender Requirement'] \n",
    "print(data[cols].describe())\n",
    "\n",
    "\n",
    "fig, axes = plt.subplots(1, 3, figsize=(20, 5))\n",
    "axes = axes.flatten()\n",
    "\n",
    "# Vẽ biểu đồ cho 'Company Type' và 'Gender Requirement'\n",
    "for i, col in enumerate(cols):\n",
    "    value_counts = data[col].value_counts().sort_values(ascending=False)\n",
    "    sns.barplot(\n",
    "        y=value_counts.index,  \n",
    "        x=value_counts.values, \n",
    "        ax=axes[i]\n",
    "    )\n",
    "    axes[i].set_title(f'Bar Plot of {col}', fontsize=16)\n",
    "    axes[i].set_xlabel(col, fontsize=14)\n",
    "    axes[i].set_ylabel('Frequency', fontsize=14)\n",
    "\n",
    "# Vẽ biểu đồ cho 'Employment Type'\n",
    "sns.barplot(y=type_names, x=type_counts, ax=axes[2])\n",
    "axes[2].set_title('Bar Plot of Employment Type', fontsize=16)\n",
    "axes[2].set_xlabel('Frequency', fontsize=14)\n",
    "axes[2].set_ylabel('Employment Type', fontsize=14)\n",
    "\n",
    "\n",
    "plt.tight_layout()\n",
    "plt.show()"
   ]
  },
  {
   "cell_type": "markdown",
   "metadata": {},
   "source": [
    "Ta nhận thấy dữ liệu của các cột dạng số phân bố hợp lí cho một vị trí tuyển dụng, những loại hình công việc như chính thức (official), loại hình công ty như Cổ phần, hay một vị trí tuyển dụng phù hợp cho cả nam và nữ đều khá phổ biến ta đều biết đến dĩ nhiên sẽ chiếm tỉ lệ lớn trong phân phối tương ứng"
   ]
  },
  {
   "cell_type": "markdown",
   "metadata": {},
   "source": [
    "Đối với các cột còn lại, ta xem sự phân bố giá trị qua:"
   ]
  },
  {
   "cell_type": "code",
   "execution_count": null,
   "metadata": {},
   "outputs": [],
   "source": [
    "# Kiểm tra các giá trị của cột Location\n",
    "print(data['Location'].value_counts())\n",
    "\n",
    "# Kiểm tra các giá trị của cột Industry\n",
    "print(industry_counts)\n",
    "\n",
    "# Kiểm tra các giá trị của cột Welfare\n",
    "# Hàm tách các phúc lợi trong chuỗi và trả về một danh sách\n",
    "def extract_welfare(text):\n",
    "    welfares = [wel.strip() for wel in text.split(',')]\n",
    "    return welfares\n",
    "\n",
    "all_welfares = data['Welfare'].apply(extract_welfare).explode()\n",
    "\n",
    "# Đếm số lần xuất hiện của từng phúc lợi\n",
    "welfare_counts = all_welfares.value_counts()\n",
    "# In danh sách các phúc lợi\n",
    "print(welfare_counts)"
   ]
  },
  {
   "cell_type": "markdown",
   "metadata": {},
   "source": [
    "Có thể thấy dữ liệu các cột categorical phân bố hợp lí. Không có điều gì bất thường."
   ]
  },
  {
   "cell_type": "markdown",
   "metadata": {},
   "source": [
    "## VI. Lưu dữ liệu <a id=\"vi\"></a>"
   ]
  },
  {
   "cell_type": "code",
   "execution_count": 50,
   "metadata": {},
   "outputs": [],
   "source": [
    "# Lưu dữ liệu vào file csv\n",
    "data.to_csv('../dataset/data_for_visual.csv', index=False, encoding='utf-8-sig')"
   ]
  }
 ],
 "metadata": {
  "kernelspec": {
   "display_name": "Python 3",
   "language": "python",
   "name": "python3"
  },
  "language_info": {
   "codemirror_mode": {
    "name": "ipython",
    "version": 3
   },
   "file_extension": ".py",
   "mimetype": "text/x-python",
   "name": "python",
   "nbconvert_exporter": "python",
   "pygments_lexer": "ipython3",
   "version": "3.12.6"
  }
 },
 "nbformat": 4,
 "nbformat_minor": 2
}
