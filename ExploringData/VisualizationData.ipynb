{
 "cells": [
  {
   "cell_type": "markdown",
   "metadata": {},
   "source": [
    "## Trực quan hóa dữ liệu"
   ]
  },
  {
   "cell_type": "markdown",
   "metadata": {},
   "source": [
    "## Mục lục\n",
    "- [I. Tiền xử lí để trực quan](#i)\n",
    "- [II. Đặt câu hỏi có ý nghĩa và trả lời bằng trực quan](#ii)\n",
    "    - [1. Câu hỏi 1](#ii1)\n",
    "    - [2. Câu hỏi 2](#ii2)\n",
    "    - [3. Câu hỏi 3](#ii3)\n",
    "    - [4. Câu hỏi 4](#ii4)\n",
    "    - [5. Câu hỏi 5](#ii5)\n",
    "    - [6. Câu hỏi 6](#ii6)\n",
    "    - [7. Câu hỏi 7](#ii7)\n",
    "    - [8. Câu hỏi 8](#ii8)\n",
    "    - [9. Câu hỏi 9](#ii9)\n",
    "    - [10. Câu hỏi 10](#ii10)\n",
    "- [Tài liệu tham khảo](#tl)"
   ]
  },
  {
   "cell_type": "markdown",
   "metadata": {},
   "source": [
    "## I. Tiền xử lí để trực quan <a id=\"i\"></a>"
   ]
  },
  {
   "cell_type": "code",
   "execution_count": 1,
   "metadata": {},
   "outputs": [],
   "source": [
    "# Các thư viện sử dụng:\n",
    "import pandas as pd\n",
    "import numpy as np\n",
    "import matplotlib.pyplot as plt\n",
    "import seaborn as sns\n",
    "import ast\n",
    "import re\n",
    "import csv\n",
    "\n",
    "from sklearn.linear_model import LinearRegression"
   ]
  },
  {
   "cell_type": "code",
   "execution_count": 2,
   "metadata": {},
   "outputs": [
    {
     "data": {
      "text/html": [
       "<div>\n",
       "<style scoped>\n",
       "    .dataframe tbody tr th:only-of-type {\n",
       "        vertical-align: middle;\n",
       "    }\n",
       "\n",
       "    .dataframe tbody tr th {\n",
       "        vertical-align: top;\n",
       "    }\n",
       "\n",
       "    .dataframe thead th {\n",
       "        text-align: right;\n",
       "    }\n",
       "</style>\n",
       "<table border=\"1\" class=\"dataframe\">\n",
       "  <thead>\n",
       "    <tr style=\"text-align: right;\">\n",
       "      <th></th>\n",
       "      <th>Job Name</th>\n",
       "      <th>Job Link</th>\n",
       "      <th>Location</th>\n",
       "      <th>Update Date</th>\n",
       "      <th>Deadline</th>\n",
       "      <th>Experience</th>\n",
       "      <th>Job Level</th>\n",
       "      <th>Industry</th>\n",
       "      <th>Employment Type</th>\n",
       "      <th>Welfare</th>\n",
       "      <th>Company URL</th>\n",
       "      <th>Salary</th>\n",
       "      <th>Company Name</th>\n",
       "      <th>Company Type</th>\n",
       "      <th>Update Date_day</th>\n",
       "      <th>Update Date_month</th>\n",
       "      <th>Update Date_year</th>\n",
       "      <th>Deadline_day</th>\n",
       "      <th>Deadline_month</th>\n",
       "      <th>Deadline_year</th>\n",
       "    </tr>\n",
       "  </thead>\n",
       "  <tbody>\n",
       "    <tr>\n",
       "      <th>0</th>\n",
       "      <td>Nhân Viên Thống Kê</td>\n",
       "      <td>https://careerviet.vn/vi/tim-viec-lam/nhan-vie...</td>\n",
       "      <td>Hai Duong</td>\n",
       "      <td>2024-10-25</td>\n",
       "      <td>2024-11-23</td>\n",
       "      <td>0</td>\n",
       "      <td>Nhân viên</td>\n",
       "      <td>accounting_auditing,statistics</td>\n",
       "      <td>Official</td>\n",
       "      <td>laptop, insurance, travel, allowance, overseas...</td>\n",
       "      <td>https://careerviet.vn/vi/nha-tuyen-dung/tap-do...</td>\n",
       "      <td>9000000</td>\n",
       "      <td>Tập Đoàn An Phát Holdings</td>\n",
       "      <td>Cổ phần</td>\n",
       "      <td>25</td>\n",
       "      <td>10</td>\n",
       "      <td>2024</td>\n",
       "      <td>23</td>\n",
       "      <td>11</td>\n",
       "      <td>2024</td>\n",
       "    </tr>\n",
       "    <tr>\n",
       "      <th>1</th>\n",
       "      <td>Nhân viên bảo trì</td>\n",
       "      <td>https://careerviet.vn/vi/tim-viec-lam/nhan-vie...</td>\n",
       "      <td>Long An</td>\n",
       "      <td>2024-11-24</td>\n",
       "      <td>2024-12-23</td>\n",
       "      <td>1</td>\n",
       "      <td>Nhân viên</td>\n",
       "      <td>maintenance_repair</td>\n",
       "      <td>Official</td>\n",
       "      <td>laptop, insurance, travel, allowance, shuttle_...</td>\n",
       "      <td>https://careerviet.vn/vi/nha-tuyen-dung/cong-t...</td>\n",
       "      <td>13500000</td>\n",
       "      <td>Công ty Cổ phần Cơ khí Xây dựng Thương mại Đại...</td>\n",
       "      <td>Cổ phần</td>\n",
       "      <td>24</td>\n",
       "      <td>11</td>\n",
       "      <td>2024</td>\n",
       "      <td>23</td>\n",
       "      <td>12</td>\n",
       "      <td>2024</td>\n",
       "    </tr>\n",
       "    <tr>\n",
       "      <th>2</th>\n",
       "      <td>Nhân viên Facebook Ads, Website</td>\n",
       "      <td>https://careerviet.vn/vi/tim-viec-lam/nhan-vie...</td>\n",
       "      <td>Ha Noi</td>\n",
       "      <td>2024-10-25</td>\n",
       "      <td>2024-11-23</td>\n",
       "      <td>1</td>\n",
       "      <td>Nhân viên</td>\n",
       "      <td>marketing,sales_business,import_export</td>\n",
       "      <td>Official</td>\n",
       "      <td>insurance, travel, allowance, bonus, healthcar...</td>\n",
       "      <td>https://careerviet.vn/vi/nha-tuyen-dung/cong-t...</td>\n",
       "      <td>18800000</td>\n",
       "      <td>CÔNG TY TNHH THƯƠNG MẠI LINA VIỆT NAM</td>\n",
       "      <td>Trách nhiệm hữu hạn</td>\n",
       "      <td>25</td>\n",
       "      <td>10</td>\n",
       "      <td>2024</td>\n",
       "      <td>23</td>\n",
       "      <td>11</td>\n",
       "      <td>2024</td>\n",
       "    </tr>\n",
       "    <tr>\n",
       "      <th>3</th>\n",
       "      <td>110899 - Sales Assitant Manager / Manager - Ho...</td>\n",
       "      <td>https://careerviet.vn/vi/tim-viec-lam/110899-s...</td>\n",
       "      <td>Ho Chi Minh</td>\n",
       "      <td>2024-10-25</td>\n",
       "      <td>2024-11-23</td>\n",
       "      <td>5</td>\n",
       "      <td>Quản lý</td>\n",
       "      <td>interior_exterior_design</td>\n",
       "      <td>Official</td>\n",
       "      <td>insurance, travel, bonus, healthcare, training...</td>\n",
       "      <td>https://careerviet.vn/vi/nha-tuyen-dung/rgf-hr...</td>\n",
       "      <td>31200000</td>\n",
       "      <td>RGF HR Agent Vietnam Co., LTD</td>\n",
       "      <td>Trách nhiệm hữu hạn</td>\n",
       "      <td>25</td>\n",
       "      <td>10</td>\n",
       "      <td>2024</td>\n",
       "      <td>23</td>\n",
       "      <td>11</td>\n",
       "      <td>2024</td>\n",
       "    </tr>\n",
       "    <tr>\n",
       "      <th>4</th>\n",
       "      <td>Nhân Viên Dự Toán - Khối Lượng</td>\n",
       "      <td>https://careerviet.vn/vi/tim-viec-lam/nhan-vie...</td>\n",
       "      <td>Ho Chi Minh</td>\n",
       "      <td>2024-10-25</td>\n",
       "      <td>2024-11-23</td>\n",
       "      <td>1</td>\n",
       "      <td>Nhân viên</td>\n",
       "      <td>interior_exterior_design,architecture,construc...</td>\n",
       "      <td>Official</td>\n",
       "      <td>insurance, travel, allowance, overseas_travel,...</td>\n",
       "      <td>https://careerviet.vn/vi/nha-tuyen-dung/cong-t...</td>\n",
       "      <td>13000000</td>\n",
       "      <td>CÔNG TY TNHH MỘT THÀNH VIÊN XÂY DỰNG NỘI THẤT ...</td>\n",
       "      <td>Trách nhiệm hữu hạn</td>\n",
       "      <td>25</td>\n",
       "      <td>10</td>\n",
       "      <td>2024</td>\n",
       "      <td>23</td>\n",
       "      <td>11</td>\n",
       "      <td>2024</td>\n",
       "    </tr>\n",
       "  </tbody>\n",
       "</table>\n",
       "</div>"
      ],
      "text/plain": [
       "                                            Job Name  \\\n",
       "0                                 Nhân Viên Thống Kê   \n",
       "1                                  Nhân viên bảo trì   \n",
       "2                    Nhân viên Facebook Ads, Website   \n",
       "3  110899 - Sales Assitant Manager / Manager - Ho...   \n",
       "4                     Nhân Viên Dự Toán - Khối Lượng   \n",
       "\n",
       "                                            Job Link     Location Update Date  \\\n",
       "0  https://careerviet.vn/vi/tim-viec-lam/nhan-vie...    Hai Duong  2024-10-25   \n",
       "1  https://careerviet.vn/vi/tim-viec-lam/nhan-vie...      Long An  2024-11-24   \n",
       "2  https://careerviet.vn/vi/tim-viec-lam/nhan-vie...       Ha Noi  2024-10-25   \n",
       "3  https://careerviet.vn/vi/tim-viec-lam/110899-s...  Ho Chi Minh  2024-10-25   \n",
       "4  https://careerviet.vn/vi/tim-viec-lam/nhan-vie...  Ho Chi Minh  2024-10-25   \n",
       "\n",
       "     Deadline  Experience  Job Level  \\\n",
       "0  2024-11-23           0  Nhân viên   \n",
       "1  2024-12-23           1  Nhân viên   \n",
       "2  2024-11-23           1  Nhân viên   \n",
       "3  2024-11-23           5    Quản lý   \n",
       "4  2024-11-23           1  Nhân viên   \n",
       "\n",
       "                                            Industry Employment Type  \\\n",
       "0                     accounting_auditing,statistics        Official   \n",
       "1                                 maintenance_repair        Official   \n",
       "2             marketing,sales_business,import_export        Official   \n",
       "3                           interior_exterior_design        Official   \n",
       "4  interior_exterior_design,architecture,construc...        Official   \n",
       "\n",
       "                                             Welfare  \\\n",
       "0  laptop, insurance, travel, allowance, overseas...   \n",
       "1  laptop, insurance, travel, allowance, shuttle_...   \n",
       "2  insurance, travel, allowance, bonus, healthcar...   \n",
       "3  insurance, travel, bonus, healthcare, training...   \n",
       "4  insurance, travel, allowance, overseas_travel,...   \n",
       "\n",
       "                                         Company URL    Salary  \\\n",
       "0  https://careerviet.vn/vi/nha-tuyen-dung/tap-do...   9000000   \n",
       "1  https://careerviet.vn/vi/nha-tuyen-dung/cong-t...  13500000   \n",
       "2  https://careerviet.vn/vi/nha-tuyen-dung/cong-t...  18800000   \n",
       "3  https://careerviet.vn/vi/nha-tuyen-dung/rgf-hr...  31200000   \n",
       "4  https://careerviet.vn/vi/nha-tuyen-dung/cong-t...  13000000   \n",
       "\n",
       "                                        Company Name         Company Type  \\\n",
       "0                          Tập Đoàn An Phát Holdings              Cổ phần   \n",
       "1  Công ty Cổ phần Cơ khí Xây dựng Thương mại Đại...              Cổ phần   \n",
       "2              CÔNG TY TNHH THƯƠNG MẠI LINA VIỆT NAM  Trách nhiệm hữu hạn   \n",
       "3                      RGF HR Agent Vietnam Co., LTD  Trách nhiệm hữu hạn   \n",
       "4  CÔNG TY TNHH MỘT THÀNH VIÊN XÂY DỰNG NỘI THẤT ...  Trách nhiệm hữu hạn   \n",
       "\n",
       "   Update Date_day  Update Date_month  Update Date_year  Deadline_day  \\\n",
       "0               25                 10              2024            23   \n",
       "1               24                 11              2024            23   \n",
       "2               25                 10              2024            23   \n",
       "3               25                 10              2024            23   \n",
       "4               25                 10              2024            23   \n",
       "\n",
       "   Deadline_month  Deadline_year  \n",
       "0              11           2024  \n",
       "1              12           2024  \n",
       "2              11           2024  \n",
       "3              11           2024  \n",
       "4              11           2024  "
      ]
     },
     "execution_count": 2,
     "metadata": {},
     "output_type": "execute_result"
    }
   ],
   "source": [
    "# Đọc file csv\n",
    "df = pd.read_csv('data_for_visual.csv')\n",
    "df.head()"
   ]
  },
  {
   "cell_type": "code",
   "execution_count": 3,
   "metadata": {},
   "outputs": [],
   "source": [
    "# Danh sách 63 tỉnh/thành phố của Việt Nam\n",
    "valid_locations = [\n",
    "    \"An Giang\", \"Bà Rịa - Vũng Tàu\", \"Bạc Liêu\", \"Bắc Kạn\", \"Bắc Giang\", \"Bắc Ninh\",\n",
    "    \"Bến Tre\", \"Bình Dương\", \"Bình Định\", \"Bình Phước\", \"Bình Thuận\", \"Cà Mau\",\n",
    "    \"Cần Thơ\", \"Cao Bằng\", \"Đà Nẵng\", \"Đắk Lắk\", \"Đắk Nông\", \"Điện Biên\",\n",
    "    \"Đồng Nai\", \"Đồng Tháp\", \"Gia Lai\", \"Hà Giang\", \"Hà Nam\", \"Hà Nội\", \"Hà Tĩnh\",\n",
    "    \"Hải Dương\", \"Hải Phòng\", \"Hòa Bình\", \"Hậu Giang\", \"Hoà Bình\", \"Hồ Chí Minh\",\n",
    "    \"Hưng Yên\", \"Khánh Hòa\", \"Kiên Giang\", \"Kon Tum\", \"Lai Châu\", \"Lạng Sơn\",\n",
    "    \"Lào Cai\", \"Long An\", \"Nam Định\", \"Nghệ An\", \"Ninh Bình\", \"Ninh Thuận\",\n",
    "    \"Phú Thọ\", \"Phú Yên\", \"Quảng Bình\", \"Quảng Nam\", \"Quảng Ngãi\", \"Quảng Ninh\",\n",
    "    \"Quảng Trị\", \"Sóc Trăng\", \"Sơn La\", \"Tây Ninh\", \"Thái Bình\", \"Thái Nguyên\",\n",
    "    \"Thanh Hóa\", \"Thừa Thiên - Huế\", \"Tiền Giang\", \"Trà Vinh\", \"Tuyên Quang\",\n",
    "    \"Vĩnh Long\", \"Vĩnh Phúc\", \"Yên Bái\"\n",
    "]"
   ]
  },
  {
   "cell_type": "code",
   "execution_count": 4,
   "metadata": {},
   "outputs": [
    {
     "name": "stdout",
     "output_type": "stream",
     "text": [
      "['Hai Duong' 'Long An' 'Ha Noi' 'Ho Chi Minh' 'Binh Duong' 'Đong Nai'\n",
      " 'Quang Ngai' 'Vinh Long' 'Lam Đong' 'Can Tho' 'Dak Lak' 'Gia Lai'\n",
      " 'Bac Giang' 'Binh Thuan' 'Tay Ninh' 'Ba Ria - Vung Tau' 'Ha Nam'\n",
      " 'Thai Binh' 'Bac Lieu' 'Thanh Hoa' 'Binh Đinh' 'Bac Ninh' 'Tra Vinh'\n",
      " 'Hoa Binh' 'Đa Nang' 'Hung Yen' 'Hai Phong' 'Kien Giang' 'Vinh Phuc'\n",
      " 'Ha Giang' 'Tuyen Quang' 'Đien Bien' 'Nam Đinh' 'Lang Son'\n",
      " 'Kv Đong Nam Bo' 'Nghe An' 'Quang Tri' 'Quang Ninh' 'Ninh Thuan'\n",
      " 'Đong Thap' 'Quang Nam' 'Thua Thien- Hue' 'Tien Giang' 'Khanh Hoa'\n",
      " 'Toan Quoc' 'Phu Yen' 'Quang Binh' 'Hau Giang' 'Binh Phuoc' 'Phu Tho'\n",
      " 'Svay Rieng' 'Ninh Binh' 'Thai Nguyen' 'Bac Can' 'Son La' 'Ha Tinh'\n",
      " 'Yen Bai' 'Ca Mau' 'An Giang' 'Ben Tre' 'Lao Cai' 'Soc Trang' 'Khac'\n",
      " 'Đong Bang Song Cuu Long' 'Quoc Te' 'Cao Bang' 'Dak Nong' 'Tokyo'\n",
      " 'Kon Tum' 'Xiangkhouang' 'Champasak' 'Yokohama' 'Hokkaido'\n",
      " 'Kv Tay Nguyen' 'Malaysia' 'Kv Bac Trung Bo' 'Bangkok' 'Kv Nam Trung Bo'\n",
      " 'Lai Chau' 'Phnompenh' 'Kratie']\n"
     ]
    }
   ],
   "source": [
    "# In ra cột 'Location' của dataframe không lặp lại\n",
    "print(df['Location'].unique())"
   ]
  },
  {
   "cell_type": "code",
   "execution_count": 5,
   "metadata": {},
   "outputs": [
    {
     "data": {
      "text/plain": [
       "Location\n",
       "Hà Nội                   3968\n",
       "Thành phố Hồ Chí Minh    3854\n",
       "Bình Dương                493\n",
       "Đồng Nai                  358\n",
       "Long An                   224\n",
       "                         ... \n",
       "Khu vực Bắc Trung Bộ        5\n",
       "Khác                        4\n",
       "Khu vực Nam Trung Bộ        3\n",
       "Khu vực Tây Nguyên          3\n",
       "Lai Châu                    1\n",
       "Name: count, Length: 70, dtype: int64"
      ]
     },
     "execution_count": 5,
     "metadata": {},
     "output_type": "execute_result"
    }
   ],
   "source": [
    "# Tạo từ điển ánh xạ tên địa điểm sang tiếng Việt chuẩn\n",
    "city_to_vietnamese = {\n",
    "    \"Hai Duong\": \"Hải Dương\",\n",
    "    \"Long An\": \"Long An\",\n",
    "    \"Ha Noi\": \"Hà Nội\",\n",
    "    \"Ho Chi Minh\": \"Thành phố Hồ Chí Minh\",\n",
    "    \"Binh Duong\": \"Bình Dương\",\n",
    "    \"Đong Nai\": \"Đồng Nai\",\n",
    "    \"Quang Ngai\": \"Quảng Ngãi\",\n",
    "    \"Vinh Long\": \"Vĩnh Long\",\n",
    "    \"Lam Đong\": \"Lâm Đồng\",\n",
    "    \"Can Tho\": \"Cần Thơ\",\n",
    "    \"Bac Ninh\": \"Bắc Ninh\",\n",
    "    \"Dak Lak\": \"Đắk Lắk\",\n",
    "    \"Gia Lai\": \"Gia Lai\",\n",
    "    \"Bac Giang\": \"Bắc Giang\",\n",
    "    \"Binh Thuan\": \"Bình Thuận\",\n",
    "    \"Tay Ninh\": \"Tây Ninh\",\n",
    "    \"Ba Ria - Vung Tau\": \"Bà Rịa - Vũng Tàu\",\n",
    "    \"Ha Nam\": \"Hà Nam\",\n",
    "    \"Thai Binh\": \"Thái Bình\",\n",
    "    \"Bac Lieu\": \"Bạc Liêu\",\n",
    "    \"Thanh Hoa\": \"Thanh Hóa\",\n",
    "    \"Binh Đinh\": \"Bình Định\",\n",
    "    \"Tra Vinh\": \"Trà Vinh\",\n",
    "    \"Hoa Binh\": \"Hòa Bình\",\n",
    "    \"Đa Nang\": \"Đà Nẵng\",\n",
    "    \"Hung Yen\": \"Hưng Yên\",\n",
    "    \"Hai Phong\": \"Hải Phòng\",\n",
    "    \"Kien Giang\": \"Kiên Giang\",\n",
    "    \"Vinh Phuc\": \"Vĩnh Phúc\",\n",
    "    \"Ha Giang\": \"Hà Giang\",\n",
    "    \"Tuyen Quang\": \"Tuyên Quang\",\n",
    "    \"Đien Bien\": \"Điện Biên\",\n",
    "    \"Nam Dinh\": \"Nam Định\",\n",
    "    \"Lang Son\": \"Lạng Sơn\",\n",
    "    \"Nghe An\": \"Nghệ An\",\n",
    "    \"Quang Tri\": \"Quảng Trị\",\n",
    "    \"Quang Ninh\": \"Quảng Ninh\",\n",
    "    \"Ninh Thuan\": \"Ninh Thuận\",\n",
    "    \"Đong Thap\": \"Đồng Tháp\",\n",
    "    \"Quang Nam\": \"Quảng Nam\",\n",
    "    \"Thua Thien- Hue\": \"Thừa Thiên - Huế\",\n",
    "    \"Tien Giang\": \"Tiền Giang\",\n",
    "    \"Khanh Hoa\": \"Khánh Hòa\",\n",
    "    \"Phu Yen\": \"Phú Yên\",\n",
    "    \"Quang Binh\": \"Quảng Bình\",\n",
    "    \"Hau Giang\": \"Hậu Giang\",\n",
    "    \"Binh Phuoc\": \"Bình Phước\",\n",
    "    \"Phu Tho\": \"Phú Thọ\",\n",
    "    \"Ninh Binh\": \"Ninh Bình\",\n",
    "    \"Thai Nguyen\": \"Thái Nguyên\",\n",
    "    \"Bac Can\": \"Bắc Cạn\",\n",
    "    \"Son La\": \"Sơn La\",\n",
    "    \"Ha Tinh\": \"Hà Tĩnh\",\n",
    "    \"Yen Bai\": \"Yên Bái\",\n",
    "    \"Ca Mau\": \"Cà Mau\",\n",
    "    \"An Giang\": \"An Giang\",\n",
    "    \"Ben Tre\": \"Bến Tre\",\n",
    "    \"Lao Cai\": \"Lào Cai\",\n",
    "    \"Soc Trang\": \"Sóc Trăng\",\n",
    "    \"Cao Bang\": \"Cao Bằng\",\n",
    "    \"Dak Nong\": \"Đắk Nông\",\n",
    "    \"Kon Tum\": \"Kon Tum\",\n",
    "    \"Lai Chau\": \"Lai Châu\",\n",
    "    \n",
    "    # Khu vực khác\n",
    "    \"Kv Đong Nam Bo\": \"Khu vực Đông Nam Bộ\",\n",
    "    \"Kv Tay Nguyen\": \"Khu vực Tây Nguyên\",\n",
    "    \"Kv Nam Trung Bo\": \"Khu vực Nam Trung Bộ\",\n",
    "    \"Kv Bac Trung Bo\": \"Khu vực Bắc Trung Bộ\",\n",
    "    \"Đong Bang Song Cuu Long\": \"Đồng Bằng Sông Cửu Long\",\n",
    "    \"Toan Quoc\": \"Toàn Quốc\",\n",
    "    \"Khac\": \"Khác\",\n",
    "\n",
    "    # Các địa điểm khác (được gộp chung vào \"foreign city/province\")\n",
    "    \"Svay Rieng\": \"foreign city/province\",\n",
    "    \"Tokyo\": \"foreign city/province\",\n",
    "    \"Xiangkhouang\": \"foreign city/province\",\n",
    "    \"Champasak\": \"foreign city/province\",\n",
    "    \"Yokohama\": \"foreign city/province\",\n",
    "    \"Hokkaido\": \"foreign city/province\",\n",
    "    \"Malaysia\": \"foreign city/province\",\n",
    "\n",
    "    \"Bangkok\": \"foreign city/province\",\n",
    "    \"Kratie\": \"foreign city/province\",\n",
    "    \"Phnompenh\": \"foreign city/province\"\n",
    "}\n",
    "df['City'] = df['Location']\n",
    "df['Location'] = df['Location'].map(city_to_vietnamese).astype(\"category\")\n",
    "df['Location'].value_counts()"
   ]
  },
  {
   "cell_type": "markdown",
   "metadata": {},
   "source": [
    "### Việt Nam được chia thành 3 miền và 8 vùng:\n",
    "\n",
    "Source: [Địa lý Việt Nam](https://vi.wikipedia.org/wiki/%C4%90%E1%BB%8Ba_l%C3%BD_Vi%E1%BB%87t_Nam#C%C3%A1c_v%C3%B9ng_mi%E1%BB%81n).\n",
    "\n",
    "Bắc Bộ:\n",
    "- Tây Bắc Bộ\n",
    "- Đông Bắc Bộ\n",
    "- Đồng bằng sông Hồng\n",
    "\n",
    "đôi khi 2 vùng Tây Bắc và Đông Bắc được gộp chung thành Trung du và miền núi phía Bắc\n",
    "\n",
    "Trung Bộ:\n",
    "- Bắc Trung Bộ\n",
    "- Duyên hải Nam Trung Bộ\n",
    "- Tây Nguyên\n",
    "\n",
    "Nam Bộ:\n",
    "- Đông Nam Bộ\n",
    "- Đồng bằng sông "
   ]
  },
  {
   "cell_type": "code",
   "execution_count": 6,
   "metadata": {},
   "outputs": [
    {
     "data": {
      "text/plain": [
       "Region\n",
       "Đông Nam Bộ                4915\n",
       "Đồng bằng sông Hồng        4559\n",
       "Đồng bằng sông Cửu Long     342\n",
       "Duyên hải Nam Trung Bộ      293\n",
       "Bắc Trung Bộ                182\n",
       "Đông Bắc Bộ                 134\n",
       "Tây Nguyên                  126\n",
       "Tây Bắc Bộ                   63\n",
       "Toàn Quốc                    19\n",
       "Khu vực nước ngoài           11\n",
       "Khu vực khác trong nước       4\n",
       "Name: count, dtype: int64"
      ]
     },
     "execution_count": 6,
     "metadata": {},
     "output_type": "execute_result"
    }
   ],
   "source": [
    "# Tạo từ điển ánh xạ tỉnh/thành phố sang vùng\n",
    "location_to_region = {\n",
    "# miền Bắc Bộ\n",
    "    # Tây Bắc Bộ\n",
    "    \"Hòa Bình\": \"Tây Bắc Bộ\", \n",
    "    \"Lào Cai\": \"Tây Bắc Bộ\",\n",
    "    \"Yên Bái\": \"Tây Bắc Bộ\",\n",
    "    \n",
    "    # Đông Bắc Bộ\n",
    "    \"Hà Giang\": \"Đông Bắc Bộ\",\n",
    "    \"Cao Bằng\": \"Đông Bắc Bộ\",\n",
    "    \"Bắc Cạn\": \"Đông Bắc Bộ\",\n",
    "    \"Thái Nguyên\": \"Đông Bắc Bộ\",\n",
    "    \"Lạng Sơn\": \"Đông Bắc Bộ\",\n",
    "    \"Bắc Giang\": \"Đông Bắc Bộ\",\n",
    "    \"Phú Thọ\": \"Đông Bắc Bộ\",\n",
    "    \n",
    "    # Đồng bằng sông Hồng\n",
    "    \"Hà Nội\": \"Đồng bằng sông Hồng\",\n",
    "    \"Hải Phòng\": \"Đồng bằng sông Hồng\",\n",
    "    \"Nam Định\": \"Đồng bằng sông Hồng\",\n",
    "    \"Hải Dương\": \"Đồng bằng sông Hồng\",\n",
    "    \"Bắc Ninh\": \"Đồng bằng sông Hồng\",\n",
    "    \"Hà Nam\": \"Đồng bằng sông Hồng\",\n",
    "    \"Thái Bình\": \"Đồng bằng sông Hồng\",\n",
    "    \"Ninh Bình\": \"Đồng bằng sông Hồng\",\n",
    "    \"Bắc Ninh\": \"Đồng bằng sông Hồng\",\n",
    "    \"Hưng Yên\": \"Đồng bằng sông Hồng\",\n",
    "    \n",
    "# miền Trung Bộ\n",
    "    # Bắc Trung Bộ\n",
    "    \"Thanh Hóa\": \"Bắc Trung Bộ\",\n",
    "    \"Nghệ An\": \"Bắc Trung Bộ\",\n",
    "    \"Hà Tĩnh\": \"Bắc Trung Bộ\",\n",
    "    \"Quảng Bình\": \"Bắc Trung Bộ\",\n",
    "    \"Quảng Trị\": \"Bắc Trung Bộ\",\n",
    "    \"Thừa Thiên - Huế\": \"Bắc Trung Bộ\",\n",
    "    \"Khu vực Bắc Trung Bộ\": \"Bắc Trung Bộ\",\n",
    "\n",
    "    # Duyên hải Nam Trung Bộ\n",
    "    \"Đà Nẵng\": \"Duyên hải Nam Trung Bộ\",\n",
    "    \"Quảng Nam\": \"Duyên hải Nam Trung Bộ\",\n",
    "    \"Quảng Ngãi\": \"Duyên hải Nam Trung Bộ\",\n",
    "    \"Bình Định\": \"Duyên hải Nam Trung Bộ\",\n",
    "    \"Phú Yên\": \"Duyên hải Nam Trung Bộ\",\n",
    "    \"Khánh Hòa\": \"Duyên hải Nam Trung Bộ\",\n",
    "    \"Ninh Thuận\": \"Duyên hải Nam Trung Bộ\",\n",
    "    \"Bình Thuận\": \"Duyên hải Nam Trung Bộ\",\n",
    "    \"Khu vực Nam Trung Bộ\": \"Duyên hải Nam Trung Bộ\",\n",
    "    \n",
    "    # Tây Nguyên\n",
    "    \"Lâm Đồng\": \"Tây Nguyên\",\n",
    "    \"Gia Lai\": \"Tây Nguyên\",\n",
    "    \"Kon Tum\": \"Tây Nguyên\",\n",
    "    \"Đắk Nông\": \"Tây Nguyên\",\n",
    "    \"Đắk Lắk\": \"Tây Nguyên\",\n",
    "    \"Khu vực Tây Nguyên\": \"Tây Nguyên\",\n",
    "    \n",
    "# miền Nam Bộ\n",
    "    # Đồng bằng sông Cửu Long\n",
    "    \"Long An\": \"Đồng bằng sông Cửu Long\", \n",
    "    \"Tiền Giang\": \"Đồng bằng sông Cửu Long\",\n",
    "    \"Bến Tre\": \"Đồng bằng sông Cửu Long\",\n",
    "    \"Bạc Liêu\": \"Đồng bằng sông Cửu Long\",\n",
    "    \"Hậu Giang\": \"Đồng bằng sông Cửu Long\",\n",
    "    \"Đồng Tháp\": \"Đồng bằng sông Cửu Long\",\n",
    "    \"Đồng Bằng Sông Cửu Long\": \"Đồng bằng sông Cửu Long\",\n",
    "    \n",
    "    # Đông Nam Bộ\n",
    "    \"Thành phố Hồ Chí Minh\": \"Đông Nam Bộ\",\n",
    "    \"Bà Rịa - Vũng Tàu\": \"Đông Nam Bộ\",\n",
    "    \"Bình Dương\": \"Đông Nam Bộ\",\n",
    "    \"Bình Phước\": \"Đông Nam Bộ\",\n",
    "    \"Đồng Nai\": \"Đông Nam Bộ\",\n",
    "    \"Tây Ninh\": \"Đông Nam Bộ\",\n",
    "    \"Khu vực Đông Nam Bộ\": \"Đông Nam Bộ\",\n",
    "    \n",
    "    # Khu vực khác trong nước\n",
    "    \"Khác\": \"Khu vực khác trong nước\",\n",
    "    # Toàn quốc\n",
    "    \"Toàn Quốc\": \"Toàn Quốc\",\n",
    "    \n",
    "    # Nước ngoài\n",
    "    \"foreign city/province\": \"Khu vực nước ngoài\",\n",
    "}\n",
    "\n",
    "df['Region'] = df['Location'].map(location_to_region).astype(\"category\")\n",
    "df['Region'].value_counts()"
   ]
  },
  {
   "cell_type": "code",
   "execution_count": 7,
   "metadata": {},
   "outputs": [
    {
     "data": {
      "text/plain": [
       "Domain\n",
       "Nam Bộ                     5257\n",
       "Bắc Bộ                     4756\n",
       "Trung Bộ                    596\n",
       "Toàn Quốc                    19\n",
       "Khu vực nước ngoài           11\n",
       "Khu vực khác trong nước       4\n",
       "Name: count, dtype: int64"
      ]
     },
     "execution_count": 7,
     "metadata": {},
     "output_type": "execute_result"
    }
   ],
   "source": [
    "# Tạo từ điển ánh xạ tỉnh/thành phố sang miền\n",
    "location_to_domain = {\n",
    "    # miền Bắc Bộ\n",
    "    \"Hòa Bình\": \"Bắc Bộ\", \n",
    "    \"Lào Cai\": \"Bắc Bộ\",\n",
    "    \"Yên Bái\": \"Bắc Bộ\",\n",
    "    \"Hà Giang\": \"Bắc Bộ\",\n",
    "    \"Cao Bằng\": \"Bắc Bộ\",\n",
    "    \"Bắc Cạn\": \"Bắc Bộ\",\n",
    "    \"Thái Nguyên\": \"Bắc Bộ\",\n",
    "    \"Lạng Sơn\": \"Bắc Bộ\",\n",
    "    \"Bắc Giang\": \"Bắc Bộ\",\n",
    "    \"Phú Thọ\": \"Bắc Bộ\",\n",
    "    \"Hà Nội\": \"Bắc Bộ\",\n",
    "    \"Hải Phòng\": \"Bắc Bộ\",\n",
    "    \"Nam Định\": \"Bắc Bộ\",\n",
    "    \"Hải Dương\": \"Bắc Bộ\",\n",
    "    \"Bắc Ninh\": \"Bắc Bộ\",\n",
    "    \"Hà Nam\": \"Bắc Bộ\",\n",
    "    \"Thái Bình\": \"Bắc Bộ\",\n",
    "    \"Ninh Bình\": \"Bắc Bộ\",\n",
    "    \"Bắc Ninh\": \"Bắc Bộ\",\n",
    "    \"Hưng Yên\": \"Bắc Bộ\",\n",
    "    \n",
    "    # miền Trung Bộ\n",
    "    \"Thanh Hóa\": \"Trung Bộ\",\n",
    "    \"Nghệ An\": \"Trung Bộ\",\n",
    "    \"Hà Tĩnh\": \"Trung Bộ\",\n",
    "    \"Quảng Bình\": \"Trung Bộ\",\n",
    "    \"Quảng Trị\": \"Trung Bộ\",\n",
    "    \"Thừa Thiên - Huế\": \"Trung Bộ\",\n",
    "    \"Đà Nẵng\": \"Trung Bộ\",\n",
    "    \"Quảng Nam\": \"Trung Bộ\",\n",
    "    \"Quảng Ngãi\": \"Trung Bộ\",\n",
    "    \"Bình Định\": \"Trung Bộ\",\n",
    "    \"Phú Yên\": \"Trung Bộ\",\n",
    "    \"Khánh Hòa\": \"Trung Bộ\",\n",
    "    \"Ninh Thuận\": \"Trung Bộ\",\n",
    "    \"Bình Thuận\": \"Trung Bộ\",\n",
    "    \"Khu vực Nam Trung Bộ\": \"Trung Bộ\",\n",
    "    \"Lâm Đồng\": \"Trung Bộ\",\n",
    "    \"Gia Lai\": \"Trung Bộ\",\n",
    "    \"Kon Tum\": \"Trung Bộ\",\n",
    "    \"Đắk Nông\": \"Trung Bộ\",\n",
    "    \"Đắk Lắk\": \"Trung Bộ\",\n",
    "    \"Khu vực Tây Nguyên\": \"Trung Bộ\",\n",
    "    \n",
    "    # miền Nam Bộ\n",
    "    \"Long An\": \"Nam Bộ\", \n",
    "    \"Tiền Giang\": \"Nam Bộ\",\n",
    "    \"Bến Tre\": \"Nam Bộ\",\n",
    "    \"Bạc Liêu\": \"Nam Bộ\",\n",
    "    \"Hậu Giang\": \"Nam Bộ\",\n",
    "    \"Đồng Tháp\": \"Nam Bộ\",\n",
    "    \"Đồng Bằng Sông Cửu Long\": \"Nam Bộ\",\n",
    "    \"Thành phố Hồ Chí Minh\": \"Nam Bộ\",\n",
    "    \"Bà Rịa - Vũng Tàu\": \"Nam Bộ\",\n",
    "    \"Bình Dương\": \"Nam Bộ\",\n",
    "    \"Bình Phước\": \"Nam Bộ\",\n",
    "    \"Đồng Nai\": \"Nam Bộ\",\n",
    "    \"Tây Ninh\": \"Nam Bộ\",\n",
    "    \"Khu vực Đông Nam Bộ\": \"Nam Bộ\",\n",
    "    \n",
    "    # Khu vực khác trong nước\n",
    "    \"Khác\": \"Khu vực khác trong nước\",\n",
    "    # Toàn quốc\n",
    "    \"Toàn Quốc\": \"Toàn Quốc\",\n",
    "    \n",
    "    # Nước ngoài\n",
    "    \"foreign city/province\": \"Khu vực nước ngoài\",\n",
    "}\n",
    "\n",
    "df['Domain'] = df['Location'].map(location_to_domain).astype(\"category\")\n",
    "df['Domain'].value_counts()"
   ]
  },
  {
   "cell_type": "markdown",
   "metadata": {},
   "source": [
    "## II. Đặt câu hỏi có ý nghĩa và trả lời bằng trực quan <a id=\"ii\"></a>"
   ]
  },
  {
   "cell_type": "markdown",
   "metadata": {},
   "source": [
    "### 1. Câu hỏi 1 <a id=\"ii1\"></a>\n",
    "\n",
    "### Mức lương trung bình theo các vùng và cấp bậc công việc ở Việt Nam là bao nhiêu?"
   ]
  },
  {
   "cell_type": "code",
   "execution_count": 8,
   "metadata": {},
   "outputs": [
    {
     "data": {
      "text/plain": [
       "Job Level\n",
       "Nhân viên                   8053\n",
       "Trưởng nhóm / Giám sát      1108\n",
       "Quản lý                      965\n",
       "Sinh viên/ Thực tập sinh     389\n",
       "Mới tốt nghiệp               353\n",
       "Giám đốc                     123\n",
       "Phó Giám đốc                  25\n",
       "Tổng giám đốc                  1\n",
       "Name: count, dtype: int64"
      ]
     },
     "execution_count": 8,
     "metadata": {},
     "output_type": "execute_result"
    }
   ],
   "source": [
    "df['Job Level'].value_counts()"
   ]
  },
  {
   "cell_type": "code",
   "execution_count": 9,
   "metadata": {},
   "outputs": [
    {
     "name": "stdout",
     "output_type": "stream",
     "text": [
      "(890, 23)\n"
     ]
    }
   ],
   "source": [
    "# Xóa các giá trị ngoại lai của cột Salary bằng tứ phân vị\n",
    "Q1 = df['Salary'].quantile(0.25)\n",
    "Q3 = df['Salary'].quantile(0.75)\n",
    "IQR = Q3 - Q1\n",
    "\n",
    "# Xác định các giá trị ngoại lai\n",
    "lower_bound = Q1 - 1.5 * IQR\n",
    "upper_bound = Q3 + 1.5 * IQR\n",
    "\n",
    "# Đếm số lượng giá trị ngoại lai\n",
    "outliers = df[(df['Salary'] < lower_bound) | (df['Salary'] > upper_bound)]\n",
    "print(outliers.shape)\n",
    "\n",
    "# Lọc bỏ các giá trị ngoại lai\n",
    "df = df[(df['Salary'] >= lower_bound) & (df['Salary'] <= upper_bound)]"
   ]
  },
  {
   "cell_type": "code",
   "execution_count": 10,
   "metadata": {},
   "outputs": [
    {
     "data": {
      "text/plain": [
       "Location\n",
       "Thành phố Hồ Chí Minh        900000\n",
       "Đà Nẵng                     1000000\n",
       "Hà Nội                      1000000\n",
       "Vĩnh Long                   1200000\n",
       "Bình Dương                  2000000\n",
       "                             ...   \n",
       "Quảng Trị                  12200000\n",
       "Lai Châu                   12500000\n",
       "Đồng Bằng Sông Cửu Long    12500000\n",
       "Khu vực Tây Nguyên         14000000\n",
       "Khu vực Bắc Trung Bộ       14000000\n",
       "Name: Salary, Length: 70, dtype: int64"
      ]
     },
     "execution_count": 10,
     "metadata": {},
     "output_type": "execute_result"
    }
   ],
   "source": [
    "# Lấy lương thấp nhất của các tỉnh\n",
    "min_salary = df.groupby('Location', observed=True)['Salary'].min().sort_values()\n",
    "min_salary"
   ]
  },
  {
   "cell_type": "code",
   "execution_count": 11,
   "metadata": {},
   "outputs": [
    {
     "data": {
      "text/plain": [
       "Location\n",
       "Thành phố Hồ Chí Minh    31200000\n",
       "Bình Dương               31200000\n",
       "Hà Nội                   31200000\n",
       "Bình Phước               31000000\n",
       "Hải Dương                31000000\n",
       "                           ...   \n",
       "Kon Tum                  17800000\n",
       "Khu vực Tây Nguyên       17500000\n",
       "Khu vực Bắc Trung Bộ     17500000\n",
       "Phú Yên                  15500000\n",
       "Lai Châu                 12500000\n",
       "Name: Salary, Length: 70, dtype: int64"
      ]
     },
     "execution_count": 11,
     "metadata": {},
     "output_type": "execute_result"
    }
   ],
   "source": [
    "# Lấy lương cao nhất của các tỉnh\n",
    "max_salary = df.groupby('Location', observed=True)['Salary'].max()\n",
    "max_salary = max_salary.sort_values(ascending=False)\n",
    "max_salary"
   ]
  },
  {
   "cell_type": "code",
   "execution_count": 12,
   "metadata": {},
   "outputs": [
    {
     "name": "stdout",
     "output_type": "stream",
     "text": [
      "\n",
      "Mức lương trung bình theo vùng và cấp bậc công việc:\n",
      "                   Location  Average Salary\n",
      "0                  An Giang    1.482500e+07\n",
      "1         Bà Rịa - Vũng Tàu    1.442245e+07\n",
      "2                Bình Dương    1.460352e+07\n",
      "3                Bình Phước    1.588537e+07\n",
      "4                Bình Thuận    1.235769e+07\n",
      "..                      ...             ...\n",
      "65                  Đắk Lắk    1.248000e+07\n",
      "66                 Đắk Nông    1.467857e+07\n",
      "67  Đồng Bằng Sông Cửu Long    1.762500e+07\n",
      "68                 Đồng Nai    1.440909e+07\n",
      "69                Đồng Tháp    1.355556e+07\n",
      "\n",
      "[70 rows x 2 columns]\n"
     ]
    }
   ],
   "source": [
    "# Tính toán mức lương trung bình theo Location và Job Level\n",
    "avg_salary = df.groupby(['Location'], observed=True)['Salary'].mean().reset_index()\n",
    "avg_salary.rename(columns={'Salary': 'Average Salary'}, inplace=True)\n",
    "print(\"\\nMức lương trung bình theo vùng và cấp bậc công việc:\")\n",
    "print(avg_salary)"
   ]
  },
  {
   "cell_type": "code",
   "execution_count": 13,
   "metadata": {},
   "outputs": [
    {
     "data": {
      "image/png": "[encoded data removed]",
      "text/plain": [
       "<Figure size 1200x800 with 1 Axes>"
      ]
     },
     "metadata": {},
     "output_type": "display_data"
    }
   ],
   "source": [
    "plt.figure(figsize=(12, 8))\n",
    "sns.barplot(\n",
    "    data=avg_salary,\n",
    "    y='Location',\n",
    "    x='Average Salary',\n",
    ")\n",
    "plt.title('Mức Lương Trung Bình Theo Địa Điểm', fontsize=16)\n",
    "plt.ylabel('Tỉnh', fontsize=14)\n",
    "plt.xlabel('Mức lương trung bình (VND)', fontsize=14)\n",
    "plt.xlim(10000000, 20000000)\n",
    "plt.tight_layout()\n",
    "plt.show()"
   ]
  },
  {
   "cell_type": "markdown",
   "metadata": {},
   "source": [
    "### 2. Câu hỏi 2 <a id=\"ii2\"></a>"
   ]
  },
  {
   "cell_type": "markdown",
   "metadata": {},
   "source": [
    "### 3. Câu hỏi 3 <a id=\"ii3\"></a>"
   ]
  },
  {
   "cell_type": "markdown",
   "metadata": {},
   "source": [
    "### 4. Câu hỏi 4 <a id=\"ii4\"></a>"
   ]
  },
  {
   "cell_type": "markdown",
   "metadata": {},
   "source": [
    "### 5. Câu hỏi 5 <a id=\"ii5\"></a>"
   ]
  },
  {
   "cell_type": "markdown",
   "metadata": {},
   "source": [
    "### 6. Câu hỏi 6 <a id=\"ii6\"></a>"
   ]
  },
  {
   "cell_type": "markdown",
   "metadata": {},
   "source": [
    "### 7. Câu hỏi 7 <a id=\"ii7\"></a>"
   ]
  },
  {
   "cell_type": "markdown",
   "metadata": {},
   "source": [
    "### 8. Câu hỏi 8 <a id=\"ii8\"></a>"
   ]
  },
  {
   "cell_type": "markdown",
   "metadata": {},
   "source": [
    "### 9. Câu hỏi 9 <a id=\"ii9\"></a>"
   ]
  },
  {
   "cell_type": "markdown",
   "metadata": {},
   "source": [
    "### 10. Câu hỏi 10 <a id=\"ii10\"></a>"
   ]
  },
  {
   "cell_type": "markdown",
   "metadata": {},
   "source": [
    "## Tài liệu tham khảo  <a id=\"tl\"></a>"
   ]
  }
 ],
 "metadata": {
  "kernelspec": {
   "display_name": "base",
   "language": "python",
   "name": "python3"
  },
  "language_info": {
   "codemirror_mode": {
    "name": "ipython",
    "version": 3
   },
   "file_extension": ".py",
   "mimetype": "text/x-python",
   "name": "python",
   "nbconvert_exporter": "python",
   "pygments_lexer": "ipython3",
   "version": "3.11.7"
  }
 },
 "nbformat": 4,
 "nbformat_minor": 2
}
