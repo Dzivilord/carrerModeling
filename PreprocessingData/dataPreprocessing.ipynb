{
 "cells": [
  {
   "cell_type": "code",
   "execution_count": 1,
   "metadata": {},
   "outputs": [],
   "source": [
    "#!pip install pyvi\n",
    "#!pip install stop-words\n",
    "#!pip install stopwords\n",
    "#!pip install googletrans\n",
    "#!pip install google_trans_new\n",
    "#!pip install deep_translator\n"
   ]
  },
  {
   "cell_type": "code",
   "execution_count": 2,
   "metadata": {},
   "outputs": [],
   "source": [
    "from Trans_Tokenize import *\n",
    "import numpy as np\n",
    "import matplotlib.pyplot as plt\n",
    "import seaborn as sns\n",
    "import os\n",
    "import sys\n",
    "from sklearn.model_selection import train_test_split\n",
    "import math\n",
    "import unicodedata\n"
   ]
  },
  {
   "cell_type": "code",
   "execution_count": 3,
   "metadata": {},
   "outputs": [],
   "source": [
    "raw_data_path='../dataset/job_data.csv'\n",
    "\n",
    "raw_data=pd.read_csv(raw_data_path)\n",
    "start = 500  # Vị trí bắt đầu (chỉ số hàng)\n",
    "end = 520    # Vị trí kết thúc (không bao gồm hàng này)\n",
    "\n",
    "raw_data = raw_data.iloc[start:end]"
   ]
  },
  {
   "cell_type": "markdown",
   "metadata": {},
   "source": [
    "### Extract dataframe from few features"
   ]
  },
  {
   "cell_type": "code",
   "execution_count": 4,
   "metadata": {},
   "outputs": [],
   "source": [
    "extracted_data=raw_data[['Company Name','Location','Experience','Job Level','Industry','Employment Type','Welfare','Job Description','Job Requirements','Follower','Company Address','Salary']]"
   ]
  },
  {
   "cell_type": "markdown",
   "metadata": {},
   "source": [
    "### Drop some duplicate job application. Some company create the same after few day and change a bit "
   ]
  },
  {
   "cell_type": "code",
   "execution_count": 5,
   "metadata": {},
   "outputs": [],
   "source": [
    "\n",
    "extracted_data = extracted_data.drop_duplicates(subset=['Job Description','Job Level','Company Name','Location'], keep='first')\n"
   ]
  },
  {
   "cell_type": "markdown",
   "metadata": {},
   "source": [
    "### Format Location"
   ]
  },
  {
   "cell_type": "code",
   "execution_count": 6,
   "metadata": {},
   "outputs": [],
   "source": [
    "\n",
    "def remove_diacritics(text):\n",
    "    return ''.join(\n",
    "        c for c in unicodedata.normalize('NFD', text)\n",
    "        if unicodedata.category(c) != 'Mn'\n",
    "    )"
   ]
  },
  {
   "cell_type": "code",
   "execution_count": 7,
   "metadata": {},
   "outputs": [],
   "source": [
    "\n",
    "extracted_data['Location'] = extracted_data['Location'].apply(lambda x: x.title())\n",
    "\n",
    "extracted_data['Location'] = extracted_data['Location'].apply(lambda x: x.split(',')[0].strip() if ',' in x else x.strip())\n",
    "extracted_data['Location'] = extracted_data['Location'].apply(remove_diacritics)\n",
    "\n",
    "filtered_location_data = extracted_data[~extracted_data['Location'].isin(['Not Specified', 'Not Found'])]\n",
    "\n"
   ]
  },
  {
   "cell_type": "markdown",
   "metadata": {},
   "source": [
    "### Experience prepossessing"
   ]
  },
  {
   "cell_type": "code",
   "execution_count": 8,
   "metadata": {},
   "outputs": [],
   "source": [
    "def extract_all_numbers(value):\n",
    "    value = value.replace(',', '')\n",
    "    value = value.replace('.', '')\n",
    "    numbers = re.findall(r'\\d+', value)\n",
    "    numbers = [int(num) for num in numbers]\n",
    "    \n",
    "    if len(numbers) > 1 and (numbers[1] / numbers[0] > 2):\n",
    "        return numbers[0]\n",
    "    elif numbers:\n",
    "        return sum(numbers) / len(numbers)  # Tính trung bình nếu có số\n",
    "    return 0  \n",
    " "
   ]
  },
  {
   "cell_type": "code",
   "execution_count": 9,
   "metadata": {},
   "outputs": [],
   "source": [
    "filtered_location_data.loc[:, 'Experience'] = filtered_location_data['Experience'].apply(extract_all_numbers)\n",
    "filtered_experience_data = filtered_location_data"
   ]
  },
  {
   "cell_type": "markdown",
   "metadata": {},
   "source": [
    "### Industry data"
   ]
  },
  {
   "cell_type": "code",
   "execution_count": 10,
   "metadata": {},
   "outputs": [],
   "source": [
    "\n",
    "filtered_experience_data.loc[:,'Industry'] = filtered_experience_data['Industry'].apply(translate_column)"
   ]
  },
  {
   "cell_type": "code",
   "execution_count": 11,
   "metadata": {},
   "outputs": [],
   "source": [
    "filtered_experience_data.loc[:,'Industry']=filtered_experience_data['Industry'].apply(process_tokenization_english)"
   ]
  },
  {
   "cell_type": "markdown",
   "metadata": {},
   "source": [
    "### Employment Type"
   ]
  },
  {
   "cell_type": "code",
   "execution_count": 12,
   "metadata": {},
   "outputs": [],
   "source": [
    "filtered_employee_data=filtered_experience_data.copy()\n",
    "#filtered_employee_data['Employment Type'].value_counts()"
   ]
  },
  {
   "cell_type": "code",
   "execution_count": 16,
   "metadata": {},
   "outputs": [],
   "source": [
    "filtered_employee_data.loc[:, 'Employment Type'] = filtered_employee_data['Employment Type'].replace({\n",
    "    'Toàn thời gian': 'Official',\n",
    "    'Nhân viên chính thức': 'Official',\n",
    "    'Thời vụ/ Nghề tự do': 'Part-time',\n",
    "    'Thực tập':'Internship'\n",
    "})"
   ]
  },
  {
   "cell_type": "markdown",
   "metadata": {},
   "source": [
    "### Job Level preprocessing"
   ]
  },
  {
   "cell_type": "code",
   "execution_count": null,
   "metadata": {},
   "outputs": [],
   "source": [
    "filtered_job_level_data = filtered_employee_data.copy()\n",
    "filtered_job_level_data.loc[:, 'Job Level'] = filtered_job_level_data['Job Level'].replace({\n",
    "    'Nhân viên': 'Employee',\n",
    "    'Trưởng nhóm / Giám sát': 'Leader',\n",
    "    'Quản lý': 'Manager',\n",
    "    'Giám đốc': 'Chief',\n",
    "    'Sinh viên/ Thực tập sinh':'Intership',\n",
    "})"
   ]
  },
  {
   "cell_type": "markdown",
   "metadata": {},
   "source": [
    "### Welfare preprocessing"
   ]
  },
  {
   "cell_type": "code",
   "execution_count": 18,
   "metadata": {},
   "outputs": [],
   "source": [
    "filtered_job_level_data.loc[:,'Welfare'] = filtered_job_level_data['Welfare'].apply(translate_column)"
   ]
  },
  {
   "cell_type": "code",
   "execution_count": 19,
   "metadata": {},
   "outputs": [],
   "source": [
    "filtered_job_level_data.loc[:,'Welfare']=filtered_job_level_data['Welfare'].apply(process_tokenization_english)"
   ]
  },
  {
   "cell_type": "code",
   "execution_count": 20,
   "metadata": {},
   "outputs": [],
   "source": [
    "filtered_welfare_data=filtered_job_level_data.copy()    "
   ]
  },
  {
   "cell_type": "markdown",
   "metadata": {},
   "source": [
    "### Follower preprocessing"
   ]
  },
  {
   "cell_type": "code",
   "execution_count": 21,
   "metadata": {},
   "outputs": [],
   "source": [
    "\n",
    "filtered_follower_data = filtered_welfare_data.copy()\n",
    "filtered_follower_data['Follower'] = filtered_follower_data['Follower'].astype(str)\n",
    "\n",
    "filtered_follower_data['Follower'] = filtered_follower_data['Follower'].replace('nan', '0').replace('Not Found', '0').replace('Not specified', '0')\n",
    "\n",
    "filtered_follower_data['Follower'] = filtered_follower_data['Follower'].apply(lambda x: int(x.replace('.', '')))\n"
   ]
  },
  {
   "cell_type": "markdown",
   "metadata": {},
   "source": [
    "### Job Requirements Preprocessing"
   ]
  },
  {
   "cell_type": "code",
   "execution_count": 22,
   "metadata": {},
   "outputs": [],
   "source": [
    "filtered_requirement_data=filtered_follower_data.copy()\n",
    "filtered_requirement_data['Job Requirements'] = filtered_requirement_data['Job Requirements'].replace(\n",
    "    ['', 'Not Found', 'not found', 'Not specifield', 'Not Specifield'], \n",
    "    'No requirements needed')\n"
   ]
  },
  {
   "cell_type": "code",
   "execution_count": 23,
   "metadata": {},
   "outputs": [],
   "source": [
    "filtered_requirement_data.loc[:,'Job Requirements'] = filtered_requirement_data['Job Requirements'].apply(translate_column)"
   ]
  },
  {
   "cell_type": "code",
   "execution_count": 24,
   "metadata": {},
   "outputs": [],
   "source": [
    "filtered_requirement_data.loc[:,'Job Requirements']=filtered_requirement_data['Job Requirements'].apply(process_tokenization_english)"
   ]
  },
  {
   "cell_type": "markdown",
   "metadata": {},
   "source": [
    "### Salary preprocessing"
   ]
  },
  {
   "cell_type": "code",
   "execution_count": 25,
   "metadata": {},
   "outputs": [],
   "source": [
    "import re\n",
    "import math\n",
    "\n",
    "def extract_salary(value):\n",
    "    # Loại bỏ dấu phẩy trong số (để xử lý 700,000 => 700000)\n",
    "    value = value.replace(',', '')\n",
    "    value = value.replace('.', '')\n",
    "    \n",
    "    # Tách các con số trong chuỗi\n",
    "    numbers = re.findall(r'\\d+', value)\n",
    "    numbers = [int(num) for num in numbers]  # Chuyển các chuỗi số thành integer\n",
    "    \n",
    "    # Nếu có khoảng lương\n",
    "    if len(numbers) > 1:\n",
    "        # Nếu khoảng chênh lệch giữa hai giá trị quá lớn (ví dụ: 700 - 1,000 USD)\n",
    "        if (numbers[1] - numbers[0]) / numbers[0] > 0.5:\n",
    "            salary = numbers[0] + (numbers[1] - numbers[0]) / 4  # Đoán mức lương trung bình trong khoảng\n",
    "        else:\n",
    "            salary = sum(numbers) / len(numbers)  \n",
    "    elif numbers:\n",
    "        # Trường hợp chỉ có một số\n",
    "        salary = sum(numbers) / len(numbers)\n",
    "    else:\n",
    "        return 'Cạnh tranh'\n",
    "    \n",
    "    # Kiểm tra các đơn vị tiền tệ và chuyển đổi\n",
    "    if any(unit in value.lower() for unit in ['triệu', 'tr']):\n",
    "        salary *= 1_000_000  \n",
    "    elif any(unit in value.lower() for unit in ['usd', 'đô la', '$', 'đô']):\n",
    "        salary *= 23_000  \n",
    "\n",
    "    \n",
    "    if any(unit in value.lower() for unit in ['năm', 'year']):\n",
    "        salary /= 12  \n",
    "\n",
    "    # Làm tròn kết quả về bội số gần nhất của 100,000\n",
    "    return math.ceil(round(salary, -5))\n",
    "\n"
   ]
  },
  {
   "cell_type": "code",
   "execution_count": 26,
   "metadata": {},
   "outputs": [],
   "source": [
    "filtered_salary_data = filtered_requirement_data.copy()\n",
    "\n",
    "filtered_salary_data['Salary'] = filtered_salary_data['Salary'].replace(\n",
    "    ['0','Thỏa thuận', 'Negotiable', 'Not Specified', 'Not Found', 'not found', 'Not specifield'], \n",
    "    np.nan)\n",
    "filtered_salary_data['Salary'] = filtered_salary_data['Salary'].apply(extract_salary)"
   ]
  },
  {
   "cell_type": "code",
   "execution_count": 27,
   "metadata": {},
   "outputs": [
    {
     "data": {
      "text/plain": [
       "Salary\n",
       "Cạnh tranh    6\n",
       "12000000      2\n",
       "12500000      1\n",
       "22500000      1\n",
       "21000000      1\n",
       "41200000      1\n",
       "16500000      1\n",
       "15500000      1\n",
       "9500000       1\n",
       "600000000     1\n",
       "20000000      1\n",
       "7500000       1\n",
       "Name: count, dtype: int64"
      ]
     },
     "execution_count": 27,
     "metadata": {},
     "output_type": "execute_result"
    }
   ],
   "source": [
    "filtered_salary_data['Salary'].value_counts()"
   ]
  },
  {
   "cell_type": "code",
   "execution_count": 28,
   "metadata": {},
   "outputs": [],
   "source": [
    "processed_data=filtered_salary_data[['Location','Experience','Job Level','Industry','Employment Type','Welfare','Job Requirements','Follower','Salary']]"
   ]
  },
  {
   "cell_type": "markdown",
   "metadata": {},
   "source": [
    "### Reduced Token\n"
   ]
  },
  {
   "cell_type": "code",
   "execution_count": 29,
   "metadata": {},
   "outputs": [],
   "source": [
    "def remove_common_tokens(row):\n",
    "    # Đảm bảo cả hai cột là chuỗi trước khi split\n",
    "    job_requirements_text = ' '.join(row['Job Requirements']) if isinstance(row['Job Requirements'], list) else row['Job Requirements']\n",
    "    welfare_text = ' '.join(row['Welfare']) if isinstance(row['Welfare'], list) else row['Welfare']\n",
    "    \n",
    "    # Tách các từ trong cả hai cột và chuyển thành set\n",
    "    job_requirements_tokens = set(job_requirements_text.split())\n",
    "    welfare_tokens = set(welfare_text.split())\n",
    "    \n",
    "    # Xóa các từ chung giữa Job Requirements và Welfare\n",
    "    unique_tokens = job_requirements_tokens - welfare_tokens\n",
    "    \n",
    "    # Gộp các từ còn lại thành chuỗi và trả về\n",
    "    return unique_tokens"
   ]
  },
  {
   "cell_type": "code",
   "execution_count": 30,
   "metadata": {},
   "outputs": [],
   "source": [
    "\n",
    "processed_data.loc[:,'Job Requirements'] = processed_data.apply(remove_common_tokens, axis=1)\n"
   ]
  },
  {
   "cell_type": "code",
   "execution_count": 31,
   "metadata": {},
   "outputs": [
    {
     "name": "stdout",
     "output_type": "stream",
     "text": [
      "<class 'pandas.core.frame.DataFrame'>\n",
      "Index: 18 entries, 500 to 519\n",
      "Data columns (total 9 columns):\n",
      " #   Column            Non-Null Count  Dtype \n",
      "---  ------            --------------  ----- \n",
      " 0   Location          18 non-null     object\n",
      " 1   Experience        18 non-null     object\n",
      " 2   Job Level         18 non-null     object\n",
      " 3   Industry          18 non-null     object\n",
      " 4   Employment Type   18 non-null     object\n",
      " 5   Welfare           18 non-null     object\n",
      " 6   Job Requirements  18 non-null     object\n",
      " 7   Follower          18 non-null     int64 \n",
      " 8   Salary            18 non-null     object\n",
      "dtypes: int64(1), object(8)\n",
      "memory usage: 1.4+ KB\n"
     ]
    }
   ],
   "source": [
    "processed_data.info()"
   ]
  },
  {
   "cell_type": "code",
   "execution_count": null,
   "metadata": {},
   "outputs": [],
   "source": []
  },
  {
   "cell_type": "markdown",
   "metadata": {},
   "source": [
    "### Separate and write file"
   ]
  },
  {
   "cell_type": "code",
   "execution_count": 32,
   "metadata": {},
   "outputs": [],
   "source": [
    "Defined_salary=processed_data[processed_data['Salary']!='Cạnh tranh']\n",
    "Undefined_salary=processed_data[processed_data['Salary']=='Cạnh tranh']"
   ]
  },
  {
   "cell_type": "code",
   "execution_count": 33,
   "metadata": {},
   "outputs": [],
   "source": [
    "Defined_salary.to_csv('../dataset/Defined_salary.csv', index=False,encoding='utf-8-sig')\n",
    "Undefined_salary.to_csv('../dataset/Undefined_salary.csv', index=False,encoding='utf-8-sig')"
   ]
  }
 ],
 "metadata": {
  "kernelspec": {
   "display_name": "Python 3",
   "language": "python",
   "name": "python3"
  },
  "language_info": {
   "codemirror_mode": {
    "name": "ipython",
    "version": 3
   },
   "file_extension": ".py",
   "mimetype": "text/x-python",
   "name": "python",
   "nbconvert_exporter": "python",
   "pygments_lexer": "ipython3",
   "version": "3.12.4"
  }
 },
 "nbformat": 4,
 "nbformat_minor": 2
}
