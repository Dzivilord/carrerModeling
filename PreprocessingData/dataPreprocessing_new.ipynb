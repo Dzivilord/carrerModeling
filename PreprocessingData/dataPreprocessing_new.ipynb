{
 "cells": [
  {
   "cell_type": "code",
   "execution_count": null,
   "metadata": {},
   "outputs": [],
   "source": [
    "from Trans_Tokenize import *\n",
    "import numpy as np\n",
    "import pandas as pd\n",
    "import matplotlib.pyplot as plt\n",
    "import seaborn as sns\n",
    "import os\n",
    "import sys\n",
    "from sklearn.model_selection import train_test_split\n",
    "import math\n",
    "import unicodedata\n",
    "import re\n",
    "import swifter\n",
    "import nltk"
   ]
  },
  {
   "cell_type": "code",
   "execution_count": 16,
   "metadata": {},
   "outputs": [],
   "source": [
    "raw_data=pd.read_csv('../dataset/job_data_new.csv')"
   ]
  },
  {
   "cell_type": "code",
   "execution_count": 17,
   "metadata": {},
   "outputs": [
    {
     "name": "stdout",
     "output_type": "stream",
     "text": [
      "<class 'pandas.core.frame.DataFrame'>\n",
      "RangeIndex: 26361 entries, 0 to 26360\n",
      "Data columns (total 23 columns):\n",
      " #   Column                Non-Null Count  Dtype \n",
      "---  ------                --------------  ----- \n",
      " 0   Job Name              26361 non-null  object\n",
      " 1   Job Link              26361 non-null  object\n",
      " 2   Location              26361 non-null  object\n",
      " 3   Update Date           26361 non-null  object\n",
      " 4   Deadline              26361 non-null  object\n",
      " 5   Experience            26361 non-null  object\n",
      " 6   Job Level             26361 non-null  object\n",
      " 7   Industry              26361 non-null  object\n",
      " 8   Employment Type       26359 non-null  object\n",
      " 9   Welfare               26361 non-null  object\n",
      " 10  Job Description       26361 non-null  object\n",
      " 11  Job Requirements      26361 non-null  object\n",
      " 12  Other Information     26361 non-null  object\n",
      " 13  Job Tags              26361 non-null  object\n",
      " 14  Company URL           26361 non-null  object\n",
      " 15  Salary                26361 non-null  object\n",
      " 16  Company Name          25262 non-null  object\n",
      " 17  Company Address       25258 non-null  object\n",
      " 18  Company Scale         25262 non-null  object\n",
      " 19  Company Type          25262 non-null  object\n",
      " 20  Company Website       25262 non-null  object\n",
      " 21  Follower              25262 non-null  object\n",
      " 22  Company Introduction  25261 non-null  object\n",
      "dtypes: object(23)\n",
      "memory usage: 4.6+ MB\n"
     ]
    }
   ],
   "source": [
    "raw_data.info()"
   ]
  },
  {
   "cell_type": "code",
   "execution_count": 18,
   "metadata": {},
   "outputs": [],
   "source": [
    "used_data=raw_data[[\"Location\",\"Experience\",\"Job Level\",\"Employment Type\" ,\"Industry\",\"Welfare\",\"Job Description\",\"Job Requirements\",\"Other Information\",\"Follower\",\"Salary\"]]"
   ]
  },
  {
   "cell_type": "code",
   "execution_count": 19,
   "metadata": {},
   "outputs": [
    {
     "data": {
      "text/html": [
       "<div>\n",
       "<style scoped>\n",
       "    .dataframe tbody tr th:only-of-type {\n",
       "        vertical-align: middle;\n",
       "    }\n",
       "\n",
       "    .dataframe tbody tr th {\n",
       "        vertical-align: top;\n",
       "    }\n",
       "\n",
       "    .dataframe thead th {\n",
       "        text-align: right;\n",
       "    }\n",
       "</style>\n",
       "<table border=\"1\" class=\"dataframe\">\n",
       "  <thead>\n",
       "    <tr style=\"text-align: right;\">\n",
       "      <th></th>\n",
       "      <th>Location</th>\n",
       "      <th>Experience</th>\n",
       "      <th>Job Level</th>\n",
       "      <th>Employment Type</th>\n",
       "      <th>Industry</th>\n",
       "      <th>Welfare</th>\n",
       "      <th>Job Description</th>\n",
       "      <th>Job Requirements</th>\n",
       "      <th>Other Information</th>\n",
       "      <th>Follower</th>\n",
       "      <th>Salary</th>\n",
       "    </tr>\n",
       "  </thead>\n",
       "  <tbody>\n",
       "    <tr>\n",
       "      <th>0</th>\n",
       "      <td>Hồ Chí Minh</td>\n",
       "      <td>3 - 5 \\n                                      ...</td>\n",
       "      <td>Quản lý</td>\n",
       "      <td>Nhân viên chính thức</td>\n",
       "      <td>\\n                                            ...</td>\n",
       "      <td>Chế độ bảo hiểm, Phụ cấp, Đồng phục, Chế độ th...</td>\n",
       "      <td>Tuyển dụng và đào tạo: Quản lý quy trình tuyển...</td>\n",
       "      <td>Trình độ: Tốt nghiệp cao đẳng/đại học chuyên n...</td>\n",
       "      <td>Bằng cấp:\\n                Đại học\\nThời gian ...</td>\n",
       "      <td>NaN</td>\n",
       "      <td>Cạnh tranh</td>\n",
       "    </tr>\n",
       "    <tr>\n",
       "      <th>1</th>\n",
       "      <td>Hồ Chí Minh</td>\n",
       "      <td>Not specified</td>\n",
       "      <td>Nhân viên</td>\n",
       "      <td>Nhân viên chính thức</td>\n",
       "      <td>\\n                                            ...</td>\n",
       "      <td>Chế độ bảo hiểm, Phụ cấp, Xe đưa đón, Đồng phụ...</td>\n",
       "      <td>Thương lượng với khách hàng về giá cả, chất lư...</td>\n",
       "      <td>Tốt nghiệp đại học các chuyên ngành Kinh tế, n...</td>\n",
       "      <td>Bằng cấp:\\n                Đại học\\nĐộ tuổi:\\n...</td>\n",
       "      <td>NaN</td>\n",
       "      <td>Cạnh tranh</td>\n",
       "    </tr>\n",
       "    <tr>\n",
       "      <th>2</th>\n",
       "      <td>Not specified</td>\n",
       "      <td>Not specified</td>\n",
       "      <td>Not specified</td>\n",
       "      <td>Not specified</td>\n",
       "      <td>Not Found</td>\n",
       "      <td>Chế độ bảo hiểm, Phụ cấp, Xe đưa đón, Đào tạo,...</td>\n",
       "      <td>Not specified</td>\n",
       "      <td>Not specified</td>\n",
       "      <td>Bằng cấp:\\n                Trung cấp\\nHình thứ...</td>\n",
       "      <td>NaN</td>\n",
       "      <td>Not specified</td>\n",
       "    </tr>\n",
       "    <tr>\n",
       "      <th>3</th>\n",
       "      <td>Bình Định</td>\n",
       "      <td>2 - 5 \\n                                      ...</td>\n",
       "      <td>Trưởng nhóm / Giám sát</td>\n",
       "      <td>Nhân viên chính thức</td>\n",
       "      <td>\\n                                            ...</td>\n",
       "      <td>Laptop, Chế độ bảo hiểm, Du Lịch, Phụ cấp, Xe ...</td>\n",
       "      <td>Job Description:\\n1、Develop and optimize depar...</td>\n",
       "      <td>Experience Requirement：\\n-        Over 3 years...</td>\n",
       "      <td>Bằng cấp:\\n                Đại học\\nĐộ tuổi:\\n...</td>\n",
       "      <td>169</td>\n",
       "      <td>Cạnh tranh</td>\n",
       "    </tr>\n",
       "    <tr>\n",
       "      <th>4</th>\n",
       "      <td>Hà Nội</td>\n",
       "      <td>Trên  1 \\n                                    ...</td>\n",
       "      <td>Nhân viên</td>\n",
       "      <td>Nhân viên chính thức</td>\n",
       "      <td>\\n                                            ...</td>\n",
       "      <td>Chế độ bảo hiểm, Du Lịch, Chế độ thưởng, Chăm ...</td>\n",
       "      <td>-  Phát triển khách hàng; tìm kiếm khách hàng ...</td>\n",
       "      <td>-  Tốt nghiệp Đại Học hệ chính qui thuộc các n...</td>\n",
       "      <td>Độ tuổi:\\n                Không giới hạn tuổi\\...</td>\n",
       "      <td>2.27</td>\n",
       "      <td>Cạnh tranh</td>\n",
       "    </tr>\n",
       "  </tbody>\n",
       "</table>\n",
       "</div>"
      ],
      "text/plain": [
       "        Location                                         Experience  \\\n",
       "0    Hồ Chí Minh  3 - 5 \\n                                      ...   \n",
       "1    Hồ Chí Minh                                      Not specified   \n",
       "2  Not specified                                      Not specified   \n",
       "3      Bình Định  2 - 5 \\n                                      ...   \n",
       "4         Hà Nội  Trên  1 \\n                                    ...   \n",
       "\n",
       "                Job Level       Employment Type  \\\n",
       "0                 Quản lý  Nhân viên chính thức   \n",
       "1               Nhân viên  Nhân viên chính thức   \n",
       "2           Not specified         Not specified   \n",
       "3  Trưởng nhóm / Giám sát  Nhân viên chính thức   \n",
       "4               Nhân viên  Nhân viên chính thức   \n",
       "\n",
       "                                            Industry  \\\n",
       "0  \\n                                            ...   \n",
       "1  \\n                                            ...   \n",
       "2                                          Not Found   \n",
       "3  \\n                                            ...   \n",
       "4  \\n                                            ...   \n",
       "\n",
       "                                             Welfare  \\\n",
       "0  Chế độ bảo hiểm, Phụ cấp, Đồng phục, Chế độ th...   \n",
       "1  Chế độ bảo hiểm, Phụ cấp, Xe đưa đón, Đồng phụ...   \n",
       "2  Chế độ bảo hiểm, Phụ cấp, Xe đưa đón, Đào tạo,...   \n",
       "3  Laptop, Chế độ bảo hiểm, Du Lịch, Phụ cấp, Xe ...   \n",
       "4  Chế độ bảo hiểm, Du Lịch, Chế độ thưởng, Chăm ...   \n",
       "\n",
       "                                     Job Description  \\\n",
       "0  Tuyển dụng và đào tạo: Quản lý quy trình tuyển...   \n",
       "1  Thương lượng với khách hàng về giá cả, chất lư...   \n",
       "2                                      Not specified   \n",
       "3  Job Description:\\n1、Develop and optimize depar...   \n",
       "4  -  Phát triển khách hàng; tìm kiếm khách hàng ...   \n",
       "\n",
       "                                    Job Requirements  \\\n",
       "0  Trình độ: Tốt nghiệp cao đẳng/đại học chuyên n...   \n",
       "1  Tốt nghiệp đại học các chuyên ngành Kinh tế, n...   \n",
       "2                                      Not specified   \n",
       "3  Experience Requirement：\\n-        Over 3 years...   \n",
       "4  -  Tốt nghiệp Đại Học hệ chính qui thuộc các n...   \n",
       "\n",
       "                                   Other Information Follower         Salary  \n",
       "0  Bằng cấp:\\n                Đại học\\nThời gian ...      NaN     Cạnh tranh  \n",
       "1  Bằng cấp:\\n                Đại học\\nĐộ tuổi:\\n...      NaN     Cạnh tranh  \n",
       "2  Bằng cấp:\\n                Trung cấp\\nHình thứ...      NaN  Not specified  \n",
       "3  Bằng cấp:\\n                Đại học\\nĐộ tuổi:\\n...      169     Cạnh tranh  \n",
       "4  Độ tuổi:\\n                Không giới hạn tuổi\\...     2.27     Cạnh tranh  "
      ]
     },
     "execution_count": 19,
     "metadata": {},
     "output_type": "execute_result"
    }
   ],
   "source": [
    "used_data.head()"
   ]
  },
  {
   "cell_type": "markdown",
   "metadata": {},
   "source": [
    "### Location"
   ]
  },
  {
   "cell_type": "code",
   "execution_count": 20,
   "metadata": {},
   "outputs": [],
   "source": [
    "location_data=used_data.copy()\n"
   ]
  },
  {
   "cell_type": "code",
   "execution_count": 21,
   "metadata": {},
   "outputs": [],
   "source": [
    "def remove_diacritics(text):\n",
    "    return ''.join(\n",
    "        c for c in unicodedata.normalize('NFD', text)\n",
    "        if unicodedata.category(c) != 'Mn'\n",
    "    )"
   ]
  },
  {
   "cell_type": "code",
   "execution_count": 22,
   "metadata": {},
   "outputs": [],
   "source": [
    "location_data['Location'] = location_data['Location'].apply(lambda x: x.title())\n",
    "\n",
    "location_data['Location'] = location_data['Location'].apply(lambda x: x.split(',')[0].strip() if ',' in x else x.strip())\n",
    "location_data['Location'] = location_data['Location'].apply(remove_diacritics)"
   ]
  },
  {
   "cell_type": "code",
   "execution_count": 23,
   "metadata": {},
   "outputs": [],
   "source": [
    "city_to_number = {\n",
    "    \"Hai Duong\": 0,\n",
    "    \"Long An\": 1,\n",
    "    \"Ha Noi\": 2,\n",
    "    \"Ho Chi Minh\": 3,\n",
    "    \"Binh Duong\": 4,\n",
    "    \"Đong Nai\": 5,\n",
    "    \"Quang Ngai\": 6,\n",
    "    \"Vinh Long\": 7,\n",
    "    \"Lam Đong\": 8,\n",
    "    \"Can Tho\": 9,\n",
    "    \"Bac Ninh\": 10,\n",
    "    \"Dak Lak\": 11,\n",
    "    \"Gia Lai\": 12,\n",
    "    \"Bac Giang\": 13,\n",
    "    \"Binh Thuan\": 14,\n",
    "    \"Tay Ninh\": 15,\n",
    "    \"Ba Ria - Vung Tau\": 16,\n",
    "    \"Ha Nam\": 17,\n",
    "    \"Thai Binh\": 18,\n",
    "    \"Bac Lieu\": 19,\n",
    "    \"Thanh Hoa\": 20,\n",
    "    \"Binh Đinh\": 21,\n",
    "    \"Tra Vinh\": 22,\n",
    "    \"Hoa Binh\": 23,\n",
    "    \"Đa Nang\": 24,\n",
    "    \"Hung Yen\": 25,\n",
    "    \"Hai Phong\": 26,\n",
    "    \"Kien Giang\": 27,\n",
    "    \"Vinh Phuc\": 28,\n",
    "    \"Ha Giang\": 29,\n",
    "    \"Tuyen Quang\": 30,\n",
    "    \"Đien Bien\": 31,\n",
    "    \"Nam Dinh\": 32,\n",
    "    \"Lang Son\": 33,\n",
    "    \"Nghe An\": 34,\n",
    "    \"Quang Tri\": 35,\n",
    "    \"Quang Ninh\": 36,\n",
    "    \"Ninh Thuan\": 37,\n",
    "    \"Đong Thap\": 38,\n",
    "    \"Quang Nam\": 39,\n",
    "    \"Thua Thien- Hue\": 40,\n",
    "    \"Tien Giang\": 41,\n",
    "    \"Khanh Hoa\": 42,\n",
    "    \"Phu Yen\": 43,\n",
    "    \"Quang Binh\": 44,\n",
    "    \"Hau Giang\": 45,\n",
    "    \"Binh Phuoc\": 46,\n",
    "    \"Phu Tho\": 47,\n",
    "    \"Ninh Binh\": 48,\n",
    "    \"Thai Nguyen\": 49,\n",
    "    \"Bac Can\": 50,\n",
    "    \"Son La\": 51,\n",
    "    \"Ha Tinh\": 52,\n",
    "    \"Yen Bai\": 53,\n",
    "    \"Ca Mau\": 54,\n",
    "    \"An Giang\": 55,\n",
    "    \"Ben Tre\": 56,\n",
    "    \"Lao Cai\": 57,\n",
    "    \"Soc Trang\": 58,\n",
    "    \"Cao Bang\": 59,\n",
    "    \"Dak Nong\": 60,\n",
    "    \"Kon Tum\": 61,\n",
    "    \"Lai Chau\": 62,\n",
    "    \"Nam Đinh\":63,\n",
    "    \n",
    "    # Khu vực khác\n",
    "    \"Kv Đong Nam Bo\": 64,\n",
    "    \"Kv Tay Nguyen\": 65,\n",
    "    \"Kv Nam Trung Bo\": 66,\n",
    "    \"Kv Bac Trung Bo\": 67,\n",
    "    \"Đong Bang Song Cuu Long\": 68,\n",
    "    \"Toan Quoc\": 69,\n",
    "    \"Khac\": 70,\n",
    "    \"Not Specified\": 70,\n",
    "\n",
    "    # Các địa điểm khác (được gộp chung vào \"foreign city/province\")\n",
    "    \"Svay Rieng\": 71,\n",
    "    \"Tokyo\": 72,\n",
    "    \"Xiangkhouang\": 73,\n",
    "    \"Champasak\": 74,\n",
    "    \"Yokohama\": 75,\n",
    "    \"Hokkaido\": 76,\n",
    "    \"Malaysia\": 77,\n",
    "    \"Attapeu\":78,\n",
    "    \"Bangkok\": 79,\n",
    "    \"Kratie\": 80,\n",
    "    \"Phnompenh\": 81,\n",
    "    \"Vientiane\":82,\n",
    "    \"Kuala Lumpur\": 83,\n",
    "    \"Quoc Te\": 84\n",
    "}"
   ]
  },
  {
   "cell_type": "code",
   "execution_count": 24,
   "metadata": {},
   "outputs": [],
   "source": [
    "location_data['Location'] = location_data['Location'].replace(city_to_number)"
   ]
  },
  {
   "cell_type": "code",
   "execution_count": 25,
   "metadata": {},
   "outputs": [
    {
     "data": {
      "text/plain": [
       "array([ 3, 70, 21,  2,  0, 55,  1, 36, 24,  4,  6,  5, 25,  7, 17,  8,  9,\n",
       "       10, 11, 12, 42, 13, 14, 15, 16, 41, 18, 19, 20, 22, 37, 23, 46, 26,\n",
       "       27, 59, 53, 45, 28, 29, 30, 31, 63, 33, 64, 34, 35, 78, 38, 39, 40,\n",
       "       69, 43, 44, 82, 47, 56, 71, 48, 49, 50, 51, 52, 60, 54, 65, 57, 58,\n",
       "       68, 84, 61, 72, 73, 79, 74, 75, 76, 77, 67, 80, 66, 62, 81, 83],\n",
       "      dtype=int64)"
      ]
     },
     "execution_count": 25,
     "metadata": {},
     "output_type": "execute_result"
    }
   ],
   "source": [
    "location=location_data['Location'].unique()\n",
    "location"
   ]
  },
  {
   "cell_type": "markdown",
   "metadata": {},
   "source": [
    "### Experience"
   ]
  },
  {
   "cell_type": "code",
   "execution_count": 26,
   "metadata": {},
   "outputs": [],
   "source": [
    "experience_data=location_data.copy()"
   ]
  },
  {
   "cell_type": "code",
   "execution_count": 27,
   "metadata": {},
   "outputs": [],
   "source": [
    "def extract_number(value):\n",
    "    if 'Chưa có kinh nghiệm' in value:\n",
    "        return 0  # Nếu \"Chưa có kinh nghiệm\" trả về 0\n",
    "    elif match := re.match(r'(\\d+)\\s*-\\s*\\d+', value):  # Nếu định dạng là number - number\n",
    "        return int(match.group(1))  # Lấy số đầu tiên\n",
    "    elif match := re.search(r'\\d+', value):  # Nếu chỉ có một số duy nhất\n",
    "        return int(match.group(0))  # Lấy số đó\n",
    "    return 0"
   ]
  },
  {
   "cell_type": "code",
   "execution_count": 28,
   "metadata": {},
   "outputs": [],
   "source": [
    "experience_data[\"Experience\"]=experience_data[\"Experience\"].str.replace(\"\\n\",\"\",regex=True)\n",
    "experience_data[\"Experience\"]=experience_data[\"Experience\"].str.replace(\"Năm\",\"\",regex=True)\n",
    "experience_data[\"Experience\"]=experience_data[\"Experience\"].str.replace(r\"\\s+\",' ',regex=True).str.strip()\n",
    "experience_data[\"Experience\"]=experience_data[\"Experience\"].apply(extract_number)"
   ]
  },
  {
   "cell_type": "code",
   "execution_count": 29,
   "metadata": {},
   "outputs": [
    {
     "data": {
      "text/plain": [
       "array([ 3,  0,  2,  1,  5,  4,  7, 10,  8,  6, 15,  9, 12, 30, 20],\n",
       "      dtype=int64)"
      ]
     },
     "execution_count": 29,
     "metadata": {},
     "output_type": "execute_result"
    }
   ],
   "source": [
    "experience=experience_data[\"Experience\"].unique()\n",
    "experience"
   ]
  },
  {
   "cell_type": "markdown",
   "metadata": {},
   "source": [
    "### Job Level"
   ]
  },
  {
   "cell_type": "code",
   "execution_count": 30,
   "metadata": {},
   "outputs": [],
   "source": [
    "job_level_data=experience_data.copy()\n",
    "\n"
   ]
  },
  {
   "cell_type": "code",
   "execution_count": 31,
   "metadata": {},
   "outputs": [],
   "source": [
    "job_level_list = {\n",
    "    'mới tốt nghiệp':1,\n",
    "    'sinh viên/ thực tập sinh':1,\n",
    "    'nhân viên':2,\n",
    "    'trưởng nhóm':3,\n",
    "    'trưởng nhóm / giám sát':3,\n",
    "    'quản lý':4,\n",
    "    'phó giám đốc':5,\n",
    "    'giám đốc':6,\n",
    "    'tổng giám đốc':7,\n",
    "    'not specified':0\n",
    "}\n",
    "\n",
    "job_level_data['Job Level'] = job_level_data['Job Level'].str.lower()\n",
    "\n",
    "job_level_data['Job Level'] = job_level_data['Job Level'].map(job_level_list)"
   ]
  },
  {
   "cell_type": "code",
   "execution_count": 32,
   "metadata": {},
   "outputs": [
    {
     "data": {
      "text/plain": [
       "array([4, 2, 0, 3, 6, 1, 5, 7], dtype=int64)"
      ]
     },
     "execution_count": 32,
     "metadata": {},
     "output_type": "execute_result"
    }
   ],
   "source": [
    "job_level=job_level_data[\"Job Level\"].unique()\n",
    "job_level"
   ]
  },
  {
   "cell_type": "markdown",
   "metadata": {},
   "source": [
    "### Employment Type"
   ]
  },
  {
   "cell_type": "code",
   "execution_count": 33,
   "metadata": {},
   "outputs": [],
   "source": [
    "employment_type_data=job_level_data.copy()"
   ]
  },
  {
   "cell_type": "code",
   "execution_count": 34,
   "metadata": {},
   "outputs": [],
   "source": [
    "employment_type_data[\"Employment Type\"]=employment_type_data[\"Employment Type\"].str.lower()\n",
    "employment_type_data[\"Employment Type\"]=employment_type_data[\"Employment Type\"].fillna(\"not specified\")\n",
    "\n",
    "employment=employment_type_data[\"Employment Type\"].unique()\n",
    "employment=pd.DataFrame(employment,columns=[\"Employment Type\"])\n",
    "employment = employment.dropna()\n",
    "employment = employment[employment[\"Employment Type\"] != \"not specified\"]\n",
    "\n",
    "split_job_types = employment[\"Employment Type\"].str.split(\", \")\n",
    "\n",
    "unique_job_types= set()\n",
    "split_job_types.apply(unique_job_types.update)\n",
    "\n",
    "unique_job_types=list(unique_job_types)\n",
    "\n",
    "employment_type_data = employment_type_data.join(pd.DataFrame(columns=unique_job_types))\n",
    "\n",
    "for job_type in unique_job_types:\n",
    "    employment_type_data[job_type] = employment_type_data[\"Employment Type\"].apply(\n",
    "        lambda x: 1 if job_type in x else 0\n",
    "    )\n",
    "\n",
    "employment_type_data.rename(columns={'nhân viên chính thức': 'Employment Type: Official',\n",
    "                                      \"bán thời gian\":\"Employment Type: Part-time\", \n",
    "                                      \"thực tập\": \"Employment Type: Internship\", \n",
    "                                      \"thời vụ/ nghề tự do\":\"Employment Type: Freelance\"}, inplace=True)"
   ]
  },
  {
   "cell_type": "code",
   "execution_count": 35,
   "metadata": {},
   "outputs": [
    {
     "name": "stdout",
     "output_type": "stream",
     "text": [
      "<class 'pandas.core.frame.DataFrame'>\n",
      "RangeIndex: 26361 entries, 0 to 26360\n",
      "Data columns (total 15 columns):\n",
      " #   Column                       Non-Null Count  Dtype \n",
      "---  ------                       --------------  ----- \n",
      " 0   Location                     26361 non-null  int64 \n",
      " 1   Experience                   26361 non-null  int64 \n",
      " 2   Job Level                    26361 non-null  int64 \n",
      " 3   Employment Type              26361 non-null  object\n",
      " 4   Industry                     26361 non-null  object\n",
      " 5   Welfare                      26361 non-null  object\n",
      " 6   Job Description              26361 non-null  object\n",
      " 7   Job Requirements             26361 non-null  object\n",
      " 8   Other Information            26361 non-null  object\n",
      " 9   Follower                     25262 non-null  object\n",
      " 10  Salary                       26361 non-null  object\n",
      " 11  Employment Type: Internship  26361 non-null  int64 \n",
      " 12  Employment Type: Part-time   26361 non-null  int64 \n",
      " 13  Employment Type: Official    26361 non-null  int64 \n",
      " 14  Employment Type: Freelance   26361 non-null  int64 \n",
      "dtypes: int64(7), object(8)\n",
      "memory usage: 3.0+ MB\n"
     ]
    }
   ],
   "source": [
    "employment_type_data.info()"
   ]
  },
  {
   "cell_type": "markdown",
   "metadata": {},
   "source": [
    "### Follower"
   ]
  },
  {
   "cell_type": "code",
   "execution_count": 36,
   "metadata": {},
   "outputs": [],
   "source": [
    "follower_data=employment_type_data.copy()"
   ]
  },
  {
   "cell_type": "code",
   "execution_count": 37,
   "metadata": {},
   "outputs": [],
   "source": [
    "follower_data[\"Follower\"]=follower_data[\"Follower\"].fillna(\"0\")\n",
    "follower_data[\"Follower\"]=follower_data[\"Follower\"].str.replace(\".\",\"\",regex=True)\n",
    "follower_data[\"Follower\"]=follower_data[\"Follower\"].str.replace(\"Not specified\",\"0\",regex=True)\n",
    "follower_data[\"Follower\"]=follower_data[\"Follower\"].str.replace(\"Not Found\",\"0\",regex=True)\n",
    "follower_data[\"Follower\"]=follower_data[\"Follower\"].astype(int)\n",
    "\n"
   ]
  },
  {
   "cell_type": "code",
   "execution_count": 38,
   "metadata": {},
   "outputs": [
    {
     "name": "stdout",
     "output_type": "stream",
     "text": [
      "<class 'pandas.core.frame.DataFrame'>\n",
      "RangeIndex: 26361 entries, 0 to 26360\n",
      "Data columns (total 15 columns):\n",
      " #   Column                       Non-Null Count  Dtype \n",
      "---  ------                       --------------  ----- \n",
      " 0   Location                     26361 non-null  int64 \n",
      " 1   Experience                   26361 non-null  int64 \n",
      " 2   Job Level                    26361 non-null  int64 \n",
      " 3   Employment Type              26361 non-null  object\n",
      " 4   Industry                     26361 non-null  object\n",
      " 5   Welfare                      26361 non-null  object\n",
      " 6   Job Description              26361 non-null  object\n",
      " 7   Job Requirements             26361 non-null  object\n",
      " 8   Other Information            26361 non-null  object\n",
      " 9   Follower                     26361 non-null  int32 \n",
      " 10  Salary                       26361 non-null  object\n",
      " 11  Employment Type: Internship  26361 non-null  int64 \n",
      " 12  Employment Type: Part-time   26361 non-null  int64 \n",
      " 13  Employment Type: Official    26361 non-null  int64 \n",
      " 14  Employment Type: Freelance   26361 non-null  int64 \n",
      "dtypes: int32(1), int64(7), object(7)\n",
      "memory usage: 2.9+ MB\n"
     ]
    }
   ],
   "source": [
    "follower_data.info()"
   ]
  },
  {
   "cell_type": "markdown",
   "metadata": {},
   "source": [
    "### Salary"
   ]
  },
  {
   "cell_type": "code",
   "execution_count": 40,
   "metadata": {},
   "outputs": [],
   "source": [
    "salary_data=follower_data.copy()   "
   ]
  },
  {
   "cell_type": "code",
   "execution_count": 41,
   "metadata": {},
   "outputs": [],
   "source": [
    "# Hàm chuyển đổi chuỗi tiền tệ từ định dạng 'Tr' sang số và lấy giá trị nhỏ nhất\n",
    "def convert_salary_to_min(salary):\n",
    "    if(salary != 'cạnh tranh'):   \n",
    "        if \"lên đến\"in salary and \"usd\" in salary:\n",
    "            if \"-\" in salary:\n",
    "                parts = salary.replace(\"lên đến\", \"\").replace(\" usd\", \"\").replace(\".\",\"\").split(\" - \")\n",
    "                min_salary = float(parts[0].replace(\",\", \"\"))*23000\n",
    "                return min_salary\n",
    "            else:\n",
    "                value = salary.replace(\"trên\", \"\").replace(\"lên đến\", \"\").replace(\" usd\", \"\").replace(\".\",\"\").strip()\n",
    "                min_salary = float(value.replace(\",\", \"\"))*23000\n",
    "                return min_salary\n",
    "        \n",
    "        elif \"trên\"in salary and \"usd\" in salary:\n",
    "            value = salary.replace(\"trên\", \"\").replace(\" usd\", \"\").replace(\".\",\"\").strip()\n",
    "            min_salary = float(value.replace(\",\", \"\"))*23000\n",
    "            return min_salary\n",
    "        \n",
    "        elif 'usd' in salary and '-' in salary:\n",
    "            parts = salary.replace(\" usd\", \"\").replace(\" tr\", \"\").replace(\".\",\"\").split(\" - \")\n",
    "            min_salary = float(parts[0].replace(\",\", \"\"))*23000\n",
    "            return min_salary\n",
    "        \n",
    "        elif 'usd' in salary:\n",
    "            min_salary = float(salary.replace(\" usd\", \"\").replace(\".\",\"\").replace(\",\", \"\"))*23000\n",
    "            return min_salary\n",
    "        \n",
    "        elif 'trên' in salary and 'tr' in salary:\n",
    "            if \"-\" in salary:\n",
    "                parts = salary.replace(\"lên đến\", \"\").replace(\"trên\", \"\").replace(\" tr\", \"\").replace(\" vnd\",\"\").split(\" - \")\n",
    "                min_salary = float(parts[0].replace(\",\", \".\")) * 1_000_000\n",
    "                return min_salary\n",
    "            else:\n",
    "                value = salary.replace(\"lên đến\", \"\").replace(\"trên\", \"\").replace(\" tr\", \"\").replace(\" vnd\",\"\").strip()\n",
    "                min_salary = float(value.replace(\",\", \".\")) * 1_000_000\n",
    "                return min_salary\n",
    "        elif 'lên đến' in salary and \"tr\" in salary:\n",
    "            if \"-\" in salary:\n",
    "                parts = salary.replace(\"lên đến\", \"\").replace(\" tr\", \"\").replace(\" vnd\",\"\").split(\" - \")\n",
    "                min_salary = float(parts[0].replace(\",\", \".\")) * 1_000_000\n",
    "                return min_salary\n",
    "            else:\n",
    "                value = salary.replace(\"lên đến\", \"\").replace(\" tr\", \"\").replace(\" vnd\",\"\").strip()\n",
    "                min_salary = float(value.replace(\",\", \".\")) * 1_000_000\n",
    "                return min_salary\n",
    "        \n",
    "        # Kiểm tra nếu là dạng 'Tr' VND\n",
    "        elif 'tr' in salary and ' - ' in salary:\n",
    "            # Loại bỏ \" Tr VND\", tách và nhân với 1,000,000\n",
    "            parts = salary.replace(\" tr\", \"\").replace(\" vnd\",\"\").split(\" - \")\n",
    "            min_salary = float(parts[0].replace(\",\", \".\")) * 1_000_000\n",
    "            return min_salary\n",
    "        \n",
    "        # Kiểm tra nếu là dạng 'Tr' VND\n",
    "        elif 'tr' in salary:\n",
    "            # Loại bỏ \" Tr VND\" và nhân với 1,000,000\n",
    "            min_salary = float(salary.replace(\" tr\", \"\").replace(\" vnd\",\"\")) * 1_000_000\n",
    "            return min_salary\n",
    "        \n",
    "    return \"Cạnh tranh\""
   ]
  },
  {
   "cell_type": "code",
   "execution_count": 42,
   "metadata": {},
   "outputs": [],
   "source": [
    "salary_data['Salary'] = salary_data['Salary'].replace(\n",
    "    ['0','Thỏa thuận', 'Negotiable', 'Not Specified', 'Not Found', 'not found', 'Not specifield'], \n",
    "    np.nan)\n",
    "salary_data['Salary'] = salary_data['Salary'].str.lower()\n",
    "salary_data['Salary'] = salary_data['Salary'].apply(convert_salary_to_min)"
   ]
  },
  {
   "cell_type": "code",
   "execution_count": 43,
   "metadata": {},
   "outputs": [
    {
     "data": {
      "text/html": [
       "<div>\n",
       "<style scoped>\n",
       "    .dataframe tbody tr th:only-of-type {\n",
       "        vertical-align: middle;\n",
       "    }\n",
       "\n",
       "    .dataframe tbody tr th {\n",
       "        vertical-align: top;\n",
       "    }\n",
       "\n",
       "    .dataframe thead th {\n",
       "        text-align: right;\n",
       "    }\n",
       "</style>\n",
       "<table border=\"1\" class=\"dataframe\">\n",
       "  <thead>\n",
       "    <tr style=\"text-align: right;\">\n",
       "      <th></th>\n",
       "      <th>Location</th>\n",
       "      <th>Experience</th>\n",
       "      <th>Job Level</th>\n",
       "      <th>Employment Type</th>\n",
       "      <th>Industry</th>\n",
       "      <th>Welfare</th>\n",
       "      <th>Job Description</th>\n",
       "      <th>Job Requirements</th>\n",
       "      <th>Other Information</th>\n",
       "      <th>Follower</th>\n",
       "      <th>Salary</th>\n",
       "      <th>Employment Type: Internship</th>\n",
       "      <th>Employment Type: Part-time</th>\n",
       "      <th>Employment Type: Official</th>\n",
       "      <th>Employment Type: Freelance</th>\n",
       "    </tr>\n",
       "  </thead>\n",
       "  <tbody>\n",
       "    <tr>\n",
       "      <th>0</th>\n",
       "      <td>3</td>\n",
       "      <td>3</td>\n",
       "      <td>4</td>\n",
       "      <td>nhân viên chính thức</td>\n",
       "      <td>\\n                                            ...</td>\n",
       "      <td>Chế độ bảo hiểm, Phụ cấp, Đồng phục, Chế độ th...</td>\n",
       "      <td>Tuyển dụng và đào tạo: Quản lý quy trình tuyển...</td>\n",
       "      <td>Trình độ: Tốt nghiệp cao đẳng/đại học chuyên n...</td>\n",
       "      <td>Bằng cấp:\\n                Đại học\\nThời gian ...</td>\n",
       "      <td>0</td>\n",
       "      <td>Cạnh tranh</td>\n",
       "      <td>0</td>\n",
       "      <td>0</td>\n",
       "      <td>1</td>\n",
       "      <td>0</td>\n",
       "    </tr>\n",
       "    <tr>\n",
       "      <th>1</th>\n",
       "      <td>3</td>\n",
       "      <td>0</td>\n",
       "      <td>2</td>\n",
       "      <td>nhân viên chính thức</td>\n",
       "      <td>\\n                                            ...</td>\n",
       "      <td>Chế độ bảo hiểm, Phụ cấp, Xe đưa đón, Đồng phụ...</td>\n",
       "      <td>Thương lượng với khách hàng về giá cả, chất lư...</td>\n",
       "      <td>Tốt nghiệp đại học các chuyên ngành Kinh tế, n...</td>\n",
       "      <td>Bằng cấp:\\n                Đại học\\nĐộ tuổi:\\n...</td>\n",
       "      <td>0</td>\n",
       "      <td>Cạnh tranh</td>\n",
       "      <td>0</td>\n",
       "      <td>0</td>\n",
       "      <td>1</td>\n",
       "      <td>0</td>\n",
       "    </tr>\n",
       "    <tr>\n",
       "      <th>2</th>\n",
       "      <td>70</td>\n",
       "      <td>0</td>\n",
       "      <td>0</td>\n",
       "      <td>not specified</td>\n",
       "      <td>Not Found</td>\n",
       "      <td>Chế độ bảo hiểm, Phụ cấp, Xe đưa đón, Đào tạo,...</td>\n",
       "      <td>Not specified</td>\n",
       "      <td>Not specified</td>\n",
       "      <td>Bằng cấp:\\n                Trung cấp\\nHình thứ...</td>\n",
       "      <td>0</td>\n",
       "      <td>Cạnh tranh</td>\n",
       "      <td>0</td>\n",
       "      <td>0</td>\n",
       "      <td>0</td>\n",
       "      <td>0</td>\n",
       "    </tr>\n",
       "    <tr>\n",
       "      <th>3</th>\n",
       "      <td>21</td>\n",
       "      <td>2</td>\n",
       "      <td>3</td>\n",
       "      <td>nhân viên chính thức</td>\n",
       "      <td>\\n                                            ...</td>\n",
       "      <td>Laptop, Chế độ bảo hiểm, Du Lịch, Phụ cấp, Xe ...</td>\n",
       "      <td>Job Description:\\n1、Develop and optimize depar...</td>\n",
       "      <td>Experience Requirement：\\n-        Over 3 years...</td>\n",
       "      <td>Bằng cấp:\\n                Đại học\\nĐộ tuổi:\\n...</td>\n",
       "      <td>169</td>\n",
       "      <td>Cạnh tranh</td>\n",
       "      <td>0</td>\n",
       "      <td>0</td>\n",
       "      <td>1</td>\n",
       "      <td>0</td>\n",
       "    </tr>\n",
       "    <tr>\n",
       "      <th>4</th>\n",
       "      <td>2</td>\n",
       "      <td>1</td>\n",
       "      <td>2</td>\n",
       "      <td>nhân viên chính thức</td>\n",
       "      <td>\\n                                            ...</td>\n",
       "      <td>Chế độ bảo hiểm, Du Lịch, Chế độ thưởng, Chăm ...</td>\n",
       "      <td>-  Phát triển khách hàng; tìm kiếm khách hàng ...</td>\n",
       "      <td>-  Tốt nghiệp Đại Học hệ chính qui thuộc các n...</td>\n",
       "      <td>Độ tuổi:\\n                Không giới hạn tuổi\\...</td>\n",
       "      <td>227</td>\n",
       "      <td>Cạnh tranh</td>\n",
       "      <td>0</td>\n",
       "      <td>0</td>\n",
       "      <td>1</td>\n",
       "      <td>0</td>\n",
       "    </tr>\n",
       "    <tr>\n",
       "      <th>...</th>\n",
       "      <td>...</td>\n",
       "      <td>...</td>\n",
       "      <td>...</td>\n",
       "      <td>...</td>\n",
       "      <td>...</td>\n",
       "      <td>...</td>\n",
       "      <td>...</td>\n",
       "      <td>...</td>\n",
       "      <td>...</td>\n",
       "      <td>...</td>\n",
       "      <td>...</td>\n",
       "      <td>...</td>\n",
       "      <td>...</td>\n",
       "      <td>...</td>\n",
       "      <td>...</td>\n",
       "    </tr>\n",
       "    <tr>\n",
       "      <th>26356</th>\n",
       "      <td>3</td>\n",
       "      <td>0</td>\n",
       "      <td>1</td>\n",
       "      <td>nhân viên chính thức</td>\n",
       "      <td>\\n                                            ...</td>\n",
       "      <td>Chế độ bảo hiểm, Phụ cấp, Chế độ thưởng, Chăm ...</td>\n",
       "      <td>·       Vận hành hệ thống bảo mật, giữ cho hệ ...</td>\n",
       "      <td>Điều kiện ứng tuyển\\n·       Là sinh viên tốt ...</td>\n",
       "      <td>Bằng cấp:\\n                Đại học\\nĐộ tuổi:\\n...</td>\n",
       "      <td>0</td>\n",
       "      <td>34500000.0</td>\n",
       "      <td>0</td>\n",
       "      <td>0</td>\n",
       "      <td>1</td>\n",
       "      <td>0</td>\n",
       "    </tr>\n",
       "    <tr>\n",
       "      <th>26357</th>\n",
       "      <td>19</td>\n",
       "      <td>0</td>\n",
       "      <td>1</td>\n",
       "      <td>nhân viên chính thức</td>\n",
       "      <td>\\n                                            ...</td>\n",
       "      <td>Chế độ bảo hiểm, Du Lịch, Phụ cấp, Chế độ thưở...</td>\n",
       "      <td>Với mục tiêu mở rộng thêm các Siêu thị, Team P...</td>\n",
       "      <td>- Nam từ 22 - 30 tuổi. Sức khỏe tốt\\n- Không y...</td>\n",
       "      <td>Bằng cấp:\\n                Cao đẳng\\nGiới tính...</td>\n",
       "      <td>20965</td>\n",
       "      <td>Cạnh tranh</td>\n",
       "      <td>0</td>\n",
       "      <td>0</td>\n",
       "      <td>1</td>\n",
       "      <td>0</td>\n",
       "    </tr>\n",
       "    <tr>\n",
       "      <th>26358</th>\n",
       "      <td>69</td>\n",
       "      <td>0</td>\n",
       "      <td>1</td>\n",
       "      <td>bán thời gian</td>\n",
       "      <td>\\n                                            ...</td>\n",
       "      <td>Chế độ thưởng, Đào tạo, Tăng lương</td>\n",
       "      <td>- Dạy luyện thi chứng chỉ FE (chứng chỉ chuẩn ...</td>\n",
       "      <td>- Đã có chứng chỉ FE.\\n- Ứng viên cần có kiến ...</td>\n",
       "      <td>Độ tuổi:\\n                Không giới hạn tuổi\\...</td>\n",
       "      <td>98</td>\n",
       "      <td>7000000.0</td>\n",
       "      <td>0</td>\n",
       "      <td>1</td>\n",
       "      <td>0</td>\n",
       "      <td>0</td>\n",
       "    </tr>\n",
       "    <tr>\n",
       "      <th>26359</th>\n",
       "      <td>16</td>\n",
       "      <td>0</td>\n",
       "      <td>1</td>\n",
       "      <td>nhân viên chính thức</td>\n",
       "      <td>\\n                                            ...</td>\n",
       "      <td>Chế độ bảo hiểm, Du Lịch, Phụ cấp, Chế độ thưở...</td>\n",
       "      <td>Với mục tiêu mở rộng thêm các Siêu thị, Team P...</td>\n",
       "      <td>- Nam từ 22 - 30 tuổi. Sức khỏe tốt\\n- Không y...</td>\n",
       "      <td>Bằng cấp:\\n                Cao đẳng\\nGiới tính...</td>\n",
       "      <td>20965</td>\n",
       "      <td>Cạnh tranh</td>\n",
       "      <td>0</td>\n",
       "      <td>0</td>\n",
       "      <td>1</td>\n",
       "      <td>0</td>\n",
       "    </tr>\n",
       "    <tr>\n",
       "      <th>26360</th>\n",
       "      <td>3</td>\n",
       "      <td>0</td>\n",
       "      <td>1</td>\n",
       "      <td>thực tập</td>\n",
       "      <td>\\n                                            ...</td>\n",
       "      <td>Phụ cấp, Đào tạo</td>\n",
       "      <td>- Thiết kế các ấn phẩm và biên soạn nội dung t...</td>\n",
       "      <td>- Là sinh viên Đại học năm 4 các chuyên ngành ...</td>\n",
       "      <td>Độ tuổi:\\n                        20 - 22\\nLươ...</td>\n",
       "      <td>92</td>\n",
       "      <td>1900000.0</td>\n",
       "      <td>1</td>\n",
       "      <td>0</td>\n",
       "      <td>0</td>\n",
       "      <td>0</td>\n",
       "    </tr>\n",
       "  </tbody>\n",
       "</table>\n",
       "<p>26361 rows × 15 columns</p>\n",
       "</div>"
      ],
      "text/plain": [
       "       Location  Experience  Job Level       Employment Type  \\\n",
       "0             3           3          4  nhân viên chính thức   \n",
       "1             3           0          2  nhân viên chính thức   \n",
       "2            70           0          0         not specified   \n",
       "3            21           2          3  nhân viên chính thức   \n",
       "4             2           1          2  nhân viên chính thức   \n",
       "...         ...         ...        ...                   ...   \n",
       "26356         3           0          1  nhân viên chính thức   \n",
       "26357        19           0          1  nhân viên chính thức   \n",
       "26358        69           0          1         bán thời gian   \n",
       "26359        16           0          1  nhân viên chính thức   \n",
       "26360         3           0          1              thực tập   \n",
       "\n",
       "                                                Industry  \\\n",
       "0      \\n                                            ...   \n",
       "1      \\n                                            ...   \n",
       "2                                              Not Found   \n",
       "3      \\n                                            ...   \n",
       "4      \\n                                            ...   \n",
       "...                                                  ...   \n",
       "26356  \\n                                            ...   \n",
       "26357  \\n                                            ...   \n",
       "26358  \\n                                            ...   \n",
       "26359  \\n                                            ...   \n",
       "26360  \\n                                            ...   \n",
       "\n",
       "                                                 Welfare  \\\n",
       "0      Chế độ bảo hiểm, Phụ cấp, Đồng phục, Chế độ th...   \n",
       "1      Chế độ bảo hiểm, Phụ cấp, Xe đưa đón, Đồng phụ...   \n",
       "2      Chế độ bảo hiểm, Phụ cấp, Xe đưa đón, Đào tạo,...   \n",
       "3      Laptop, Chế độ bảo hiểm, Du Lịch, Phụ cấp, Xe ...   \n",
       "4      Chế độ bảo hiểm, Du Lịch, Chế độ thưởng, Chăm ...   \n",
       "...                                                  ...   \n",
       "26356  Chế độ bảo hiểm, Phụ cấp, Chế độ thưởng, Chăm ...   \n",
       "26357  Chế độ bảo hiểm, Du Lịch, Phụ cấp, Chế độ thưở...   \n",
       "26358                 Chế độ thưởng, Đào tạo, Tăng lương   \n",
       "26359  Chế độ bảo hiểm, Du Lịch, Phụ cấp, Chế độ thưở...   \n",
       "26360                                   Phụ cấp, Đào tạo   \n",
       "\n",
       "                                         Job Description  \\\n",
       "0      Tuyển dụng và đào tạo: Quản lý quy trình tuyển...   \n",
       "1      Thương lượng với khách hàng về giá cả, chất lư...   \n",
       "2                                          Not specified   \n",
       "3      Job Description:\\n1、Develop and optimize depar...   \n",
       "4      -  Phát triển khách hàng; tìm kiếm khách hàng ...   \n",
       "...                                                  ...   \n",
       "26356  ·       Vận hành hệ thống bảo mật, giữ cho hệ ...   \n",
       "26357  Với mục tiêu mở rộng thêm các Siêu thị, Team P...   \n",
       "26358  - Dạy luyện thi chứng chỉ FE (chứng chỉ chuẩn ...   \n",
       "26359  Với mục tiêu mở rộng thêm các Siêu thị, Team P...   \n",
       "26360  - Thiết kế các ấn phẩm và biên soạn nội dung t...   \n",
       "\n",
       "                                        Job Requirements  \\\n",
       "0      Trình độ: Tốt nghiệp cao đẳng/đại học chuyên n...   \n",
       "1      Tốt nghiệp đại học các chuyên ngành Kinh tế, n...   \n",
       "2                                          Not specified   \n",
       "3      Experience Requirement：\\n-        Over 3 years...   \n",
       "4      -  Tốt nghiệp Đại Học hệ chính qui thuộc các n...   \n",
       "...                                                  ...   \n",
       "26356  Điều kiện ứng tuyển\\n·       Là sinh viên tốt ...   \n",
       "26357  - Nam từ 22 - 30 tuổi. Sức khỏe tốt\\n- Không y...   \n",
       "26358  - Đã có chứng chỉ FE.\\n- Ứng viên cần có kiến ...   \n",
       "26359  - Nam từ 22 - 30 tuổi. Sức khỏe tốt\\n- Không y...   \n",
       "26360  - Là sinh viên Đại học năm 4 các chuyên ngành ...   \n",
       "\n",
       "                                       Other Information  Follower  \\\n",
       "0      Bằng cấp:\\n                Đại học\\nThời gian ...         0   \n",
       "1      Bằng cấp:\\n                Đại học\\nĐộ tuổi:\\n...         0   \n",
       "2      Bằng cấp:\\n                Trung cấp\\nHình thứ...         0   \n",
       "3      Bằng cấp:\\n                Đại học\\nĐộ tuổi:\\n...       169   \n",
       "4      Độ tuổi:\\n                Không giới hạn tuổi\\...       227   \n",
       "...                                                  ...       ...   \n",
       "26356  Bằng cấp:\\n                Đại học\\nĐộ tuổi:\\n...         0   \n",
       "26357  Bằng cấp:\\n                Cao đẳng\\nGiới tính...     20965   \n",
       "26358  Độ tuổi:\\n                Không giới hạn tuổi\\...        98   \n",
       "26359  Bằng cấp:\\n                Cao đẳng\\nGiới tính...     20965   \n",
       "26360  Độ tuổi:\\n                        20 - 22\\nLươ...        92   \n",
       "\n",
       "           Salary  Employment Type: Internship  Employment Type: Part-time  \\\n",
       "0      Cạnh tranh                            0                           0   \n",
       "1      Cạnh tranh                            0                           0   \n",
       "2      Cạnh tranh                            0                           0   \n",
       "3      Cạnh tranh                            0                           0   \n",
       "4      Cạnh tranh                            0                           0   \n",
       "...           ...                          ...                         ...   \n",
       "26356  34500000.0                            0                           0   \n",
       "26357  Cạnh tranh                            0                           0   \n",
       "26358   7000000.0                            0                           1   \n",
       "26359  Cạnh tranh                            0                           0   \n",
       "26360   1900000.0                            1                           0   \n",
       "\n",
       "       Employment Type: Official  Employment Type: Freelance  \n",
       "0                              1                           0  \n",
       "1                              1                           0  \n",
       "2                              0                           0  \n",
       "3                              1                           0  \n",
       "4                              1                           0  \n",
       "...                          ...                         ...  \n",
       "26356                          1                           0  \n",
       "26357                          1                           0  \n",
       "26358                          0                           0  \n",
       "26359                          1                           0  \n",
       "26360                          0                           0  \n",
       "\n",
       "[26361 rows x 15 columns]"
      ]
     },
     "execution_count": 43,
     "metadata": {},
     "output_type": "execute_result"
    }
   ],
   "source": [
    "salary_data"
   ]
  },
  {
   "cell_type": "code",
   "execution_count": 47,
   "metadata": {},
   "outputs": [],
   "source": [
    "salary_data.to_csv('../dataset/pre_translate_data.csv',index=False,encoding='utf-8-sig')    "
   ]
  },
  {
   "cell_type": "markdown",
   "metadata": {},
   "source": [
    "#### Đọc dữ liệu"
   ]
  },
  {
   "cell_type": "code",
   "execution_count": null,
   "metadata": {},
   "outputs": [],
   "source": [
    "raw_data_path='../dataset/pre_translate_data/pre_translate_data.csv'\n",
    "\n",
    "raw_data=pd.read_csv(raw_data_path)"
   ]
  },
  {
   "cell_type": "code",
   "execution_count": null,
   "metadata": {},
   "outputs": [],
   "source": [
    "raw_data.head(5)"
   ]
  },
  {
   "cell_type": "markdown",
   "metadata": {},
   "source": [
    "#### Chuyển cột Employment type sang tiếng anh"
   ]
  },
  {
   "cell_type": "code",
   "execution_count": null,
   "metadata": {},
   "outputs": [],
   "source": [
    "# Tạo từ điển translation_dict\n",
    "employmentType_translation_dict = {\n",
    "    'thực tập': 'internship',\n",
    "    'bán thời gian': 'part-time',\n",
    "    'nhân viên chính thức': 'official',\n",
    "    'thời vụ/ nghề tự do': 'freelance',\n",
    "}\n",
    "\n",
    "def translate_using_dict(text, translation_dict):\n",
    "    for key, value in translation_dict.items():\n",
    "        text = text.replace(key, value)\n",
    "    return text\n",
    "\n",
    "# Áp dụng hàm vào cột 'Employment Type'\n",
    "raw_data['Employment Type'] = raw_data['Employment Type'].apply(lambda x: translate_using_dict(x, employmentType_translation_dict))"
   ]
  },
  {
   "cell_type": "code",
   "execution_count": null,
   "metadata": {},
   "outputs": [],
   "source": [
    "raw_data.head(5)"
   ]
  },
  {
   "cell_type": "markdown",
   "metadata": {},
   "source": [
    "#### Tách các ngành trong Industry và trả về danh sách các ngành"
   ]
  },
  {
   "cell_type": "code",
   "execution_count": null,
   "metadata": {},
   "outputs": [],
   "source": [
    "# Hàm để tách các ngành trong chuỗi và trả về một danh sách ngành\n",
    "def extract_type(text):\n",
    "    # Tách các ngành ra bằng dấu phẩy và loại bỏ khoảng trắng\n",
    "    types = [_type.strip() for _type in text.split(',')]\n",
    "    return types\n",
    "\n",
    "# Áp dụng hàm vào cột 'Industry' và nới rộng thành một danh sách các ngành\n",
    "all_industries = raw_data['Industry'].apply(extract_type).explode()\n",
    "\n",
    "# Đếm số lần xuất hiện của từng ngành\n",
    "industry_counts = all_industries.value_counts()\n",
    "\n",
    "# Hiển thị kết quả\n",
    "print((industry_counts))\n",
    "# Lấy danh sách tên các ngành từ industry_counts\n",
    "industry_names = industry_counts.index.tolist()\n",
    "\n",
    "# In danh sách các ngành\n",
    "print(industry_names)"
   ]
  },
  {
   "cell_type": "markdown",
   "metadata": {},
   "source": [
    "#### Tạo từ điển các ngành bằng tiếng anh và áp dụng vào dữ liệu"
   ]
  },
  {
   "cell_type": "code",
   "execution_count": null,
   "metadata": {},
   "outputs": [],
   "source": [
    "industry_translation_dict = {\n",
    "    'Bán hàng / Kinh doanh': 'sales_business',\n",
    "    'Ngân hàng': 'banking',\n",
    "    'Dịch vụ khách hàng': 'customer_service',\n",
    "    'Tiếp thị / Marketing': 'marketing',\n",
    "    'Bán lẻ / Bán sỉ': 'retail_wholesale',\n",
    "    'Tài chính / Đầu tư': 'finance_investment',\n",
    "    'Kế toán / Kiểm toán': 'accounting_auditing',\n",
    "    'Điện / Điện tử / Điện lạnh': 'electricity_electronics_refrigeration',\n",
    "    'Tư vấn': 'consulting',\n",
    "    'Sản xuất / Vận hành sản xuất': 'manufacturing_operations',\n",
    "    'Cơ khí / Ô tô / Tự động hóa': 'mechanical_automotive_automation',\n",
    "    'Xây dựng': 'construction',\n",
    "    'Hành chính / Thư ký': 'administrative_secretarial',\n",
    "    'Giáo dục / Đào tạo': 'education_training',\n",
    "    'CNTT - Phần mềm': 'it_software',\n",
    "    'Bất động sản': 'real_estate',\n",
    "    'Nhân sự': 'human_resources',\n",
    "    'Quản lý điều hành': 'executive_management',\n",
    "    'Y tế / Chăm sóc sức khỏe': 'healthcare_medical',\n",
    "    'Vận chuyển / Giao nhận /  Kho vận': 'transportation_logistics_warehouse',\n",
    "    'Thực phẩm & Đồ uống': 'food_beverages',\n",
    "    'Dệt may / Da giày / Thời trang': 'textile_leather_fashion',\n",
    "    'Bảo trì / Sửa chữa': 'maintenance_repair',\n",
    "    'Quản lý chất lượng (QA/QC)': 'quality_management_qaqc',\n",
    "    'Tiếp thị trực tuyến': 'online_marketing',\n",
    "    'Xuất nhập khẩu': 'import_export',\n",
    "    'Not Found': 'not_found',\n",
    "    'Quảng cáo / Đối ngoại / Truyền Thông': 'advertising_public_relations_media',\n",
    "    'Dược phẩm': 'pharmaceuticals',\n",
    "    'Biên phiên dịch': 'translation_interpretation',\n",
    "    'Nhà hàng / Khách sạn': 'restaurant_hotel',\n",
    "    'Mỹ thuật / Nghệ thuật / Thiết kế': 'fine_arts_art_design',\n",
    "    'Kiến trúc': 'architecture',\n",
    "    'Luật / Pháp lý': 'law_legal',\n",
    "    'Bảo hiểm': 'insurance',\n",
    "    'Ngành khác': 'other_industries',\n",
    "    'Thu mua / Vật tư': 'procurement_supplies',\n",
    "    'CNTT - Phần cứng / Mạng': 'it_hardware_networking',\n",
    "    'Bưu chính viễn thông': 'postal_telecommunications',\n",
    "    'Nội ngoại thất': 'interior_exterior_design',\n",
    "    'Mới tốt nghiệp / Thực tập': 'new_graduates_internship',\n",
    "    'Du lịch': 'tourism',\n",
    "    'Truyền hình / Báo chí / Biên tập': 'television_journalism_editing',\n",
    "    'Hóa học': 'chemistry',\n",
    "    'Lao động phổ thông': 'manual_labor',\n",
    "    'Công nghệ thực phẩm / Dinh dưỡng': 'food_technology_nutrition',\n",
    "    'Chứng khoán': 'securities',\n",
    "    'Môi trường': 'environment',\n",
    "    'Hàng gia dụng / Chăm sóc cá nhân': 'household_goods_personal_care',\n",
    "    'Công nghệ sinh học': 'biotechnology',\n",
    "    'An toàn lao động': 'occupational_safety',\n",
    "    'Đồ gỗ': 'wooden_goods',\n",
    "    'Tổ chức sự kiện': 'event_organization',\n",
    "    'Nông nghiệp': 'agriculture',\n",
    "    'Thống kê': 'statistics',\n",
    "    'In ấn / Xuất bản': 'printing_publishing',\n",
    "    'Giải trí': 'entertainment',\n",
    "    'An Ninh / Bảo Vệ': 'security_protection',\n",
    "    'Dầu khí': 'oil_gas',\n",
    "    'Hàng không': 'aviation',\n",
    "    'Hàng hải': 'maritime',\n",
    "    'Chăn nuôi / Thú y': 'livestock_veterinary',\n",
    "    'Thủy sản / Hải sản': 'aquaculture_seafood',\n",
    "    'Trắc địa / Địa Chất': 'surveying_geology',\n",
    "    'Khoáng sản': 'minerals',\n",
    "    'Lâm Nghiệp': 'forestry',\n",
    "    'Phi chính phủ / Phi lợi nhuận': 'ngo_non_profit',\n",
    "    'Thủy lợi': 'irrigation',\n",
    "    'Thư viện': 'library'\n",
    "}\n",
    "raw_data['Industry'] = raw_data['Industry'].apply(lambda x: translate_using_dict(x, industry_translation_dict))"
   ]
  },
  {
   "cell_type": "markdown",
   "metadata": {},
   "source": [
    "#### Onehot Encoding cho cột Industry"
   ]
  },
  {
   "cell_type": "code",
   "execution_count": null,
   "metadata": {},
   "outputs": [],
   "source": [
    "# Tạo một DataFrame chứa mỗi giá trị ngành là một cột với one-hot encoding\n",
    "one_hot = raw_data['Industry'].apply(extract_type).explode().str.get_dummies().groupby(level=0).sum()\n",
    "\n",
    "# Đổi tên cột theo định dạng Industry: [industry]\n",
    "one_hot.columns = ['Industry: ' + col for col in one_hot.columns]\n",
    "one_hot.head(5)"
   ]
  },
  {
   "cell_type": "code",
   "execution_count": null,
   "metadata": {},
   "outputs": [],
   "source": [
    "raw_data = pd.concat([raw_data, one_hot], axis=1)"
   ]
  },
  {
   "cell_type": "markdown",
   "metadata": {},
   "source": [
    "#### Lọc ra các chế độ bảo hiểm Welfare"
   ]
  },
  {
   "cell_type": "code",
   "execution_count": null,
   "metadata": {},
   "outputs": [],
   "source": [
    "all_welfares = raw_data['Welfare'].apply(extract_type).explode()\n",
    "\n",
    "# Đếm số lần xuất hiện của từng ngành\n",
    "welfare_counts = all_welfares.value_counts()\n",
    "\n",
    "# Hiển thị kết quả\n",
    "print((welfare_counts))\n",
    "# Lấy danh sách tên các ngành từ industry_counts\n",
    "welfare_names = welfare_counts.index.tolist()\n",
    "\n",
    "# In danh sách các ngành\n",
    "print(welfare_names)"
   ]
  },
  {
   "cell_type": "code",
   "execution_count": null,
   "metadata": {},
   "outputs": [],
   "source": [
    "welfare_translation_dict = {\n",
    "    'Chế độ thưởng': 'bonus',\n",
    "    'Chế độ bảo hiểm': 'insurance',\n",
    "    'Đào tạo': 'training',\n",
    "    'Tăng lương': 'salary_increase',\n",
    "    'Chăm sóc sức khỏe': 'healthcare',\n",
    "    'Du Lịch': 'travel',\n",
    "    'Nghỉ phép năm': 'annual_leave',\n",
    "    'Phụ cấp': 'allowance',\n",
    "    'Đồng phục': 'uniform',\n",
    "    'Công tác phí': 'business_trip_expenses',\n",
    "    'Laptop': 'laptop',\n",
    "    'Phụ cấp thâm niên': 'seniority_allowance',\n",
    "    'CLB thể thao': 'sports_club',\n",
    "    'Du lịch nước ngoài': 'overseas_travel',\n",
    "    'Xe đưa đón': 'shuttle_service',\n",
    "    'Not specified': 'not_specified'\n",
    "}\n",
    "raw_data['Welfare'] = raw_data['Welfare'].apply(lambda x: translate_using_dict(x, welfare_translation_dict))"
   ]
  },
  {
   "cell_type": "markdown",
   "metadata": {},
   "source": [
    "#### Onehot encoding cho Welfare"
   ]
  },
  {
   "cell_type": "code",
   "execution_count": null,
   "metadata": {},
   "outputs": [],
   "source": [
    "# Tạo một DataFrame chứa mỗi giá trị welfare là một cột với one-hot encoding\n",
    "welfare_one_hot = raw_data['Welfare'].apply(extract_type).explode().str.get_dummies().groupby(level=0).sum()\n",
    "\n",
    "# Đổi tên cột theo định dạng Welfare: [welfare]\n",
    "welfare_one_hot.columns = ['Welfare: ' + col for col in welfare_one_hot.columns]\n",
    "\n",
    "# Hiển thị kết quả\n",
    "welfare_one_hot.head(5)"
   ]
  },
  {
   "cell_type": "code",
   "execution_count": null,
   "metadata": {},
   "outputs": [],
   "source": [
    "raw_data = pd.concat([raw_data, welfare_one_hot], axis=1)"
   ]
  },
  {
   "cell_type": "markdown",
   "metadata": {},
   "source": [
    "#### Loại bỏ các kí tự không cần thiết trong Industry, Welfare"
   ]
  },
  {
   "cell_type": "code",
   "execution_count": null,
   "metadata": {},
   "outputs": [],
   "source": [
    "raw_data['Industry'] = raw_data['Industry'].str.replace('\\n', '', regex=False)\n",
    "raw_data['Welfare'] = raw_data['Welfare'].str.replace(' ', '', regex=False)\n",
    "raw_data['Industry'] = raw_data['Industry'].str.replace(' ', '', regex=False)"
   ]
  },
  {
   "cell_type": "markdown",
   "metadata": {},
   "source": [
    "#### Onehot encoding cho Location"
   ]
  },
  {
   "cell_type": "code",
   "execution_count": null,
   "metadata": {},
   "outputs": [],
   "source": [
    "number_to_city = {\n",
    "  0: 'Hai Duong',\n",
    "  1: 'Long An',\n",
    "  2: 'Ha Noi',\n",
    "  3: 'Ho Chi Minh',\n",
    "  4: 'Binh Duong',\n",
    "  5: 'Đong Nai',\n",
    "  6: 'Quang Ngai',\n",
    "  7: 'Vinh Long',\n",
    "  8: 'Lam Đong',\n",
    "  9: 'Can Tho',\n",
    "  10: 'Bac Ninh',\n",
    "  11: 'Dak Lak',\n",
    "  12: 'Gia Lai',\n",
    "  13: 'Bac Giang',\n",
    "  14: 'Binh Thuan',\n",
    "  15: 'Tay Ninh',\n",
    "  16: 'Ba Ria - Vung Tau',\n",
    "  17: 'Ha Nam',\n",
    "  18: 'Thai Binh',\n",
    "  19: 'Bac Lieu',\n",
    "  20: 'Thanh Hoa',\n",
    "  21: 'Binh Đinh',\n",
    "  22: 'Tra Vinh',\n",
    "  23: 'Hoa Binh',\n",
    "  24: 'Đa Nang',\n",
    "  25: 'Hung Yen',\n",
    "  26: 'Hai Phong',\n",
    "  27: 'Kien Giang',\n",
    "  28: 'Vinh Phuc',\n",
    "  29: 'Ha Giang',\n",
    "  30: 'Tuyen Quang',\n",
    "  31: 'Đien Bien',\n",
    "  32: 'Nam Dinh',\n",
    "  33: 'Lang Son',\n",
    "  34: 'Nghe An',\n",
    "  35: 'Quang Tri',\n",
    "  36: 'Quang Ninh',\n",
    "  37: 'Ninh Thuan',\n",
    "  38: 'Đong Thap',\n",
    "  39: 'Quang Nam',\n",
    "  40: 'Thua Thien- Hue',\n",
    "  41: 'Tien Giang',\n",
    "  42: 'Khanh Hoa',\n",
    "  43: 'Phu Yen',\n",
    "  44: 'Quang Binh',\n",
    "  45: 'Hau Giang',\n",
    "  46: 'Binh Phuoc',\n",
    "  47: 'Phu Tho',\n",
    "  48: 'Ninh Binh',\n",
    "  49: 'Thai Nguyen',\n",
    "  50: 'Bac Can',\n",
    "  51: 'Son La',\n",
    "  52: 'Ha Tinh',\n",
    "  53: 'Yen Bai',\n",
    "  54: 'Ca Mau',\n",
    "  55: 'An Giang',\n",
    "  56: 'Ben Tre',\n",
    "  57: 'Lao Cai',\n",
    "  58: 'Soc Trang',\n",
    "  59: 'Cao Bang',\n",
    "  60: 'Dak Nong',\n",
    "  61: 'Kon Tum',\n",
    "  62: 'Lai Chau',\n",
    "  63: 'Nam Đinh',\n",
    "  64: 'Kv Đong Nam Bo',\n",
    "  65: 'Kv Tay Nguyen',\n",
    "  66: 'Kv Nam Trung Bo',\n",
    "  67: 'Kv Bac Trung Bo',\n",
    "  68: 'Đong Bang Song Cuu Long',\n",
    "  69: 'Toan Quoc',\n",
    "  70: 'Not Specified',\n",
    "  71: 'Svay Rieng',\n",
    "  72: 'Tokyo',\n",
    "  73: 'Xiangkhouang',\n",
    "  74: 'Champasak',\n",
    "  75: 'Yokohama',\n",
    "  76: 'Hokkaido',\n",
    "  77: 'Malaysia',\n",
    "  78: 'Attapeu',\n",
    "  79: 'Bangkok',\n",
    "  80: 'Kratie',\n",
    "  81: 'Phnompenh',\n",
    "  82:\"Vientiane\",\n",
    "  83:\"Kuala Lumpur\",\n",
    "  84:\"Quoc Te\"\n",
    "}\n",
    "\n",
    "raw_data['Location'] = raw_data['Location'].map(number_to_city)"
   ]
  },
  {
   "cell_type": "code",
   "execution_count": null,
   "metadata": {},
   "outputs": [],
   "source": [
    "# Áp dụng One-Hot Encoding cho cột 'Location'\n",
    "onehot_encoded = pd.get_dummies(raw_data['Location'], prefix='Location')\n",
    "\n",
    "# Chuyển giá trị True/False thành 1/0\n",
    "onehot_encoded = onehot_encoded.astype(int)\n",
    "\n",
    "# Thêm các cột One-Hot vào DataFrame gốc\n",
    "raw_data = pd.concat([raw_data, onehot_encoded], axis=1)\n",
    "\n",
    "# Kiểm tra kết quả\n",
    "raw_data.head()"
   ]
  },
  {
   "cell_type": "code",
   "execution_count": null,
   "metadata": {},
   "outputs": [],
   "source": [
    "# Danh sách các cột cần loại bỏ\n",
    "columns_to_drop = ['Industry', 'Welfare', 'Location', 'Employment Type']\n",
    "\n",
    "# Loại bỏ các cột\n",
    "raw_data = raw_data.drop(columns=columns_to_drop)"
   ]
  },
  {
   "cell_type": "markdown",
   "metadata": {},
   "source": [
    "#### Chuyển tất cả giá trị của 3 cột Job Description, Job Requirements, Other Information về dạng chữ thường"
   ]
  },
  {
   "cell_type": "code",
   "execution_count": null,
   "metadata": {},
   "outputs": [],
   "source": [
    "raw_data['Job Description'] = raw_data['Job Description'].astype(str).str.lower()\n",
    "raw_data['Job Requirements'] = raw_data['Job Requirements'].astype(str).str.lower()\n",
    "raw_data['Other Information'] = raw_data['Other Information'].astype(str).str.lower()"
   ]
  },
  {
   "cell_type": "markdown",
   "metadata": {},
   "source": [
    "#### Tạo cột mới Language requirement, xác định xem ngoại ngữ có được yêu cầu cho công việc hay không"
   ]
  },
  {
   "cell_type": "code",
   "execution_count": null,
   "metadata": {},
   "outputs": [],
   "source": [
    "# Define the `language_keywords`\n",
    "language_keywords = [\n",
    "    # Tiếng Việt\n",
    "    'tiếng anh', 'tiếng trung', 'tiếng nhật', 'tiếng hàn', 'tiếng pháp', 'tiếng đức', 'tiếng nga', 'tiếng tây ban nha',\n",
    "    'tiếng ý', 'tiếng bồ đào nha', 'tiếng ả rập', 'tiếng thái', 'tiếng việt', 'tiếng ấn độ', 'tiếng ba lan', 'tiếng thụy điển',\n",
    "    'tiếng hà lan', 'tiếng na uy', 'tiếng phạn', 'tiếng la tinh', 'tiếng hy lạp', 'tiếng do thái', 'tiếng séc', 'tiếng hungary', 'nước ngoài',\n",
    "    \n",
    "    'kỹ năng ngoại ngữ', 'trình độ ngoại ngữ', 'chứng chỉ ngoại ngữ', 'giao tiếp quốc tế', 'giao tiếp đa văn hóa',\n",
    "    'phiên dịch viên', 'biên dịch viên', 'giảng viên ngôn ngữ', 'giáo viên ngoại ngữ',\n",
    "    'chuyên gia ngôn ngữ', 'nhà ngôn ngữ học', 'thông dịch viên', 'giảng dạy ngoại ngữ',\n",
    "    'toeic', 'ielts', 'toefl', 'hsk', 'jlpt', 'topik', 'delf', 'dalf', 'testdaf', 'torfl',\n",
    "\n",
    "    # English keywords\n",
    "    'english', 'chinese', 'japanese', 'korean', 'french', 'german', 'russian', 'spanish', 'language', 'communication',\n",
    "    'foreign language', 'multilingual',\n",
    "    'language certification', 'language skills', 'bilingual', 'trilingual', 'native english speaker'\n",
    "]\n",
    "\n",
    "\n",
    "# Define a function to check for language keywords in the text\n",
    "def has_language_requirements(text):\n",
    "    text = text.lower()  # Convert text to lowercase\n",
    "    # Check if any keyword is in the text\n",
    "    return 1 if any(keyword in text for keyword in language_keywords) else 0\n",
    "\n",
    "# Apply the function directly to create the new column\n",
    "raw_data['Language requirement'] = raw_data['Job Requirements'].astype(str).apply(has_language_requirements)"
   ]
  },
  {
   "cell_type": "markdown",
   "metadata": {},
   "source": [
    "#### Tạo cột bằng cấp (Education Levels) xác định bằng cấp được yêu cầu"
   ]
  },
  {
   "cell_type": "code",
   "execution_count": null,
   "metadata": {},
   "outputs": [],
   "source": [
    "# Định nghĩa từ điển trình độ học vấn\n",
    "education_levels_dict = {\n",
    "    # Tiếng Việt\n",
    "    'trung học': 1,\n",
    "    'trung cấp': 2,\n",
    "    'cao đẳng': 3,\n",
    "    'đại học': 4,\n",
    "    'sau đại học': 5,\n",
    "    \n",
    "    # Tiếng Anh\n",
    "    'college': 3,\n",
    "    'university': 4,\n",
    "    'bachelor’s degree': 4,\n",
    "    'master': 5,\n",
    "    'phd': 5,\n",
    "}\n",
    "\n",
    "# Hàm tìm kiếm trình độ học vấn từ các cột\n",
    "def get_education_level(row):\n",
    "    # Kiểm tra trong cột 'Other Information' theo thứ tự từ điển\n",
    "    for keyword, level in education_levels_dict.items():\n",
    "        if keyword.lower() in row['Other Information'].lower():\n",
    "            return level\n",
    "    \n",
    "    # Nếu không tìm thấy trong 'Other Information', kiểm tra trong 'Job Requirements'\n",
    "    for keyword, level in education_levels_dict.items():\n",
    "        if keyword.lower() in row['Job Requirements'].lower():\n",
    "            return level\n",
    "    \n",
    "    # Nếu không tìm thấy trình độ học vấn, trả về NaN hoặc 0\n",
    "    return 0  # hoặc có thể là NaN nếu bạn muốn\n",
    "\n",
    "# Áp dụng hàm trên để tạo cột 'Education Levels'\n",
    "raw_data['Education Levels'] = raw_data.apply(get_education_level, axis=1)"
   ]
  },
  {
   "cell_type": "markdown",
   "metadata": {},
   "source": [
    "#### Dịch cột Job Requirements sang tiếng anh"
   ]
  },
  {
   "cell_type": "code",
   "execution_count": null,
   "metadata": {},
   "outputs": [],
   "source": [
    "#raw_data = parallelize_column(raw_data, column_name='Job Requirements')"
   ]
  },
  {
   "cell_type": "code",
   "execution_count": null,
   "metadata": {},
   "outputs": [],
   "source": [
    "raw_data_path='raw_Data_new.csv'\n",
    "\n",
    "raw_data_neww=pd.read_csv(raw_data_path)\n",
    "raw_data['Job Requirements'] = raw_data_neww['Job Requirements']"
   ]
  },
  {
   "cell_type": "markdown",
   "metadata": {},
   "source": [
    "#### Tạo cột mới Gender Requirement "
   ]
  },
  {
   "cell_type": "code",
   "execution_count": null,
   "metadata": {},
   "outputs": [],
   "source": [
    "# Tạo một hàm để kiểm tra nội dung trong cột 'Job Requirements'\n",
    "def detect_gender(job_requirements):\n",
    "    job_requirements_lower = str(job_requirements).lower()\n",
    "    if 'male' in job_requirements_lower and 'female' in job_requirements_lower and job_requirements_lower.count('male') > 1:\n",
    "        return 'both'\n",
    "    elif 'female' in job_requirements_lower:\n",
    "        return 'female'\n",
    "    elif 'male' in job_requirements_lower:\n",
    "        return 'male'\n",
    "    else:\n",
    "        return 'both'\n",
    "\n",
    "# Áp dụng hàm để tạo cột 'Gender'\n",
    "raw_data['Gender Requirement'] = raw_data['Job Requirements'].apply(detect_gender)"
   ]
  },
  {
   "cell_type": "markdown",
   "metadata": {},
   "source": [
    "#### Onehot Encoding cho cột Gender Requirement"
   ]
  },
  {
   "cell_type": "code",
   "execution_count": null,
   "metadata": {},
   "outputs": [],
   "source": [
    "# Thực hiện One-Hot Encoding cho cột 'Gender Requirement'\n",
    "raw_data = pd.get_dummies(raw_data, columns=['Gender Requirement'], prefix='Gender_requirement')\n",
    "raw_data = raw_data.replace({True: 1, False: 0})\n",
    "# Chuyển đổi giá trị True/False thành 1/0"
   ]
  },
  {
   "cell_type": "markdown",
   "metadata": {},
   "source": [
    "#### Sắp xếp, Loại bỏ các cột đã xử lí và lưu dữ liệu"
   ]
  },
  {
   "cell_type": "code",
   "execution_count": null,
   "metadata": {},
   "outputs": [],
   "source": [
    "# Danh sách các cột cần loại bỏ\n",
    "columns_to_drop = ['Job Requirements', 'Other Information', 'Job Description']\n",
    "\n",
    "# Loại bỏ các cột\n",
    "raw_data = raw_data.drop(columns=columns_to_drop)\n",
    "\n",
    "columns = raw_data.columns.tolist()\n",
    "columns.remove('Education Levels')\n",
    "columns.insert(3, 'Education Levels')\n",
    "# Di chuyển 'Salary' vào vị trí cuối cùng\n",
    "columns.remove('Salary')\n",
    "columns.append('Salary')\n",
    "\n",
    "# Sắp xếp lại DataFrame với thứ tự cột mới\n",
    "raw_data = raw_data[columns]"
   ]
  },
  {
   "cell_type": "code",
   "execution_count": null,
   "metadata": {},
   "outputs": [],
   "source": [
    "raw_data_define_salary = raw_data[raw_data['Salary'] != 'Cạnh tranh']\n",
    "raw_data_undefine_salary = raw_data[raw_data['Salary'] == 'Cạnh tranh']\n",
    "\n",
    "raw_data_define_salary.to_csv('../dataset/Defined_salary.csv', index=False,encoding='utf-8-sig')\n",
    "raw_data_undefine_salary.to_csv('../dataset/Undefined_salary.csv', index=False,encoding='utf-8-sig')"
   ]
  }
 ],
 "metadata": {
  "kernelspec": {
   "display_name": "min_ds-env2",
   "language": "python",
   "name": "python3"
  },
  "language_info": {
   "codemirror_mode": {
    "name": "ipython",
    "version": 3
   },
   "file_extension": ".py",
   "mimetype": "text/x-python",
   "name": "python",
   "nbconvert_exporter": "python",
   "pygments_lexer": "ipython3",
   "version": "3.10.15"
  }
 },
 "nbformat": 4,
 "nbformat_minor": 2
}
