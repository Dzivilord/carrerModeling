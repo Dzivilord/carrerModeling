{
 "cells": [
  {
   "cell_type": "code",
   "execution_count": 1,
   "metadata": {},
   "outputs": [],
   "source": [
    "from Trans_Tokenize import *\n",
    "import numpy as np\n",
    "import matplotlib.pyplot as plt\n",
    "import seaborn as sns\n",
    "import os\n",
    "import sys\n",
    "from sklearn.model_selection import train_test_split\n",
    "\n",
    "import unicodedata"
   ]
  },
  {
   "cell_type": "code",
   "execution_count": 2,
   "metadata": {},
   "outputs": [],
   "source": [
    "raw_data=pd.read_csv('../job_data.csv')"
   ]
  },
  {
   "cell_type": "code",
   "execution_count": 8,
   "metadata": {},
   "outputs": [
    {
     "name": "stdout",
     "output_type": "stream",
     "text": [
      "<class 'pandas.core.frame.DataFrame'>\n",
      "RangeIndex: 9843 entries, 0 to 9842\n",
      "Data columns (total 23 columns):\n",
      " #   Column                Non-Null Count  Dtype \n",
      "---  ------                --------------  ----- \n",
      " 0   Job Name              9843 non-null   object\n",
      " 1   Job Link              9843 non-null   object\n",
      " 2   Location              9843 non-null   object\n",
      " 3   Update Date           9843 non-null   object\n",
      " 4   Deadline              9843 non-null   object\n",
      " 5   Experience            9843 non-null   object\n",
      " 6   Job Level             9843 non-null   object\n",
      " 7   Industry              9843 non-null   object\n",
      " 8   Employment Type       9842 non-null   object\n",
      " 9   Welfare               9843 non-null   object\n",
      " 10  Job Description       9843 non-null   object\n",
      " 11  Job Requirements      9843 non-null   object\n",
      " 12  Other Information     9843 non-null   object\n",
      " 13  Job Tags              9843 non-null   object\n",
      " 14  Company URL           9843 non-null   object\n",
      " 15  Company Name          9486 non-null   object\n",
      " 16  Company Address       9484 non-null   object\n",
      " 17  Company Scale         9486 non-null   object\n",
      " 18  Company Type          9486 non-null   object\n",
      " 19  Company Website       9486 non-null   object\n",
      " 20  Follower              9486 non-null   object\n",
      " 21  Company Introduction  9486 non-null   object\n",
      " 22  Salary                9843 non-null   object\n",
      "dtypes: object(23)\n",
      "memory usage: 1.7+ MB\n"
     ]
    }
   ],
   "source": [
    "raw_data.info()"
   ]
  },
  {
   "cell_type": "code",
   "execution_count": 7,
   "metadata": {},
   "outputs": [
    {
     "data": {
      "text/plain": [
       "Salary\n",
       "Cạnh tranh    3880\n",
       "Name: count, dtype: int64"
      ]
     },
     "execution_count": 7,
     "metadata": {},
     "output_type": "execute_result"
    }
   ],
   "source": [
    "raw_data['Salary'][raw_data['Salary']=='Cạnh tranh'].value_counts()"
   ]
  }
 ],
 "metadata": {
  "kernelspec": {
   "display_name": "Python 3",
   "language": "python",
   "name": "python3"
  },
  "language_info": {
   "codemirror_mode": {
    "name": "ipython",
    "version": 3
   },
   "file_extension": ".py",
   "mimetype": "text/x-python",
   "name": "python",
   "nbconvert_exporter": "python",
   "pygments_lexer": "ipython3",
   "version": "3.12.4"
  }
 },
 "nbformat": 4,
 "nbformat_minor": 2
}
