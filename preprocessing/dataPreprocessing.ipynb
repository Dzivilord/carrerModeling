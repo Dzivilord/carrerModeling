{
 "cells": [
  {
   "cell_type": "code",
   "execution_count": 1,
   "metadata": {},
   "outputs": [],
   "source": [
    "#!pip install pyvi\n",
    "#!pip install stop-words\n",
    "#!pip install stopwords\n",
    "#!pip install googletrans\n",
    "#!pip install google_trans_new\n",
    "#!pip install deep_translator\n"
   ]
  },
  {
   "cell_type": "code",
   "execution_count": 2,
   "metadata": {},
   "outputs": [],
   "source": [
    "from Trans_Tokenize import *\n",
    "import numpy as np\n",
    "import matplotlib.pyplot as plt\n",
    "import seaborn as sns\n",
    "import os\n",
    "import sys\n",
    "from sklearn.model_selection import train_test_split\n",
    "import math\n",
    "import unicodedata"
   ]
  },
  {
   "cell_type": "code",
   "execution_count": 3,
   "metadata": {},
   "outputs": [],
   "source": [
    "raw_data=pd.read_csv('../dataset/job_data.csv')\n",
    "start = 500  # Vị trí bắt đầu (chỉ số hàng)\n",
    "end = 650    # Vị trí kết thúc (không bao gồm hàng này)\n",
    "\n",
    "# Lấy các dòng từ vị trí start đến end\n",
    "raw_data = raw_data.iloc[start:end]"
   ]
  },
  {
   "cell_type": "markdown",
   "metadata": {},
   "source": [
    "### Extract dataframe from few features"
   ]
  },
  {
   "cell_type": "code",
   "execution_count": 5,
   "metadata": {},
   "outputs": [],
   "source": [
    "extracted_data=raw_data[['Company Name','Location','Experience','Job Level','Industry','Employment Type','Welfare','Job Description','Job Requirements','Follower','Company Address','Salary']]"
   ]
  },
  {
   "cell_type": "markdown",
   "metadata": {},
   "source": [
    "### Drop some duplicate job application. Some company create the same after few day and change a bit "
   ]
  },
  {
   "cell_type": "code",
   "execution_count": 6,
   "metadata": {},
   "outputs": [],
   "source": [
    "\n",
    "extracted_data = extracted_data.drop_duplicates(subset=['Job Description','Job Level','Company Name','Location'], keep='first')\n"
   ]
  },
  {
   "cell_type": "markdown",
   "metadata": {},
   "source": [
    "### Format Location"
   ]
  },
  {
   "cell_type": "code",
   "execution_count": null,
   "metadata": {},
   "outputs": [
    {
     "name": "stdout",
     "output_type": "stream",
     "text": [
      "<class 'pandas.core.frame.DataFrame'>\n",
      "Index: 147 entries, 500 to 649\n",
      "Data columns (total 12 columns):\n",
      " #   Column            Non-Null Count  Dtype \n",
      "---  ------            --------------  ----- \n",
      " 0   Company Name      147 non-null    object\n",
      " 1   Location          147 non-null    object\n",
      " 2   Experience        147 non-null    object\n",
      " 3   Job Level         147 non-null    object\n",
      " 4   Industry          147 non-null    object\n",
      " 5   Employment Type   147 non-null    object\n",
      " 6   Welfare           147 non-null    object\n",
      " 7   Job Description   147 non-null    object\n",
      " 8   Job Requirements  147 non-null    object\n",
      " 9   Follower          147 non-null    object\n",
      " 10  Company Address   147 non-null    object\n",
      " 11  Salary            147 non-null    object\n",
      "dtypes: object(12)\n",
      "memory usage: 14.9+ KB\n"
     ]
    }
   ],
   "source": [
    "\n",
    "extracted_data['Location'] = extracted_data['Location'].apply(lambda x: x.title())\n",
    "\n",
    "extracted_data['Location'] = extracted_data['Location'].apply(lambda x: x.split(',')[0].strip() if ',' in x else x.strip())\n",
    "\n",
    "filtered_location_data = extracted_data[~extracted_data['Location'].isin(['Not Specified', 'Not Found'])]\n",
    "\n"
   ]
  },
  {
   "cell_type": "markdown",
   "metadata": {},
   "source": [
    "### Experience prepossessing"
   ]
  },
  {
   "cell_type": "code",
   "execution_count": 8,
   "metadata": {},
   "outputs": [],
   "source": [
    "def extract_all_numbers(value):\n",
    "    value = value.replace(',', '')\n",
    "    value = value.replace('.', '')\n",
    "    numbers = re.findall(r'\\d+', value)\n",
    "    numbers = [int(num) for num in numbers]\n",
    "    \n",
    "    if len(numbers) > 1 and (numbers[1] / numbers[0] > 2):\n",
    "        return numbers[0]\n",
    "    elif numbers:\n",
    "        return sum(numbers) / len(numbers)  # Tính trung bình nếu có số\n",
    "    return 0  \n",
    " "
   ]
  },
  {
   "cell_type": "code",
   "execution_count": 9,
   "metadata": {},
   "outputs": [],
   "source": [
    "filtered_location_data.loc[:, 'Experience'] = filtered_location_data['Experience'].apply(extract_all_numbers)\n",
    "filtered_experience_data = filtered_location_data"
   ]
  },
  {
   "cell_type": "markdown",
   "metadata": {},
   "source": [
    "### Industry data"
   ]
  },
  {
   "cell_type": "code",
   "execution_count": 11,
   "metadata": {},
   "outputs": [],
   "source": [
    "\n",
    "filtered_experience_data.loc[:,'Industry'] = filtered_experience_data['Industry'].apply(translate_column)"
   ]
  },
  {
   "cell_type": "code",
   "execution_count": 12,
   "metadata": {},
   "outputs": [],
   "source": [
    "filtered_experience_data.loc[:,'Industry']=filtered_experience_data['Industry'].apply(process_tokenization_english)"
   ]
  },
  {
   "cell_type": "markdown",
   "metadata": {},
   "source": [
    "### Employment Type"
   ]
  },
  {
   "cell_type": "code",
   "execution_count": 13,
   "metadata": {},
   "outputs": [],
   "source": [
    "filtered_employee_data=filtered_experience_data.copy()\n",
    "#filtered_employee_data['Employment Type'].value_counts()"
   ]
  },
  {
   "cell_type": "code",
   "execution_count": 14,
   "metadata": {},
   "outputs": [],
   "source": [
    "filtered_employee_data.loc[:, 'Employment Type'] = filtered_employee_data['Employment Type'].replace({\n",
    "    'Toàn thời gian': 'Official',\n",
    "    'Nhân viên chính thức': 'Official',\n",
    "    'Thời vụ/ Nghề tự do': 'Part-time'\n",
    "})"
   ]
  },
  {
   "cell_type": "markdown",
   "metadata": {},
   "source": [
    "### Job Level preprocessing"
   ]
  },
  {
   "cell_type": "code",
   "execution_count": 15,
   "metadata": {},
   "outputs": [],
   "source": [
    "filtered_job_level_data = filtered_employee_data.copy()\n",
    "filtered_job_level_data.loc[:, 'Job Level'] = filtered_job_level_data['Job Level'].replace({\n",
    "    'Nhân viên': 'Employee',\n",
    "    'Trưởng nhóm / Giám sát': 'Leader',\n",
    "    'Quản lý': 'Manager',\n",
    "    'Giám đốc': 'Chief',\n",
    "})"
   ]
  },
  {
   "cell_type": "markdown",
   "metadata": {},
   "source": [
    "### Welfare preprocessing"
   ]
  },
  {
   "cell_type": "code",
   "execution_count": 16,
   "metadata": {},
   "outputs": [],
   "source": [
    "filtered_job_level_data.loc[:,'Welfare'] = filtered_job_level_data['Welfare'].apply(translate_column)"
   ]
  },
  {
   "cell_type": "code",
   "execution_count": 17,
   "metadata": {},
   "outputs": [],
   "source": [
    "filtered_job_level_data.loc[:,'Welfare']=filtered_job_level_data['Welfare'].apply(process_tokenization_english)"
   ]
  },
  {
   "cell_type": "code",
   "execution_count": 21,
   "metadata": {},
   "outputs": [],
   "source": [
    "filtered_welfare_data=filtered_job_level_data.copy()    "
   ]
  },
  {
   "cell_type": "markdown",
   "metadata": {},
   "source": [
    "### Follower preprocessing"
   ]
  },
  {
   "cell_type": "code",
   "execution_count": 24,
   "metadata": {},
   "outputs": [],
   "source": [
    "\n",
    "filtered_follower_data = filtered_welfare_data.copy()\n",
    "filtered_follower_data['Follower'] = filtered_follower_data['Follower'].astype(str)\n",
    "\n",
    "filtered_follower_data['Follower'] = filtered_follower_data['Follower'].replace('nan', '0').replace('Not Found', '0').replace('Not specified', '0')\n",
    "\n",
    "filtered_follower_data['Follower'] = filtered_follower_data['Follower'].apply(lambda x: int(x.replace('.', '')))\n"
   ]
  },
  {
   "cell_type": "markdown",
   "metadata": {},
   "source": [
    "### Job Requirements Preprocessing"
   ]
  },
  {
   "cell_type": "code",
   "execution_count": 25,
   "metadata": {},
   "outputs": [],
   "source": [
    "filtered_requirement_data=filtered_follower_data.copy()\n",
    "filtered_requirement_data['Job Requirements'] = filtered_requirement_data['Job Requirements'].replace(\n",
    "    ['', 'Not Found', 'not found', 'Not specifield', 'Not Specifield'], \n",
    "    'No requirements needed')\n"
   ]
  },
  {
   "cell_type": "code",
   "execution_count": 26,
   "metadata": {},
   "outputs": [],
   "source": [
    "filtered_requirement_data.loc[:,'Job Requirements'] = filtered_requirement_data['Job Requirements'].apply(translate_column)"
   ]
  },
  {
   "cell_type": "code",
   "execution_count": 27,
   "metadata": {},
   "outputs": [],
   "source": [
    "filtered_requirement_data.loc[:,'Job Requirements']=filtered_requirement_data['Job Requirements'].apply(process_tokenization_english)"
   ]
  },
  {
   "cell_type": "markdown",
   "metadata": {},
   "source": [
    "### Salary preprocessing"
   ]
  },
  {
   "cell_type": "code",
   "execution_count": 28,
   "metadata": {},
   "outputs": [],
   "source": [
    "import re\n",
    "import math\n",
    "\n",
    "def extract_salary(value):\n",
    "    # Loại bỏ dấu phẩy trong số (để xử lý 700,000 => 700000)\n",
    "    value = value.replace(',', '')\n",
    "    value = value.replace('.', '')\n",
    "    # Tách các con số trong chuỗi\n",
    "    numbers = re.findall(r'\\d+', value)\n",
    "    numbers = [int(num) for num in numbers]  # Chuyển các chuỗi số thành integer\n",
    "    \n",
    "    # Nếu có khoảng lương\n",
    "    if len(numbers) > 1:\n",
    "        # Nếu khoảng chênh lệch giữa hai giá trị quá lớn (ví dụ: 700 - 1,000 USD)\n",
    "        if (numbers[1] - numbers[0]) / numbers[0] > 0.5:\n",
    "            salary = numbers[0] + (numbers[1] - numbers[0]) / 4  # Đoán mức lương trung bình trong khoảng\n",
    "        else:\n",
    "            salary = sum(numbers) / len(numbers)  # Tính trung bình nếu khoảng cách hợp lý\n",
    "    elif numbers:\n",
    "        # Trường hợp chỉ có một số (mức lương cố định)\n",
    "        salary = sum(numbers) / len(numbers)\n",
    "    else:\n",
    "        # Nếu không có giá trị số (có thể là \"Cạnh tranh\" hay tương tự)\n",
    "        return 'Cạnh tranh'\n",
    "    \n",
    "    # Kiểm tra các đơn vị tiền tệ và chuyển đổi\n",
    "    if any(unit in value.lower() for unit in ['triệu', 'tr']):\n",
    "        salary *= 1_000_000  # Nếu là triệu, nhân với 1,000,000\n",
    "    elif any(unit in value.lower() for unit in ['usd', 'đô la', '$', 'đô']):\n",
    "        salary *= 23_000  # Nếu là USD, nhân với tỷ giá (ví dụ: 1 USD = 23,000 VND)\n",
    "\n",
    "    # Kiểm tra nếu là mức lương theo năm và chuyển sang mức lương tháng\n",
    "    if any(unit in value.lower() for unit in ['năm', 'year']):\n",
    "        salary /= 12  # Chia cho 12 để chuyển từ lương năm sang lương tháng\n",
    "\n",
    "    # Làm tròn kết quả về bội số gần nhất của 100,000\n",
    "    return math.ceil(round(salary, -5))\n",
    "\n"
   ]
  },
  {
   "cell_type": "code",
   "execution_count": 29,
   "metadata": {},
   "outputs": [],
   "source": [
    "filtered_salary_data = filtered_requirement_data.copy()\n",
    "\n",
    "filtered_salary_data['Salary'] = filtered_salary_data['Salary'].replace(\n",
    "    ['0','Thỏa thuận', 'Negotiable', 'Not Specified', 'Not Found', 'not found', 'Not specifield'], \n",
    "    np.nan)\n",
    "filtered_salary_data['Salary'] = filtered_salary_data['Salary'].apply(extract_salary)"
   ]
  },
  {
   "cell_type": "code",
   "execution_count": 30,
   "metadata": {},
   "outputs": [
    {
     "data": {
      "text/plain": [
       "Salary\n",
       "Cạnh tranh    57\n",
       "11000000       6\n",
       "10000000       6\n",
       "9000000        5\n",
       "18800000       5\n",
       "9800000        4\n",
       "20000000       4\n",
       "10500000       4\n",
       "15500000       3\n",
       "17500000       3\n",
       "8000000        3\n",
       "12500000       3\n",
       "25000000       3\n",
       "10200000       2\n",
       "17000000       2\n",
       "14000000       2\n",
       "14800000       2\n",
       "22500000       2\n",
       "35000000       2\n",
       "15000000       2\n",
       "80000000       2\n",
       "12000000       2\n",
       "7000000        2\n",
       "37500000       1\n",
       "41000000       1\n",
       "18000000       1\n",
       "5000000        1\n",
       "28800000       1\n",
       "14400000       1\n",
       "8200000        1\n",
       "19500000       1\n",
       "37000000       1\n",
       "16200000       1\n",
       "21500000       1\n",
       "75000000       1\n",
       "13200000       1\n",
       "23800000       1\n",
       "8500000        1\n",
       "7500000        1\n",
       "12200000       1\n",
       "13500000       1\n",
       "19000000       1\n",
       "23000000       1\n",
       "13000000       1\n",
       "Name: count, dtype: int64"
      ]
     },
     "execution_count": 30,
     "metadata": {},
     "output_type": "execute_result"
    }
   ],
   "source": [
    "filtered_salary_data['Salary'].value_counts()"
   ]
  },
  {
   "cell_type": "code",
   "execution_count": 31,
   "metadata": {},
   "outputs": [],
   "source": [
    "processed_data=filtered_salary_data[['Location','Experience','Job Level','Industry','Employment Type','Welfare','Job Requirements','Follower','Salary']]"
   ]
  },
  {
   "cell_type": "markdown",
   "metadata": {},
   "source": [
    "### Reduced Token\n"
   ]
  },
  {
   "cell_type": "code",
   "execution_count": 32,
   "metadata": {},
   "outputs": [],
   "source": [
    "def remove_common_tokens(row):\n",
    "    # Đảm bảo cả hai cột là chuỗi trước khi split\n",
    "    job_requirements_text = ' '.join(row['Job Requirements']) if isinstance(row['Job Requirements'], list) else row['Job Requirements']\n",
    "    welfare_text = ' '.join(row['Welfare']) if isinstance(row['Welfare'], list) else row['Welfare']\n",
    "    \n",
    "    # Tách các từ trong cả hai cột và chuyển thành set\n",
    "    job_requirements_tokens = set(job_requirements_text.split())\n",
    "    welfare_tokens = set(welfare_text.split())\n",
    "    \n",
    "    # Xóa các từ chung giữa Job Requirements và Welfare\n",
    "    unique_tokens = job_requirements_tokens - welfare_tokens\n",
    "    \n",
    "    # Gộp các từ còn lại thành chuỗi và trả về\n",
    "    return unique_tokens"
   ]
  },
  {
   "cell_type": "code",
   "execution_count": null,
   "metadata": {},
   "outputs": [],
   "source": [
    "\n",
    "processed_data.loc[:,'Job Requirements'] = processed_data.apply(remove_common_tokens, axis=1)\n"
   ]
  },
  {
   "cell_type": "code",
   "execution_count": 37,
   "metadata": {},
   "outputs": [
    {
     "name": "stdout",
     "output_type": "stream",
     "text": [
      "<class 'pandas.core.frame.DataFrame'>\n",
      "Index: 147 entries, 500 to 649\n",
      "Data columns (total 9 columns):\n",
      " #   Column            Non-Null Count  Dtype \n",
      "---  ------            --------------  ----- \n",
      " 0   Location          147 non-null    object\n",
      " 1   Experience        147 non-null    object\n",
      " 2   Job Level         147 non-null    object\n",
      " 3   Industry          147 non-null    object\n",
      " 4   Employment Type   147 non-null    object\n",
      " 5   Welfare           147 non-null    object\n",
      " 6   Job Requirements  147 non-null    object\n",
      " 7   Follower          147 non-null    int64 \n",
      " 8   Salary            147 non-null    object\n",
      "dtypes: int64(1), object(8)\n",
      "memory usage: 11.5+ KB\n"
     ]
    }
   ],
   "source": [
    "processed_data.info()"
   ]
  },
  {
   "cell_type": "markdown",
   "metadata": {},
   "source": [
    "### Separate and write file"
   ]
  },
  {
   "cell_type": "code",
   "execution_count": 34,
   "metadata": {},
   "outputs": [],
   "source": [
    "Defined_salary=processed_data[processed_data['Salary']!='Cạnh tranh']\n",
    "Undefined_salary=processed_data[processed_data['Salary']=='Cạnh tranh']"
   ]
  },
  {
   "cell_type": "code",
   "execution_count": 35,
   "metadata": {},
   "outputs": [],
   "source": [
    "Defined_salary.to_csv('../dataset/Defined_salary.csv', index=False,encoding='utf-8-sig')\n",
    "Undefined_salary.to_csv('../dataset/Undefined_salary.csv', index=False,encoding='utf-8-sig')"
   ]
  }
 ],
 "metadata": {
  "kernelspec": {
   "display_name": "Python 3",
   "language": "python",
   "name": "python3"
  },
  "language_info": {
   "codemirror_mode": {
    "name": "ipython",
    "version": 3
   },
   "file_extension": ".py",
   "mimetype": "text/x-python",
   "name": "python",
   "nbconvert_exporter": "python",
   "pygments_lexer": "ipython3",
   "version": "3.12.4"
  }
 },
 "nbformat": 4,
 "nbformat_minor": 2
}
