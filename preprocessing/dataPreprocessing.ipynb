{
 "cells": [
  {
   "cell_type": "code",
   "execution_count": 92,
   "metadata": {},
   "outputs": [],
   "source": [
    "# !pip install pyvi\n",
    "# !pip install stop-words\n",
    "# !pip install stopwords\n",
    "# !pip install googletrans\n",
    "# !pip install google_trans_new\n",
    "# !pip install deep_translator\n",
    "# !pip install swifter\n",
    "# !pip install nltk"
   ]
  },
  {
   "cell_type": "code",
   "execution_count": 93,
   "metadata": {},
   "outputs": [
    {
     "name": "stderr",
     "output_type": "stream",
     "text": [
      "[nltk_data] Downloading package stopwords to\n",
      "[nltk_data]     C:\\Users\\quocn\\AppData\\Roaming\\nltk_data...\n",
      "[nltk_data]   Package stopwords is already up-to-date!\n"
     ]
    },
    {
     "data": {
      "text/plain": [
       "True"
      ]
     },
     "execution_count": 93,
     "metadata": {},
     "output_type": "execute_result"
    }
   ],
   "source": [
    "from Trans_Tokenize import *\n",
    "import numpy as np\n",
    "import matplotlib.pyplot as plt\n",
    "import seaborn as sns\n",
    "import os\n",
    "import sys\n",
    "from sklearn.model_selection import train_test_split\n",
    "import math\n",
    "import unicodedata\n",
    "import swifter\n",
    "import nltk\n",
    "from concurrent.futures import ThreadPoolExecutor\n",
    "nltk.download('stopwords')"
   ]
  },
  {
   "cell_type": "code",
   "execution_count": 94,
   "metadata": {},
   "outputs": [],
   "source": [
    "raw_data_path='../dataset/job_data.csv'\n",
    "\n",
    "raw_data=pd.read_csv(raw_data_path)"
   ]
  },
  {
   "cell_type": "markdown",
   "metadata": {},
   "source": [
    "### Extract dataframe from few features"
   ]
  },
  {
   "cell_type": "code",
   "execution_count": 95,
   "metadata": {},
   "outputs": [],
   "source": [
    "extracted_data=raw_data[['Company Name','Location','Experience','Job Level','Industry','Employment Type','Welfare','Job Description','Job Requirements','Follower','Company Address','Salary']]"
   ]
  },
  {
   "cell_type": "markdown",
   "metadata": {},
   "source": [
    "### Drop some duplicate job application. Some company create the same after few day and change a bit "
   ]
  },
  {
   "cell_type": "code",
   "execution_count": null,
   "metadata": {},
   "outputs": [],
   "source": [
    "\n",
    "# extracted_data = extracted_data.drop_duplicates(subset=['Job Description','Job Level','Company Name','Location'], keep='first')\n"
   ]
  },
  {
   "cell_type": "markdown",
   "metadata": {},
   "source": [
    "### Format Location"
   ]
  },
  {
   "cell_type": "code",
   "execution_count": 97,
   "metadata": {},
   "outputs": [],
   "source": [
    "\n",
    "def remove_diacritics(text):\n",
    "    return ''.join(\n",
    "        c for c in unicodedata.normalize('NFD', text)\n",
    "        if unicodedata.category(c) != 'Mn'\n",
    "    )"
   ]
  },
  {
   "cell_type": "code",
   "execution_count": 98,
   "metadata": {},
   "outputs": [],
   "source": [
    "\n",
    "extracted_data['Location'] = extracted_data['Location'].apply(lambda x: x.title())\n",
    "\n",
    "extracted_data['Location'] = extracted_data['Location'].apply(lambda x: x.split(',')[0].strip() if ',' in x else x.strip())\n",
    "extracted_data['Location'] = extracted_data['Location'].apply(remove_diacritics)\n",
    "\n",
    "filtered_location_data = extracted_data[~extracted_data['Location'].isin(['Not Specified', 'Not Found'])]\n",
    "\n"
   ]
  },
  {
   "cell_type": "markdown",
   "metadata": {},
   "source": [
    "### Experience prepossessing"
   ]
  },
  {
   "cell_type": "code",
   "execution_count": 99,
   "metadata": {},
   "outputs": [],
   "source": [
    "def extract_all_numbers(value):\n",
    "    value = value.replace(',', '')\n",
    "    value = value.replace('.', '')\n",
    "    numbers = re.findall(r'\\d+', value)\n",
    "    numbers = [int(num) for num in numbers]\n",
    "    \n",
    "    if len(numbers) > 1 and (numbers[1] / numbers[0] > 2):\n",
    "        return numbers[0]\n",
    "    elif numbers:\n",
    "        return sum(numbers) / len(numbers)  # Tính trung bình nếu có số\n",
    "    return 0  \n",
    " "
   ]
  },
  {
   "cell_type": "code",
   "execution_count": 100,
   "metadata": {},
   "outputs": [],
   "source": [
    "filtered_location_data.loc[:, 'Experience'] = filtered_location_data['Experience'].apply(extract_all_numbers)\n",
    "filtered_experience_data = filtered_location_data"
   ]
  },
  {
   "cell_type": "markdown",
   "metadata": {},
   "source": [
    "### Industry data"
   ]
  },
  {
   "cell_type": "code",
   "execution_count": 101,
   "metadata": {},
   "outputs": [
    {
     "name": "stdout",
     "output_type": "stream",
     "text": [
      "Đã xử lý xong 3 trên tổng số 144 dòng của cột Industry.\n",
      "Đã xử lý xong 6 trên tổng số 144 dòng của cột Industry.\n",
      "Đã xử lý xong 9 trên tổng số 144 dòng của cột Industry.\n",
      "Đã xử lý xong 12 trên tổng số 144 dòng của cột Industry.\n",
      "Đã xử lý xong 15 trên tổng số 144 dòng của cột Industry.\n",
      "Đã xử lý xong 18 trên tổng số 144 dòng của cột Industry.\n",
      "Đã xử lý xong 21 trên tổng số 144 dòng của cột Industry.\n",
      "Đã xử lý xong 24 trên tổng số 144 dòng của cột Industry.\n",
      "Đã xử lý xong 27 trên tổng số 144 dòng của cột Industry.\n",
      "Đã xử lý xong 30 trên tổng số 144 dòng của cột Industry.\n",
      "Đã xử lý xong 33 trên tổng số 144 dòng của cột Industry.\n",
      "Đã xử lý xong 36 trên tổng số 144 dòng của cột Industry.\n",
      "Đã xử lý xong 39 trên tổng số 144 dòng của cột Industry.\n",
      "Đã xử lý xong 42 trên tổng số 144 dòng của cột Industry.\n",
      "Đã xử lý xong 45 trên tổng số 144 dòng của cột Industry.\n",
      "Đã xử lý xong 48 trên tổng số 144 dòng của cột Industry.\n",
      "Đã xử lý xong 51 trên tổng số 144 dòng của cột Industry.\n",
      "Đã xử lý xong 54 trên tổng số 144 dòng của cột Industry.\n",
      "Đã xử lý xong 57 trên tổng số 144 dòng của cột Industry.\n",
      "Đã xử lý xong 60 trên tổng số 144 dòng của cột Industry.\n",
      "Đã xử lý xong 63 trên tổng số 144 dòng của cột Industry.\n",
      "Đã xử lý xong 66 trên tổng số 144 dòng của cột Industry.\n",
      "Đã xử lý xong 69 trên tổng số 144 dòng của cột Industry.\n",
      "Đã xử lý xong 72 trên tổng số 144 dòng của cột Industry.\n",
      "Đã xử lý xong 75 trên tổng số 144 dòng của cột Industry.\n",
      "Đã xử lý xong 78 trên tổng số 144 dòng của cột Industry.\n",
      "Đã xử lý xong 81 trên tổng số 144 dòng của cột Industry.\n",
      "Đã xử lý xong 84 trên tổng số 144 dòng của cột Industry.\n",
      "Đã xử lý xong 87 trên tổng số 144 dòng của cột Industry.\n",
      "Đã xử lý xong 90 trên tổng số 144 dòng của cột Industry.\n",
      "Đã xử lý xong 93 trên tổng số 144 dòng của cột Industry.\n",
      "Đã xử lý xong 96 trên tổng số 144 dòng của cột Industry.\n",
      "Đã xử lý xong 99 trên tổng số 144 dòng của cột Industry.\n",
      "Đã xử lý xong 102 trên tổng số 144 dòng của cột Industry.\n",
      "Đã xử lý xong 105 trên tổng số 144 dòng của cột Industry.\n",
      "Đã xử lý xong 107 trên tổng số 144 dòng của cột Industry.\n",
      "Đã xử lý xong 109 trên tổng số 144 dòng của cột Industry.\n",
      "Đã xử lý xong 111 trên tổng số 144 dòng của cột Industry.\n",
      "Đã xử lý xong 114 trên tổng số 144 dòng của cột Industry.\n",
      "Đã xử lý xong 117 trên tổng số 144 dòng của cột Industry.\n",
      "Đã xử lý xong 120 trên tổng số 144 dòng của cột Industry.\n",
      "Đã xử lý xong 123 trên tổng số 144 dòng của cột Industry.\n",
      "Đã xử lý xong 126 trên tổng số 144 dòng của cột Industry.\n",
      "Đã xử lý xong 129 trên tổng số 144 dòng của cột Industry.\n",
      "Đã xử lý xong 132 trên tổng số 144 dòng của cột Industry.\n",
      "Đã xử lý xong 134 trên tổng số 144 dòng của cột Industry.\n",
      "Đã xử lý xong 136 trên tổng số 144 dòng của cột Industry.\n",
      "Đã xử lý xong 138 trên tổng số 144 dòng của cột Industry.\n",
      "Đã xử lý xong 141 trên tổng số 144 dòng của cột Industry.\n",
      "Đã xử lý xong 144 trên tổng số 144 dòng của cột Industry.\n"
     ]
    }
   ],
   "source": [
    "filtered_experience_data = parallelize_column(filtered_experience_data, column_name='Industry')"
   ]
  },
  {
   "cell_type": "code",
   "execution_count": 102,
   "metadata": {},
   "outputs": [],
   "source": [
    "filtered_experience_data.loc[:,'Industry']=filtered_experience_data['Industry'].apply(process_tokenization_english)"
   ]
  },
  {
   "cell_type": "markdown",
   "metadata": {},
   "source": [
    "### Employment Type"
   ]
  },
  {
   "cell_type": "code",
   "execution_count": 103,
   "metadata": {},
   "outputs": [],
   "source": [
    "filtered_employee_data=filtered_experience_data.copy()\n",
    "#filtered_employee_data['Employment Type'].value_counts()"
   ]
  },
  {
   "cell_type": "code",
   "execution_count": 104,
   "metadata": {},
   "outputs": [],
   "source": [
    "filtered_employee_data.loc[:, 'Employment Type'] = filtered_employee_data['Employment Type'].replace({\n",
    "    'Toàn thời gian': 'Official',\n",
    "    'Nhân viên chính thức': 'Official',\n",
    "    'Thời vụ/ Nghề tự do': 'Part-time',\n",
    "    'Thực tập':'Internship'\n",
    "})"
   ]
  },
  {
   "cell_type": "markdown",
   "metadata": {},
   "source": [
    "### Job Level preprocessing"
   ]
  },
  {
   "cell_type": "code",
   "execution_count": 105,
   "metadata": {},
   "outputs": [],
   "source": [
    "filtered_job_level_data = filtered_employee_data.copy()\n",
    "filtered_job_level_data.loc[:, 'Job Level'] = filtered_job_level_data['Job Level'].replace({\n",
    "    'Nhân viên': 'Employee',\n",
    "    'Trưởng nhóm / Giám sát': 'Leader',\n",
    "    'Quản lý': 'Manager',\n",
    "    'Giám đốc': 'Chief',\n",
    "    'Sinh viên/ Thực tập sinh':'Intership',\n",
    "})"
   ]
  },
  {
   "cell_type": "markdown",
   "metadata": {},
   "source": [
    "### Welfare preprocessing"
   ]
  },
  {
   "cell_type": "code",
   "execution_count": 106,
   "metadata": {},
   "outputs": [
    {
     "name": "stdout",
     "output_type": "stream",
     "text": [
      "Đã xử lý xong 3 trên tổng số 144 dòng của cột Welfare.\n",
      "Đã xử lý xong 6 trên tổng số 144 dòng của cột Welfare.\n",
      "Đã xử lý xong 9 trên tổng số 144 dòng của cột Welfare.\n",
      "Đã xử lý xong 12 trên tổng số 144 dòng của cột Welfare.\n",
      "Đã xử lý xong 15 trên tổng số 144 dòng của cột Welfare.\n",
      "Đã xử lý xong 18 trên tổng số 144 dòng của cột Welfare.\n",
      "Đã xử lý xong 21 trên tổng số 144 dòng của cột Welfare.\n",
      "Đã xử lý xong 24 trên tổng số 144 dòng của cột Welfare.\n",
      "Đã xử lý xong 27 trên tổng số 144 dòng của cột Welfare.\n",
      "Đã xử lý xong 30 trên tổng số 144 dòng của cột Welfare.\n",
      "Đã xử lý xong 33 trên tổng số 144 dòng của cột Welfare.\n",
      "Đã xử lý xong 36 trên tổng số 144 dòng của cột Welfare.\n",
      "Đã xử lý xong 39 trên tổng số 144 dòng của cột Welfare.\n",
      "Đã xử lý xong 42 trên tổng số 144 dòng của cột Welfare.\n",
      "Đã xử lý xong 45 trên tổng số 144 dòng của cột Welfare.\n",
      "Đã xử lý xong 48 trên tổng số 144 dòng của cột Welfare.\n",
      "Đã xử lý xong 51 trên tổng số 144 dòng của cột Welfare.\n",
      "Đã xử lý xong 54 trên tổng số 144 dòng của cột Welfare.\n",
      "Đã xử lý xong 57 trên tổng số 144 dòng của cột Welfare.\n",
      "Đã xử lý xong 60 trên tổng số 144 dòng của cột Welfare.\n",
      "Đã xử lý xong 63 trên tổng số 144 dòng của cột Welfare.\n",
      "Đã xử lý xong 66 trên tổng số 144 dòng của cột Welfare.\n",
      "Đã xử lý xong 69 trên tổng số 144 dòng của cột Welfare.\n",
      "Đã xử lý xong 72 trên tổng số 144 dòng của cột Welfare.\n",
      "Đã xử lý xong 75 trên tổng số 144 dòng của cột Welfare.\n",
      "Đã xử lý xong 78 trên tổng số 144 dòng của cột Welfare.\n",
      "Đã xử lý xong 81 trên tổng số 144 dòng của cột Welfare.\n",
      "Đã xử lý xong 84 trên tổng số 144 dòng của cột Welfare.\n",
      "Đã xử lý xong 87 trên tổng số 144 dòng của cột Welfare.\n",
      "Đã xử lý xong 90 trên tổng số 144 dòng của cột Welfare.\n",
      "Đã xử lý xong 93 trên tổng số 144 dòng của cột Welfare.\n",
      "Đã xử lý xong 96 trên tổng số 144 dòng của cột Welfare.\n",
      "Đã xử lý xong 99 trên tổng số 144 dòng của cột Welfare.\n",
      "Đã xử lý xong 102 trên tổng số 144 dòng của cột Welfare.\n",
      "Đã xử lý xong 105 trên tổng số 144 dòng của cột Welfare.\n",
      "Đã xử lý xong 108 trên tổng số 144 dòng của cột Welfare.\n",
      "Đã xử lý xong 111 trên tổng số 144 dòng của cột Welfare.\n",
      "Đã xử lý xong 114 trên tổng số 144 dòng của cột Welfare.\n",
      "Đã xử lý xong 117 trên tổng số 144 dòng của cột Welfare.\n",
      "Đã xử lý xong 119 trên tổng số 144 dòng của cột Welfare.\n",
      "Đã xử lý xong 122 trên tổng số 144 dòng của cột Welfare.\n",
      "Đã xử lý xong 124 trên tổng số 144 dòng của cột Welfare.\n",
      "Đã xử lý xong 126 trên tổng số 144 dòng của cột Welfare.\n",
      "Đã xử lý xong 129 trên tổng số 144 dòng của cột Welfare.\n",
      "Đã xử lý xong 132 trên tổng số 144 dòng của cột Welfare.\n",
      "Đã xử lý xong 134 trên tổng số 144 dòng của cột Welfare.\n",
      "Đã xử lý xong 136 trên tổng số 144 dòng của cột Welfare.\n",
      "Đã xử lý xong 139 trên tổng số 144 dòng của cột Welfare.\n",
      "Đã xử lý xong 141 trên tổng số 144 dòng của cột Welfare.\n",
      "Đã xử lý xong 144 trên tổng số 144 dòng của cột Welfare.\n"
     ]
    }
   ],
   "source": [
    "filtered_experience_data = parallelize_column(filtered_experience_data, column_name='Welfare')"
   ]
  },
  {
   "cell_type": "code",
   "execution_count": 107,
   "metadata": {},
   "outputs": [],
   "source": [
    "filtered_job_level_data.loc[:,'Welfare']=filtered_job_level_data['Welfare'].apply(process_tokenization_english)"
   ]
  },
  {
   "cell_type": "code",
   "execution_count": 108,
   "metadata": {},
   "outputs": [],
   "source": [
    "filtered_welfare_data=filtered_job_level_data.copy()    "
   ]
  },
  {
   "cell_type": "markdown",
   "metadata": {},
   "source": [
    "### Follower preprocessing"
   ]
  },
  {
   "cell_type": "code",
   "execution_count": 109,
   "metadata": {},
   "outputs": [],
   "source": [
    "\n",
    "filtered_follower_data = filtered_welfare_data.copy()\n",
    "filtered_follower_data['Follower'] = filtered_follower_data['Follower'].astype(str)\n",
    "\n",
    "filtered_follower_data['Follower'] = filtered_follower_data['Follower'].replace('nan', '0').replace('Not Found', '0').replace('Not specified', '0')\n",
    "\n",
    "filtered_follower_data['Follower'] = filtered_follower_data['Follower'].apply(lambda x: int(x.replace('.', '')))\n"
   ]
  },
  {
   "cell_type": "markdown",
   "metadata": {},
   "source": [
    "### Job Requirements Preprocessing"
   ]
  },
  {
   "cell_type": "code",
   "execution_count": 110,
   "metadata": {},
   "outputs": [],
   "source": [
    "filtered_requirement_data=filtered_follower_data.copy()\n",
    "filtered_requirement_data['Job Requirements'] = filtered_requirement_data['Job Requirements'].replace(\n",
    "    ['', 'Not Found', 'not found', 'Not specifield', 'Not Specifield'], \n",
    "    'No requirements needed')\n"
   ]
  },
  {
   "cell_type": "code",
   "execution_count": 111,
   "metadata": {},
   "outputs": [
    {
     "name": "stdout",
     "output_type": "stream",
     "text": [
      "Đã xử lý xong 3 trên tổng số 144 dòng của cột Job Requirements.\n",
      "Đã xử lý xong 6 trên tổng số 144 dòng của cột Job Requirements.\n",
      "Đã xử lý xong 9 trên tổng số 144 dòng của cột Job Requirements.\n",
      "Đã xử lý xong 12 trên tổng số 144 dòng của cột Job Requirements.\n",
      "Đã xử lý xong 15 trên tổng số 144 dòng của cột Job Requirements.\n",
      "Đã xử lý xong 18 trên tổng số 144 dòng của cột Job Requirements.\n",
      "Đã xử lý xong 21 trên tổng số 144 dòng của cột Job Requirements.\n",
      "Đã xử lý xong 24 trên tổng số 144 dòng của cột Job Requirements.\n",
      "Đã xử lý xong 27 trên tổng số 144 dòng của cột Job Requirements.\n",
      "Đã xử lý xong 30 trên tổng số 144 dòng của cột Job Requirements.\n",
      "Đã xử lý xong 33 trên tổng số 144 dòng của cột Job Requirements.\n",
      "Đã xử lý xong 36 trên tổng số 144 dòng của cột Job Requirements.\n",
      "Đã xử lý xong 39 trên tổng số 144 dòng của cột Job Requirements.\n",
      "Đã xử lý xong 42 trên tổng số 144 dòng của cột Job Requirements.\n",
      "Đã xử lý xong 45 trên tổng số 144 dòng của cột Job Requirements.\n",
      "Đã xử lý xong 48 trên tổng số 144 dòng của cột Job Requirements.\n",
      "Đã xử lý xong 51 trên tổng số 144 dòng của cột Job Requirements.\n",
      "Đã xử lý xong 54 trên tổng số 144 dòng của cột Job Requirements.\n",
      "Đã xử lý xong 57 trên tổng số 144 dòng của cột Job Requirements.\n",
      "Đã xử lý xong 60 trên tổng số 144 dòng của cột Job Requirements.\n",
      "Đã xử lý xong 63 trên tổng số 144 dòng của cột Job Requirements.\n",
      "Đã xử lý xong 66 trên tổng số 144 dòng của cột Job Requirements.\n",
      "Đã xử lý xong 69 trên tổng số 144 dòng của cột Job Requirements.\n",
      "Đã xử lý xong 72 trên tổng số 144 dòng của cột Job Requirements.\n",
      "Đã xử lý xong 75 trên tổng số 144 dòng của cột Job Requirements.\n",
      "Đã xử lý xong 78 trên tổng số 144 dòng của cột Job Requirements.\n",
      "Đã xử lý xong 81 trên tổng số 144 dòng của cột Job Requirements.\n",
      "Đã xử lý xong 84 trên tổng số 144 dòng của cột Job Requirements.\n",
      "Đã xử lý xong 87 trên tổng số 144 dòng của cột Job Requirements.\n",
      "Đã xử lý xong 90 trên tổng số 144 dòng của cột Job Requirements.\n",
      "Đã xử lý xong 93 trên tổng số 144 dòng của cột Job Requirements.\n",
      "Đã xử lý xong 96 trên tổng số 144 dòng của cột Job Requirements.\n",
      "Đã xử lý xong 98 trên tổng số 144 dòng của cột Job Requirements.\n",
      "Đã xử lý xong 101 trên tổng số 144 dòng của cột Job Requirements.\n",
      "Đã xử lý xong 104 trên tổng số 144 dòng của cột Job Requirements.\n",
      "Đã xử lý xong 107 trên tổng số 144 dòng của cột Job Requirements.\n",
      "Đã xử lý xong 110 trên tổng số 144 dòng của cột Job Requirements.\n",
      "Đã xử lý xong 113 trên tổng số 144 dòng của cột Job Requirements.\n",
      "Đã xử lý xong 115 trên tổng số 144 dòng của cột Job Requirements.\n",
      "Đã xử lý xong 117 trên tổng số 144 dòng của cột Job Requirements.\n",
      "Đã xử lý xong 120 trên tổng số 144 dòng của cột Job Requirements.\n",
      "Đã xử lý xong 123 trên tổng số 144 dòng của cột Job Requirements.\n",
      "Đã xử lý xong 126 trên tổng số 144 dòng của cột Job Requirements.\n",
      "Đã xử lý xong 128 trên tổng số 144 dòng của cột Job Requirements.\n",
      "Đã xử lý xong 130 trên tổng số 144 dòng của cột Job Requirements.\n",
      "Đã xử lý xong 132 trên tổng số 144 dòng của cột Job Requirements.\n",
      "Đã xử lý xong 135 trên tổng số 144 dòng của cột Job Requirements.\n",
      "Đã xử lý xong 138 trên tổng số 144 dòng của cột Job Requirements.\n",
      "Đã xử lý xong 141 trên tổng số 144 dòng của cột Job Requirements.\n",
      "Đã xử lý xong 144 trên tổng số 144 dòng của cột Job Requirements.\n"
     ]
    }
   ],
   "source": [
    "filtered_experience_data = parallelize_column(filtered_experience_data, column_name='Job Requirements')"
   ]
  },
  {
   "cell_type": "code",
   "execution_count": 112,
   "metadata": {},
   "outputs": [],
   "source": [
    "filtered_requirement_data.loc[:,'Job Requirements']=filtered_requirement_data['Job Requirements'].apply(process_tokenization_english)"
   ]
  },
  {
   "cell_type": "markdown",
   "metadata": {},
   "source": [
    "### Salary preprocessing"
   ]
  },
  {
   "cell_type": "code",
   "execution_count": 113,
   "metadata": {},
   "outputs": [],
   "source": [
    "import re\n",
    "import math\n",
    "\n",
    "def extract_salary(value):\n",
    "    # Loại bỏ dấu phẩy trong số (để xử lý 700,000 => 700000)\n",
    "    value = value.replace(',', '')\n",
    "    value = value.replace('.', '')\n",
    "    \n",
    "    # Tách các con số trong chuỗi\n",
    "    numbers = re.findall(r'\\d+', value)\n",
    "    numbers = [int(num) for num in numbers]  # Chuyển các chuỗi số thành integer\n",
    "    \n",
    "    # Nếu có khoảng lương\n",
    "    if len(numbers) > 1:\n",
    "        # Nếu khoảng chênh lệch giữa hai giá trị quá lớn (ví dụ: 700 - 1,000 USD)\n",
    "        if (numbers[1] - numbers[0]) / numbers[0] > 0.5:\n",
    "            salary = numbers[0] + (numbers[1] - numbers[0]) / 4  # Đoán mức lương trung bình trong khoảng\n",
    "        else:\n",
    "            salary = sum(numbers) / len(numbers)  \n",
    "    elif numbers:\n",
    "        # Trường hợp chỉ có một số\n",
    "        salary = sum(numbers) / len(numbers)\n",
    "    else:\n",
    "        return 'Cạnh tranh'\n",
    "    \n",
    "    # Kiểm tra các đơn vị tiền tệ và chuyển đổi\n",
    "    if any(unit in value.lower() for unit in ['triệu', 'tr']):\n",
    "        salary *= 1_000_000  \n",
    "    elif any(unit in value.lower() for unit in ['usd', 'đô la', '$', 'đô']):\n",
    "        salary *= 23_000  \n",
    "\n",
    "    \n",
    "    if any(unit in value.lower() for unit in ['năm', 'year']):\n",
    "        salary /= 12  \n",
    "\n",
    "    # Làm tròn kết quả về bội số gần nhất của 100,000\n",
    "    return math.ceil(round(salary, -5))\n",
    "\n"
   ]
  },
  {
   "cell_type": "code",
   "execution_count": 114,
   "metadata": {},
   "outputs": [],
   "source": [
    "filtered_salary_data = filtered_requirement_data.copy()\n",
    "\n",
    "filtered_salary_data['Salary'] = filtered_salary_data['Salary'].replace(\n",
    "    ['0','Thỏa thuận', 'Negotiable', 'Not Specified', 'Not Found', 'not found', 'Not specifield'], \n",
    "    np.nan)\n",
    "filtered_salary_data['Salary'] = filtered_salary_data['Salary'].apply(extract_salary)"
   ]
  },
  {
   "cell_type": "code",
   "execution_count": 115,
   "metadata": {},
   "outputs": [
    {
     "data": {
      "text/plain": [
       "Salary\n",
       "Cạnh tranh    59\n",
       "13000000       6\n",
       "20000000       6\n",
       "11500000       6\n",
       "17500000       5\n",
       "13500000       5\n",
       "11000000       5\n",
       "14000000       4\n",
       "10000000       4\n",
       "25000000       4\n",
       "12500000       4\n",
       "15000000       4\n",
       "30000000       3\n",
       "28800000       2\n",
       "23500000       2\n",
       "41000000       2\n",
       "22500000       2\n",
       "35000000       2\n",
       "22000000       2\n",
       "18200000       2\n",
       "17000000       2\n",
       "16200000       2\n",
       "40000000       2\n",
       "19000000       1\n",
       "9500000        1\n",
       "12200000       1\n",
       "8200000        1\n",
       "73500000       1\n",
       "17200000       1\n",
       "21000000       1\n",
       "12400000       1\n",
       "24000000       1\n",
       "Name: count, dtype: int64"
      ]
     },
     "execution_count": 115,
     "metadata": {},
     "output_type": "execute_result"
    }
   ],
   "source": [
    "filtered_salary_data['Salary'].value_counts()"
   ]
  },
  {
   "cell_type": "code",
   "execution_count": null,
   "metadata": {},
   "outputs": [],
   "source": [
    "processed_data=filtered_salary_data[['Location','Experience','Job Level','Industry','Employment Type','Welfare','Job Requirements','Follower','Salary']]"
   ]
  },
  {
   "cell_type": "markdown",
   "metadata": {},
   "source": [
    "### Reduced Token\n"
   ]
  },
  {
   "cell_type": "code",
   "execution_count": 117,
   "metadata": {},
   "outputs": [],
   "source": [
    "def remove_common_tokens(row):\n",
    "    # Đảm bảo cả hai cột là chuỗi trước khi split\n",
    "    job_requirements_text = ' '.join(row['Job Requirements']) if isinstance(row['Job Requirements'], list) else row['Job Requirements']\n",
    "    welfare_text = ' '.join(row['Welfare']) if isinstance(row['Welfare'], list) else row['Welfare']\n",
    "    \n",
    "    # Tách các từ trong cả hai cột và chuyển thành set\n",
    "    job_requirements_tokens = set(job_requirements_text.split())\n",
    "    welfare_tokens = set(welfare_text.split())\n",
    "    \n",
    "    # Xóa các từ chung giữa Job Requirements và Welfare\n",
    "    unique_tokens = job_requirements_tokens - welfare_tokens\n",
    "    \n",
    "    # Gộp các từ còn lại thành chuỗi và trả về\n",
    "    return unique_tokens"
   ]
  },
  {
   "cell_type": "code",
   "execution_count": 118,
   "metadata": {},
   "outputs": [
    {
     "ename": "AttributeError",
     "evalue": "'set' object has no attribute 'split'",
     "output_type": "error",
     "traceback": [
      "\u001b[1;31m---------------------------------------------------------------------------\u001b[0m",
      "\u001b[1;31mAttributeError\u001b[0m                            Traceback (most recent call last)",
      "Cell \u001b[1;32mIn[118], line 1\u001b[0m\n\u001b[1;32m----> 1\u001b[0m processed_data\u001b[38;5;241m.\u001b[39mloc[:,\u001b[38;5;124m'\u001b[39m\u001b[38;5;124mJob Requirements\u001b[39m\u001b[38;5;124m'\u001b[39m] \u001b[38;5;241m=\u001b[39m \u001b[43mprocessed_data\u001b[49m\u001b[38;5;241;43m.\u001b[39;49m\u001b[43mapply\u001b[49m\u001b[43m(\u001b[49m\u001b[43mremove_common_tokens\u001b[49m\u001b[43m,\u001b[49m\u001b[43m \u001b[49m\u001b[43maxis\u001b[49m\u001b[38;5;241;43m=\u001b[39;49m\u001b[38;5;241;43m1\u001b[39;49m\u001b[43m)\u001b[49m\n",
      "File \u001b[1;32mc:\\Users\\quocn\\anaconda3\\Lib\\site-packages\\pandas\\core\\frame.py:10034\u001b[0m, in \u001b[0;36mDataFrame.apply\u001b[1;34m(self, func, axis, raw, result_type, args, by_row, **kwargs)\u001b[0m\n\u001b[0;32m  10022\u001b[0m \u001b[38;5;28;01mfrom\u001b[39;00m \u001b[38;5;21;01mpandas\u001b[39;00m\u001b[38;5;21;01m.\u001b[39;00m\u001b[38;5;21;01mcore\u001b[39;00m\u001b[38;5;21;01m.\u001b[39;00m\u001b[38;5;21;01mapply\u001b[39;00m \u001b[38;5;28;01mimport\u001b[39;00m frame_apply\n\u001b[0;32m  10024\u001b[0m op \u001b[38;5;241m=\u001b[39m frame_apply(\n\u001b[0;32m  10025\u001b[0m     \u001b[38;5;28mself\u001b[39m,\n\u001b[0;32m  10026\u001b[0m     func\u001b[38;5;241m=\u001b[39mfunc,\n\u001b[1;32m   (...)\u001b[0m\n\u001b[0;32m  10032\u001b[0m     kwargs\u001b[38;5;241m=\u001b[39mkwargs,\n\u001b[0;32m  10033\u001b[0m )\n\u001b[1;32m> 10034\u001b[0m \u001b[38;5;28;01mreturn\u001b[39;00m \u001b[43mop\u001b[49m\u001b[38;5;241;43m.\u001b[39;49m\u001b[43mapply\u001b[49m\u001b[43m(\u001b[49m\u001b[43m)\u001b[49m\u001b[38;5;241m.\u001b[39m__finalize__(\u001b[38;5;28mself\u001b[39m, method\u001b[38;5;241m=\u001b[39m\u001b[38;5;124m\"\u001b[39m\u001b[38;5;124mapply\u001b[39m\u001b[38;5;124m\"\u001b[39m)\n",
      "File \u001b[1;32mc:\\Users\\quocn\\anaconda3\\Lib\\site-packages\\pandas\\core\\apply.py:837\u001b[0m, in \u001b[0;36mFrameApply.apply\u001b[1;34m(self)\u001b[0m\n\u001b[0;32m    834\u001b[0m \u001b[38;5;28;01melif\u001b[39;00m \u001b[38;5;28mself\u001b[39m\u001b[38;5;241m.\u001b[39mraw:\n\u001b[0;32m    835\u001b[0m     \u001b[38;5;28;01mreturn\u001b[39;00m \u001b[38;5;28mself\u001b[39m\u001b[38;5;241m.\u001b[39mapply_raw()\n\u001b[1;32m--> 837\u001b[0m \u001b[38;5;28;01mreturn\u001b[39;00m \u001b[38;5;28;43mself\u001b[39;49m\u001b[38;5;241;43m.\u001b[39;49m\u001b[43mapply_standard\u001b[49m\u001b[43m(\u001b[49m\u001b[43m)\u001b[49m\n",
      "File \u001b[1;32mc:\\Users\\quocn\\anaconda3\\Lib\\site-packages\\pandas\\core\\apply.py:965\u001b[0m, in \u001b[0;36mFrameApply.apply_standard\u001b[1;34m(self)\u001b[0m\n\u001b[0;32m    964\u001b[0m \u001b[38;5;28;01mdef\u001b[39;00m \u001b[38;5;21mapply_standard\u001b[39m(\u001b[38;5;28mself\u001b[39m):\n\u001b[1;32m--> 965\u001b[0m     results, res_index \u001b[38;5;241m=\u001b[39m \u001b[38;5;28;43mself\u001b[39;49m\u001b[38;5;241;43m.\u001b[39;49m\u001b[43mapply_series_generator\u001b[49m\u001b[43m(\u001b[49m\u001b[43m)\u001b[49m\n\u001b[0;32m    967\u001b[0m     \u001b[38;5;66;03m# wrap results\u001b[39;00m\n\u001b[0;32m    968\u001b[0m     \u001b[38;5;28;01mreturn\u001b[39;00m \u001b[38;5;28mself\u001b[39m\u001b[38;5;241m.\u001b[39mwrap_results(results, res_index)\n",
      "File \u001b[1;32mc:\\Users\\quocn\\anaconda3\\Lib\\site-packages\\pandas\\core\\apply.py:981\u001b[0m, in \u001b[0;36mFrameApply.apply_series_generator\u001b[1;34m(self)\u001b[0m\n\u001b[0;32m    978\u001b[0m \u001b[38;5;28;01mwith\u001b[39;00m option_context(\u001b[38;5;124m\"\u001b[39m\u001b[38;5;124mmode.chained_assignment\u001b[39m\u001b[38;5;124m\"\u001b[39m, \u001b[38;5;28;01mNone\u001b[39;00m):\n\u001b[0;32m    979\u001b[0m     \u001b[38;5;28;01mfor\u001b[39;00m i, v \u001b[38;5;129;01min\u001b[39;00m \u001b[38;5;28menumerate\u001b[39m(series_gen):\n\u001b[0;32m    980\u001b[0m         \u001b[38;5;66;03m# ignore SettingWithCopy here in case the user mutates\u001b[39;00m\n\u001b[1;32m--> 981\u001b[0m         results[i] \u001b[38;5;241m=\u001b[39m \u001b[38;5;28;43mself\u001b[39;49m\u001b[38;5;241;43m.\u001b[39;49m\u001b[43mfunc\u001b[49m\u001b[43m(\u001b[49m\u001b[43mv\u001b[49m\u001b[43m,\u001b[49m\u001b[43m \u001b[49m\u001b[38;5;241;43m*\u001b[39;49m\u001b[38;5;28;43mself\u001b[39;49m\u001b[38;5;241;43m.\u001b[39;49m\u001b[43margs\u001b[49m\u001b[43m,\u001b[49m\u001b[43m \u001b[49m\u001b[38;5;241;43m*\u001b[39;49m\u001b[38;5;241;43m*\u001b[39;49m\u001b[38;5;28;43mself\u001b[39;49m\u001b[38;5;241;43m.\u001b[39;49m\u001b[43mkwargs\u001b[49m\u001b[43m)\u001b[49m\n\u001b[0;32m    982\u001b[0m         \u001b[38;5;28;01mif\u001b[39;00m \u001b[38;5;28misinstance\u001b[39m(results[i], ABCSeries):\n\u001b[0;32m    983\u001b[0m             \u001b[38;5;66;03m# If we have a view on v, we need to make a copy because\u001b[39;00m\n\u001b[0;32m    984\u001b[0m             \u001b[38;5;66;03m#  series_generator will swap out the underlying data\u001b[39;00m\n\u001b[0;32m    985\u001b[0m             results[i] \u001b[38;5;241m=\u001b[39m results[i]\u001b[38;5;241m.\u001b[39mcopy(deep\u001b[38;5;241m=\u001b[39m\u001b[38;5;28;01mFalse\u001b[39;00m)\n",
      "Cell \u001b[1;32mIn[117], line 7\u001b[0m, in \u001b[0;36mremove_common_tokens\u001b[1;34m(row)\u001b[0m\n\u001b[0;32m      4\u001b[0m welfare_text \u001b[38;5;241m=\u001b[39m \u001b[38;5;124m'\u001b[39m\u001b[38;5;124m \u001b[39m\u001b[38;5;124m'\u001b[39m\u001b[38;5;241m.\u001b[39mjoin(row[\u001b[38;5;124m'\u001b[39m\u001b[38;5;124mWelfare\u001b[39m\u001b[38;5;124m'\u001b[39m]) \u001b[38;5;28;01mif\u001b[39;00m \u001b[38;5;28misinstance\u001b[39m(row[\u001b[38;5;124m'\u001b[39m\u001b[38;5;124mWelfare\u001b[39m\u001b[38;5;124m'\u001b[39m], \u001b[38;5;28mlist\u001b[39m) \u001b[38;5;28;01melse\u001b[39;00m row[\u001b[38;5;124m'\u001b[39m\u001b[38;5;124mWelfare\u001b[39m\u001b[38;5;124m'\u001b[39m]\n\u001b[0;32m      6\u001b[0m \u001b[38;5;66;03m# Tách các từ trong cả hai cột và chuyển thành set\u001b[39;00m\n\u001b[1;32m----> 7\u001b[0m job_requirements_tokens \u001b[38;5;241m=\u001b[39m \u001b[38;5;28mset\u001b[39m(\u001b[43mjob_requirements_text\u001b[49m\u001b[38;5;241;43m.\u001b[39;49m\u001b[43msplit\u001b[49m())\n\u001b[0;32m      8\u001b[0m welfare_tokens \u001b[38;5;241m=\u001b[39m \u001b[38;5;28mset\u001b[39m(welfare_text\u001b[38;5;241m.\u001b[39msplit())\n\u001b[0;32m     10\u001b[0m \u001b[38;5;66;03m# Xóa các từ chung giữa Job Requirements và Welfare\u001b[39;00m\n",
      "\u001b[1;31mAttributeError\u001b[0m: 'set' object has no attribute 'split'"
     ]
    }
   ],
   "source": [
    "\n",
    "processed_data.loc[:,'Job Requirements'] = processed_data.apply(remove_common_tokens, axis=1)\n"
   ]
  },
  {
   "cell_type": "code",
   "execution_count": null,
   "metadata": {},
   "outputs": [
    {
     "name": "stdout",
     "output_type": "stream",
     "text": [
      "<class 'pandas.core.frame.DataFrame'>\n",
      "Index: 144 entries, 0 to 9714\n",
      "Data columns (total 9 columns):\n",
      " #   Column            Non-Null Count  Dtype \n",
      "---  ------            --------------  ----- \n",
      " 0   Location          144 non-null    object\n",
      " 1   Experience        144 non-null    object\n",
      " 2   Job Level         144 non-null    object\n",
      " 3   Industry          144 non-null    object\n",
      " 4   Employment Type   144 non-null    object\n",
      " 5   Welfare           144 non-null    object\n",
      " 6   Job Requirements  144 non-null    object\n",
      " 7   Follower          144 non-null    int64 \n",
      " 8   Salary            144 non-null    object\n",
      "dtypes: int64(1), object(8)\n",
      "memory usage: 11.2+ KB\n"
     ]
    }
   ],
   "source": [
    "processed_data.info()"
   ]
  },
  {
   "cell_type": "markdown",
   "metadata": {},
   "source": [
    "### Separate and write file"
   ]
  },
  {
   "cell_type": "code",
   "execution_count": null,
   "metadata": {},
   "outputs": [],
   "source": [
    "Defined_salary=processed_data[processed_data['Salary']!='Cạnh tranh']\n",
    "Undefined_salary=processed_data[processed_data['Salary']=='Cạnh tranh']"
   ]
  },
  {
   "cell_type": "code",
   "execution_count": null,
   "metadata": {},
   "outputs": [],
   "source": [
    "Defined_salary.to_csv('../dataset/Defined_salary.csv', index=False,encoding='utf-8-sig')\n",
    "Undefined_salary.to_csv('../dataset/Undefined_salary.csv', index=False,encoding='utf-8-sig')"
   ]
  }
 ],
 "metadata": {
  "kernelspec": {
   "display_name": "base",
   "language": "python",
   "name": "python3"
  },
  "language_info": {
   "codemirror_mode": {
    "name": "ipython",
    "version": 3
   },
   "file_extension": ".py",
   "mimetype": "text/x-python",
   "name": "python",
   "nbconvert_exporter": "python",
   "pygments_lexer": "ipython3",
   "version": "3.11.7"
  }
 },
 "nbformat": 4,
 "nbformat_minor": 2
}
